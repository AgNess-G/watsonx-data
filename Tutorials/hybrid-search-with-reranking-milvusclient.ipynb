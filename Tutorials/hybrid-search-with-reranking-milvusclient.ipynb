{
 "cells": [
  {
   "cell_type": "markdown",
   "metadata": {
    "id": "a378bde1cc304b4681fab76d5e71c90d"
   },
   "source": [
    "# MILVUS Demo - Multi Vector Hybrid Search with Reranking using MilvusClient"
   ]
  },
  {
   "cell_type": "markdown",
   "metadata": {},
   "source": [
    "# Hybrid (dense+sparse embedding) Search with Milvus in watsonx.data\n",
    "\n",
    "## Disclaimers\n",
    "- Use only Projects and Spaces that are available in watsonx context.\n",
    "\n",
    "## Overview\n",
    "### Audience\n",
    "This notebook demonstrates how to implement advanced search techniques using a hybrid search approach combined with reranking strategies.\n",
    "The scenario presented in this notebook assumes you have a dataset requiring effective search capabilities, where a combination of traditional search (e.g., keyword-based) and modern embedding-based techniques is leveraged to improve retrieval quality. The reranking process further enhances the relevance of results by applying a secondary scoring mechanism to the initial search output.\n",
    "This notebook is designed for people interested in building or improving search systems. \n",
    "\n",
    "Some familiarity with Python programming, search algorithms, and basic machine learning concepts is recommended. The code runs with Python 3.10 or later.\n",
    "### Learning goal\n",
    "This notebook demonstrates similarity search support in watsonx.data using hybrid approach using dense embeddings and sparse embeddings, introducing commands for:\n",
    "- Connecting to Milvus\n",
    "- Creating collections\n",
    "- Creating indexes\n",
    "- Generate Dense Embeddings\n",
    "- Generate Sparse Embeddings\n",
    "- Ingesting data\n",
    "- Data retrieval\n",
    "\n",
    "\n",
    "### About Milvus \n",
    "\n",
    "Milvus is an open-source vector database designed specifically for scalable similarity search and AI applications. It's a powerful platform that enables efficient storage, indexing, and retrieval of vector embeddings, which are crucial in modern machine learning and artificial intelligence tasks.[ To know more, visit Milvus Documentation](https://www.ibm.com/docs/en/watsonx/watsonxdata/2.1.x?topic=components-milvus)\n",
    "\n",
    "### Milvus: Three Fundamental Steps\n",
    "\n",
    "#### 1. Data Preparation\n",
    "Collect and convert your data into high-dimensional vector embeddings. These vectors are typically generated using machine learning models like neural networks, which transform text, images, audio, or other data types into dense numerical representations that capture semantic meaning and relationships.\n",
    "\n",
    "#### 2. Vector Insertion\n",
    "Load the dense vector embeddings and sparse vector embeddings into Milvus collections or partitions within a database. Milvus creates indexes to optimize subsequent search operations, supporting various indexing algorithms like IVF-FLAT, HNSW, etc., based on the definition.\n",
    "\n",
    "#### 3. Similarity Search\n",
    "Perform vector similarity searches by providing a query vector and a reranking weight. Milvus will rapidly return the most similar vectors from the collection or partitions based on the defined metrics like cosine similarity, Euclidean distance, or inner product and the reranking weight.\n",
    "\n",
    "### Why Hybrid search?\n",
    "Hybrid vector search leverages the combined strengths of sparse and dense vectors to deliver more accurate and relevant results. Dense vectors excel at capturing the deep semantic meaning of data, enabling better understanding and context-aware retrieval. Sparse vectors, on the other hand, are effective for capturing specific features or exact matches, such as keyword occurrences. By integrating both semantic context and feature matching, hybrid search ensures an approach that outperforms using than either method alone, making it particularly powerful for real-world search scenarios.\n",
    "\n",
    "### Key Workflow\n",
    "\n",
    "1. **Definition** (once)\n",
    "2. **Ingestion** (once)\n",
    "3. **Retrieve relevant passage(s)** (for every user query)\n",
    "\n",
    "## Contents\n",
    "\n",
    "- Environment Setup\n",
    "- Install packages\n",
    "- Document data loading\n",
    "- Create connection\n",
    "- Ingest data\n",
    "- Retrieve relevant data\n",
    "\n",
    "## Environment Setup\n",
    "\n",
    "Before using the sample code in this notebook, complete the following setup tasks:\n",
    "\n",
    "- Create a Watsonx.data instance (a free plan is offered)\n",
    "  - Information about creating a watsonx.data instance can be found [here](https://www.ibm.com/docs/en/watsonx/watsonxdata/2.0.x)\n",
    "\n"
   ]
  },
  {
   "cell_type": "markdown",
   "metadata": {
    "id": "a23c91bdeeb94490a16b7eb19e3e085d"
   },
   "source": [
    "## Install required packages"
   ]
  },
  {
   "cell_type": "code",
   "execution_count": 1,
   "metadata": {},
   "outputs": [],
   "source": [
    "%%capture\n",
    "!pip install numpy\n"
   ]
  },
  {
   "cell_type": "code",
   "execution_count": 2,
   "metadata": {},
   "outputs": [],
   "source": [
    "%%capture\n",
    "!pip install torch"
   ]
  },
  {
   "cell_type": "code",
   "execution_count": 3,
   "metadata": {},
   "outputs": [],
   "source": [
    "%%capture\n",
    "!pip install sentence-transformers\n"
   ]
  },
  {
   "cell_type": "markdown",
   "metadata": {},
   "source": [
    "### Install Pymilvus SDK"
   ]
  },
  {
   "cell_type": "code",
   "execution_count": null,
   "metadata": {},
   "outputs": [
    {
     "name": "stdout",
     "output_type": "stream",
     "text": [
      "Name: pymilvus\n",
      "Version: 2.5.3\n",
      "Summary: Python Sdk for Milvus\n",
      "Home-page: \n",
      "Author: \n",
      "Author-email: Milvus Team <milvus-team@zilliz.com>\n",
      "License: \n",
      "Location: /opt/homebrew/lib/python3.11/site-packages\n",
      "Requires: grpcio, milvus-lite, pandas, protobuf, python-dotenv, setuptools, ujson\n",
      "Required-by: \n",
      "Note: you may need to restart the kernel to use updated packages.\n"
     ]
    }
   ],
   "source": [
    "# !pip install pymilvus\n",
    "# Restart Kernal\n",
    "!pip show pymilvus"
   ]
  },
  {
   "cell_type": "markdown",
   "metadata": {},
   "source": [
    "### Post pymilvus installations"
   ]
  },
  {
   "cell_type": "code",
   "execution_count": 5,
   "metadata": {
    "id": "ab4fc075167f45a284a0f0b28edafd2d"
   },
   "outputs": [],
   "source": [
    "\n",
    "import psutil\n",
    "import sys\n",
    "import numpy as np\n",
    "import time\n",
    "import pandas as pd\n",
    "from pymilvus import MilvusClient, DataType, CollectionSchema, FieldSchema,utility,connections,Collection\n"
   ]
  },
  {
   "cell_type": "code",
   "execution_count": 6,
   "metadata": {},
   "outputs": [],
   "source": [
    "%%capture\n",
    "%pip install \"pymilvus[model]\"\n"
   ]
  },
  {
   "cell_type": "code",
   "execution_count": 7,
   "metadata": {},
   "outputs": [],
   "source": [
    "%%capture\n",
    "%pip install tensorflow\n"
   ]
  },
  {
   "cell_type": "code",
   "execution_count": 8,
   "metadata": {},
   "outputs": [],
   "source": [
    "%%capture\n",
    "%pip install --upgrade transformers\n"
   ]
  },
  {
   "cell_type": "markdown",
   "metadata": {},
   "source": [
    "#### Setting Up BM25 and SentenceTransformer for Text Analysis"
   ]
  },
  {
   "cell_type": "code",
   "execution_count": 9,
   "metadata": {},
   "outputs": [
    {
     "name": "stderr",
     "output_type": "stream",
     "text": [
      "/opt/homebrew/lib/python3.11/site-packages/tqdm/auto.py:21: TqdmWarning: IProgress not found. Please update jupyter and ipywidgets. See https://ipywidgets.readthedocs.io/en/stable/user_install.html\n",
      "  from .autonotebook import tqdm as notebook_tqdm\n"
     ]
    }
   ],
   "source": [
    "from pymilvus.model.sparse.bm25.tokenizers import build_default_analyzer\n",
    "from pymilvus.model.sparse import BM25EmbeddingFunction\n",
    "\n"
   ]
  },
  {
   "cell_type": "code",
   "execution_count": 10,
   "metadata": {},
   "outputs": [],
   "source": [
    "from sentence_transformers import SentenceTransformer\n",
    "\n",
    "model = SentenceTransformer('all-MiniLM-L6-v2')"
   ]
  },
  {
   "cell_type": "code",
   "execution_count": 11,
   "metadata": {},
   "outputs": [],
   "source": [
    "\n",
    "analyzer = build_default_analyzer(language=\"en\")\n",
    "\n",
    "bm25_ef = BM25EmbeddingFunction(analyzer)\n"
   ]
  },
  {
   "cell_type": "markdown",
   "metadata": {},
   "source": [
    "# Data preparation"
   ]
  },
  {
   "cell_type": "code",
   "execution_count": 12,
   "metadata": {},
   "outputs": [
    {
     "name": "stdout",
     "output_type": "stream",
     "text": [
      "DataFrame saved to 'milvus_input_data.csv'\n"
     ]
    }
   ],
   "source": [
    "import pandas as pd\n",
    "\n",
    "\n",
    "# Create the DataFrame from the data\n",
    "data = [\n",
    "    {\n",
    "        \"id\": 1,\n",
    "        \"text\": \"Python is a high-level programming language. It is known for simplicity and readability.\",\n",
    "        \"context\": \"Developed by Guido van Rossum, this language emerged in 1991 and has since gained widespread adoption. It focuses on clarity and conciseness, favoring a straightforward approach to programming. The design emphasizes readable code and features a broad standard library. The language supports various programming styles and paradigms, making it versatile for different types of projects.\"\n",
    "    },\n",
    "    {\n",
    "        \"id\": 2,\n",
    "        \"text\": \"Python supports object-oriented programming. Classes and objects are fundamental concepts.\",\n",
    "        \"context\": \"The language allows for defining custom types through classes. This approach enables the creation of new data structures with associated methods. Encapsulation, inheritance, and polymorphism are core principles, facilitating modular and reusable code. Objects represent instances of classes and can encapsulate both data and behavior, promoting organized and efficient software design.\"\n",
    "    },\n",
    "    {\n",
    "        \"id\": 3,\n",
    "        \"text\": \"Python has a comprehensive standard library. It provides modules for various tasks.\",\n",
    "        \"context\": \"Included with the language, this extensive library offers tools and modules for a wide range of tasks, from file handling to internet protocols. It covers numerous domains such as data manipulation, networking, and system operations. This built-in support reduces the need for external packages and simplifies development by providing robust and tested components.\"\n",
    "    },\n",
    "    {\n",
    "        \"id\": 4,\n",
    "        \"text\": \"Python features dynamic typing. Variables are not bound to a specific type.\",\n",
    "        \"context\": \"In this language, types are determined at runtime rather than compile-time. This flexibility allows variables to hold different types of data during execution. Type checking is performed dynamically, and the language can adapt to various data types and structures as needed, simplifying coding but requiring careful management to avoid type-related errors.\"\n",
    "    },\n",
    "    {\n",
    "        \"id\": 5,\n",
    "        \"text\": \"Python uses significant whitespace. Indentation affects code structure.\",\n",
    "        \"context\": \"Code organization relies on indentation levels to define blocks of code, such as loops and conditionals. This approach enforces a uniform style and readability, making the structure of the code visually apparent. Proper indentation is essential for defining the scope and flow of control structures, promoting clean and maintainable code.\"\n",
    "    },\n",
    "    {\n",
    "        \"id\": 6,\n",
    "        \"text\": \"Python supports multiple programming paradigms. It includes procedural and functional styles.\",\n",
    "        \"context\": \"The language accommodates various styles of programming, allowing developers to choose the approach that best fits their needs. Procedural programming focuses on procedures and functions, while functional programming emphasizes the use of pure functions and immutability. This versatility supports diverse programming techniques and allows for flexible solutions to different problems.\"\n",
    "    },\n",
    "    {\n",
    "        \"id\": 7,\n",
    "        \"text\": \"Python features automatic memory management. Garbage collection is used to manage resources.\",\n",
    "        \"context\": \"The language includes a built-in mechanism for managing memory allocation and deallocation. Unused objects are automatically reclaimed through garbage collection, which helps prevent memory leaks and optimize resource usage. This feature simplifies memory management for developers and reduces the likelihood of errors related to manual memory handling.\"\n",
    "    },\n",
    "    {\n",
    "        \"id\": 8,\n",
    "        \"text\": \"Python is interpreted, not compiled. Code is executed line by line.\",\n",
    "        \"context\": \"The language processes and executes code directly without a separate compilation step. Each line of code is executed sequentially, allowing for interactive development and immediate feedback. This approach contrasts with compiled languages, where code is translated into machine language before execution. The interpreted nature facilitates debugging and rapid prototyping.\"\n",
    "    },\n",
    "    {\n",
    "        \"id\": 9,\n",
    "        \"text\": \"Python is widely used in data science. Libraries such as NumPy and pandas are popular.\",\n",
    "        \"context\": \"The language has become a leading choice in the field of data analysis and scientific computing. It offers robust libraries and tools designed for handling and analyzing large datasets. NumPy provides support for numerical operations and array manipulations, while pandas offers data structures and functions for data analysis and manipulation. These libraries contribute to Python's strong presence in data science.\"\n",
    "    },\n",
    "    {\n",
    "        \"id\": 10,\n",
    "        \"text\": \"Python supports web development frameworks. Django and Flask are notable examples.\",\n",
    "        \"context\": \"The language provides several frameworks to streamline the development of web applications. Django is a high-level framework that follows the 'batteries-included' philosophy, offering built-in features for rapid development. Flask, on the other hand, is a lightweight framework that provides more flexibility and control. Both frameworks facilitate web development by providing tools and structures for building robust web applications.\"\n",
    "    }\n",
    "]\n",
    "\n",
    "df = pd.DataFrame(data)\n",
    "\n",
    "\n",
    "\n",
    "# Save the DataFrame to a CSV file\n",
    "df.to_csv('milvus_input_data.csv', index=False)\n",
    "\n",
    "print(\"DataFrame saved to 'milvus_input_data.csv'\")\n"
   ]
  },
  {
   "cell_type": "code",
   "execution_count": 13,
   "metadata": {},
   "outputs": [
    {
     "data": {
      "text/html": [
       "<div>\n",
       "<style scoped>\n",
       "    .dataframe tbody tr th:only-of-type {\n",
       "        vertical-align: middle;\n",
       "    }\n",
       "\n",
       "    .dataframe tbody tr th {\n",
       "        vertical-align: top;\n",
       "    }\n",
       "\n",
       "    .dataframe thead th {\n",
       "        text-align: right;\n",
       "    }\n",
       "</style>\n",
       "<table border=\"1\" class=\"dataframe\">\n",
       "  <thead>\n",
       "    <tr style=\"text-align: right;\">\n",
       "      <th></th>\n",
       "      <th>id</th>\n",
       "      <th>text</th>\n",
       "      <th>context</th>\n",
       "    </tr>\n",
       "  </thead>\n",
       "  <tbody>\n",
       "    <tr>\n",
       "      <th>0</th>\n",
       "      <td>1</td>\n",
       "      <td>Python is a high-level programming language. I...</td>\n",
       "      <td>Developed by Guido van Rossum, this language e...</td>\n",
       "    </tr>\n",
       "    <tr>\n",
       "      <th>1</th>\n",
       "      <td>2</td>\n",
       "      <td>Python supports object-oriented programming. C...</td>\n",
       "      <td>The language allows for defining custom types ...</td>\n",
       "    </tr>\n",
       "    <tr>\n",
       "      <th>2</th>\n",
       "      <td>3</td>\n",
       "      <td>Python has a comprehensive standard library. I...</td>\n",
       "      <td>Included with the language, this extensive lib...</td>\n",
       "    </tr>\n",
       "    <tr>\n",
       "      <th>3</th>\n",
       "      <td>4</td>\n",
       "      <td>Python features dynamic typing. Variables are ...</td>\n",
       "      <td>In this language, types are determined at runt...</td>\n",
       "    </tr>\n",
       "    <tr>\n",
       "      <th>4</th>\n",
       "      <td>5</td>\n",
       "      <td>Python uses significant whitespace. Indentatio...</td>\n",
       "      <td>Code organization relies on indentation levels...</td>\n",
       "    </tr>\n",
       "    <tr>\n",
       "      <th>5</th>\n",
       "      <td>6</td>\n",
       "      <td>Python supports multiple programming paradigms...</td>\n",
       "      <td>The language accommodates various styles of pr...</td>\n",
       "    </tr>\n",
       "    <tr>\n",
       "      <th>6</th>\n",
       "      <td>7</td>\n",
       "      <td>Python features automatic memory management. G...</td>\n",
       "      <td>The language includes a built-in mechanism for...</td>\n",
       "    </tr>\n",
       "    <tr>\n",
       "      <th>7</th>\n",
       "      <td>8</td>\n",
       "      <td>Python is interpreted, not compiled. Code is e...</td>\n",
       "      <td>The language processes and executes code direc...</td>\n",
       "    </tr>\n",
       "    <tr>\n",
       "      <th>8</th>\n",
       "      <td>9</td>\n",
       "      <td>Python is widely used in data science. Librari...</td>\n",
       "      <td>The language has become a leading choice in th...</td>\n",
       "    </tr>\n",
       "    <tr>\n",
       "      <th>9</th>\n",
       "      <td>10</td>\n",
       "      <td>Python supports web development frameworks. Dj...</td>\n",
       "      <td>The language provides several frameworks to st...</td>\n",
       "    </tr>\n",
       "  </tbody>\n",
       "</table>\n",
       "</div>"
      ],
      "text/plain": [
       "   id                                               text  \\\n",
       "0   1  Python is a high-level programming language. I...   \n",
       "1   2  Python supports object-oriented programming. C...   \n",
       "2   3  Python has a comprehensive standard library. I...   \n",
       "3   4  Python features dynamic typing. Variables are ...   \n",
       "4   5  Python uses significant whitespace. Indentatio...   \n",
       "5   6  Python supports multiple programming paradigms...   \n",
       "6   7  Python features automatic memory management. G...   \n",
       "7   8  Python is interpreted, not compiled. Code is e...   \n",
       "8   9  Python is widely used in data science. Librari...   \n",
       "9  10  Python supports web development frameworks. Dj...   \n",
       "\n",
       "                                             context  \n",
       "0  Developed by Guido van Rossum, this language e...  \n",
       "1  The language allows for defining custom types ...  \n",
       "2  Included with the language, this extensive lib...  \n",
       "3  In this language, types are determined at runt...  \n",
       "4  Code organization relies on indentation levels...  \n",
       "5  The language accommodates various styles of pr...  \n",
       "6  The language includes a built-in mechanism for...  \n",
       "7  The language processes and executes code direc...  \n",
       "8  The language has become a leading choice in th...  \n",
       "9  The language provides several frameworks to st...  "
      ]
     },
     "execution_count": 13,
     "metadata": {},
     "output_type": "execute_result"
    }
   ],
   "source": [
    "df"
   ]
  },
  {
   "cell_type": "markdown",
   "metadata": {
    "id": "daf4c22fea67479e8b3386c476d69e16"
   },
   "source": [
    "### Connect to Milvus"
   ]
  },
  {
   "cell_type": "code",
   "execution_count": 14,
   "metadata": {},
   "outputs": [],
   "source": [
    "from pymilvus import MilvusClient\n",
    "# Replace Placeholder Values <> with respective provisioned Milvus Values .\n",
    "\n",
    "uri = \"https://<host>:<port>\"  # Construct URI from host and port\n",
    "user = \"<>\"\n",
    "password = \"<>\"\n",
    "# Create an instance of the MilvusClient class with the new configuration\n",
    "\"\"\"\n",
    "#On Prem\n",
    "milvus_client = MilvusClient(uri=uri,\n",
    "                            user=user,\n",
    "                            password=password,\n",
    "                            secure=True,\n",
    "                            server_pem_path='<>',\n",
    "                            server_name='<>',)\n",
    "\n",
    "# SaaS\n",
    "milvus_client = MilvusClient(uri=uri, \n",
    "                             user=user, \n",
    "                             password=password,\n",
    "                             secure=True,\n",
    "                             server_name='<>',)\n",
    "\"\"\"\n"
   ]
  },
  {
   "cell_type": "code",
   "execution_count": 15,
   "metadata": {},
   "outputs": [],
   "source": [
    "COLLECTION_NAME = \"Milvus_test_hybrid\"\n",
    "DIMENSION = 384\n",
    "BATCH_SIZE = 2\n",
    "TOPK = 1\n",
    "fmt = \"=== {:30} ===\"\n",
    "search_latency_fmt = \"search latency = {:.4f}s\""
   ]
  },
  {
   "cell_type": "code",
   "execution_count": 16,
   "metadata": {},
   "outputs": [],
   "source": [
    "if milvus_client.has_collection(collection_name=COLLECTION_NAME):\n",
    "    milvus_client.drop_collection(collection_name=COLLECTION_NAME)"
   ]
  },
  {
   "cell_type": "code",
   "execution_count": 17,
   "metadata": {},
   "outputs": [
    {
     "data": {
      "text/plain": [
       "False"
      ]
     },
     "execution_count": 17,
     "metadata": {},
     "output_type": "execute_result"
    }
   ],
   "source": [
    "milvus_client.has_collection(collection_name=COLLECTION_NAME)"
   ]
  },
  {
   "cell_type": "markdown",
   "metadata": {},
   "source": [
    "## Create Milvus schema \n",
    "[more about schema](https://www.ibm.com/docs/en/watsonx/watsonxdata/2.1.x?topic=milvus-connecting-service#taskconctmilvus__postreq__1)\n"
   ]
  },
  {
   "cell_type": "code",
   "execution_count": 18,
   "metadata": {
    "id": "3ffeb6a567bb49b7a2a78e40fd03d86f"
   },
   "outputs": [
    {
     "data": {
      "text/plain": [
       "{'auto_id': False, 'description': '', 'fields': [{'name': 'id', 'description': '', 'type': <DataType.INT64: 5>, 'is_primary': True, 'auto_id': False}, {'name': 'text', 'description': '', 'type': <DataType.VARCHAR: 21>, 'params': {'max_length': 65535}}, {'name': 'context', 'description': '', 'type': <DataType.VARCHAR: 21>, 'params': {'max_length': 65535}}, {'name': 'text_embedding', 'description': '', 'type': <DataType.SPARSE_FLOAT_VECTOR: 104>}, {'name': 'context_embedding', 'description': '', 'type': <DataType.FLOAT_VECTOR: 101>, 'params': {'dim': 384}}], 'enable_dynamic_field': True}"
      ]
     },
     "execution_count": 18,
     "metadata": {},
     "output_type": "execute_result"
    }
   ],
   "source": [
    "# Create schema\n",
    "schema = milvus_client.create_schema(\n",
    "    auto_id=False,\n",
    "    enable_dynamic_field=True,\n",
    ")\n",
    "\n",
    "# Add fields to schema\n",
    "schema.add_field(field_name=\"id\", datatype=DataType.INT64, is_primary=True),\n",
    "schema.add_field(field_name=\"text\", datatype=DataType.VARCHAR, max_length=65535),\n",
    "schema.add_field(field_name=\"context\", datatype=DataType.VARCHAR, max_length=65535),\n",
    "schema.add_field(field_name=\"text_embedding\", datatype=DataType.SPARSE_FLOAT_VECTOR),\n",
    "schema.add_field(field_name=\"context_embedding\", datatype=DataType.FLOAT_VECTOR, dim=DIMENSION)"
   ]
  },
  {
   "cell_type": "markdown",
   "metadata": {},
   "source": [
    "## Create Index \n",
    "[more on indexes](https://www.ibm.com/docs/en/watsonx/watsonxdata/2.1.x?topic=milvus-connecting-service#taskconctmilvus__postreq__1)\n"
   ]
  },
  {
   "cell_type": "code",
   "execution_count": 19,
   "metadata": {
    "id": "df3817ec454c4001be6c751bc2402d0f"
   },
   "outputs": [],
   "source": [
    "# Create index parameters\n",
    "index_params = milvus_client.prepare_index_params()\n",
    "\n",
    "# Add first index for text_embedding\n",
    "index_params.add_index(\n",
    "    field_name=\"text_embedding\",\n",
    "    index_type=\"SPARSE_INVERTED_INDEX\",\n",
    "    metric_type=\"IP\",\n",
    "    params={\"drop_ratio_build\": 0.2}\n",
    ")\n",
    "\n",
    "# Add second index for context_embedding\n",
    "index_params.add_index(\n",
    "    field_name=\"context_embedding\",\n",
    "    index_type=\"IVF_SQ8\",\n",
    "    metric_type=\"L2\",\n",
    "    params={\"nlist\": 128}\n",
    ")\n"
   ]
  },
  {
   "cell_type": "markdown",
   "metadata": {},
   "source": [
    "## Create Collection and Load Data "
   ]
  },
  {
   "cell_type": "code",
   "execution_count": 20,
   "metadata": {},
   "outputs": [],
   "source": [
    "# Create index and load collection\n",
    "milvus_client.create_collection(\n",
    "    collection_name=COLLECTION_NAME,\n",
    "    schema=schema,\n",
    "    index_params=index_params\n",
    ")\n",
    "\n",
    "# Load the collection\n",
    "milvus_client.load_collection(collection_name=COLLECTION_NAME)"
   ]
  },
  {
   "cell_type": "markdown",
   "metadata": {
    "id": "df3817ec454c4001be6c751bc2402d0f"
   },
   "source": [
    "## Generate Embeddings"
   ]
  },
  {
   "cell_type": "markdown",
   "metadata": {},
   "source": [
    "We are going to generate 2 type of embeddings. One using sentence transformer which is more context aware (sematic), while the second using BM25 - sparse vector embeddings based on TF-IDF focused on keyword search. Click to know more about [Dense](https://github.ibm.com/Aldrin-Dennis1/milvus-enhanced-documentation/blob/main/in-memmory-indexes-and-similarity-metrics.md) and [Sparse](https://github.ibm.com/Aldrin-Dennis1/milvus-enhanced-documentation/blob/main/in-memmory-indexes-and-similarity-metrics-sparse-embeddings.md) vector embeddings or refer [In-Memory Index](https://milvus.io/docs/index.md?tab=floating) "
   ]
  },
  {
   "cell_type": "markdown",
   "metadata": {},
   "source": [
    "### 1. Dense embeddings - Sentence Transformer Embeddings - semantic "
   ]
  },
  {
   "cell_type": "code",
   "execution_count": 21,
   "metadata": {},
   "outputs": [
    {
     "data": {
      "text/html": [
       "<div>\n",
       "<style scoped>\n",
       "    .dataframe tbody tr th:only-of-type {\n",
       "        vertical-align: middle;\n",
       "    }\n",
       "\n",
       "    .dataframe tbody tr th {\n",
       "        vertical-align: top;\n",
       "    }\n",
       "\n",
       "    .dataframe thead th {\n",
       "        text-align: right;\n",
       "    }\n",
       "</style>\n",
       "<table border=\"1\" class=\"dataframe\">\n",
       "  <thead>\n",
       "    <tr style=\"text-align: right;\">\n",
       "      <th></th>\n",
       "      <th>id</th>\n",
       "      <th>text</th>\n",
       "      <th>context</th>\n",
       "      <th>context_embedding</th>\n",
       "    </tr>\n",
       "  </thead>\n",
       "  <tbody>\n",
       "    <tr>\n",
       "      <th>0</th>\n",
       "      <td>1</td>\n",
       "      <td>Python is a high-level programming language. I...</td>\n",
       "      <td>Developed by Guido van Rossum, this language e...</td>\n",
       "      <td>[-0.024910371750593185, 0.021515710279345512, ...</td>\n",
       "    </tr>\n",
       "    <tr>\n",
       "      <th>1</th>\n",
       "      <td>2</td>\n",
       "      <td>Python supports object-oriented programming. C...</td>\n",
       "      <td>The language allows for defining custom types ...</td>\n",
       "      <td>[-0.04435064271092415, 0.04121103510260582, -0...</td>\n",
       "    </tr>\n",
       "    <tr>\n",
       "      <th>2</th>\n",
       "      <td>3</td>\n",
       "      <td>Python has a comprehensive standard library. I...</td>\n",
       "      <td>Included with the language, this extensive lib...</td>\n",
       "      <td>[-0.04649648442864418, 0.023093894124031067, -...</td>\n",
       "    </tr>\n",
       "    <tr>\n",
       "      <th>3</th>\n",
       "      <td>4</td>\n",
       "      <td>Python features dynamic typing. Variables are ...</td>\n",
       "      <td>In this language, types are determined at runt...</td>\n",
       "      <td>[0.016168083995580673, 0.04423769935965538, -0...</td>\n",
       "    </tr>\n",
       "    <tr>\n",
       "      <th>4</th>\n",
       "      <td>5</td>\n",
       "      <td>Python uses significant whitespace. Indentatio...</td>\n",
       "      <td>Code organization relies on indentation levels...</td>\n",
       "      <td>[-0.04521821811795235, 0.03502519428730011, -0...</td>\n",
       "    </tr>\n",
       "    <tr>\n",
       "      <th>5</th>\n",
       "      <td>6</td>\n",
       "      <td>Python supports multiple programming paradigms...</td>\n",
       "      <td>The language accommodates various styles of pr...</td>\n",
       "      <td>[0.010998032987117767, 0.06036316603422165, -0...</td>\n",
       "    </tr>\n",
       "    <tr>\n",
       "      <th>6</th>\n",
       "      <td>7</td>\n",
       "      <td>Python features automatic memory management. G...</td>\n",
       "      <td>The language includes a built-in mechanism for...</td>\n",
       "      <td>[0.00335799902677536, 0.08728592842817307, -0....</td>\n",
       "    </tr>\n",
       "    <tr>\n",
       "      <th>7</th>\n",
       "      <td>8</td>\n",
       "      <td>Python is interpreted, not compiled. Code is e...</td>\n",
       "      <td>The language processes and executes code direc...</td>\n",
       "      <td>[-0.04446705803275108, 0.04414321854710579, -0...</td>\n",
       "    </tr>\n",
       "    <tr>\n",
       "      <th>8</th>\n",
       "      <td>9</td>\n",
       "      <td>Python is widely used in data science. Librari...</td>\n",
       "      <td>The language has become a leading choice in th...</td>\n",
       "      <td>[-0.0573277585208416, 0.01097246166318655, -0....</td>\n",
       "    </tr>\n",
       "    <tr>\n",
       "      <th>9</th>\n",
       "      <td>10</td>\n",
       "      <td>Python supports web development frameworks. Dj...</td>\n",
       "      <td>The language provides several frameworks to st...</td>\n",
       "      <td>[-0.07559645920991898, -0.04762483015656471, -...</td>\n",
       "    </tr>\n",
       "  </tbody>\n",
       "</table>\n",
       "</div>"
      ],
      "text/plain": [
       "   id                                               text  \\\n",
       "0   1  Python is a high-level programming language. I...   \n",
       "1   2  Python supports object-oriented programming. C...   \n",
       "2   3  Python has a comprehensive standard library. I...   \n",
       "3   4  Python features dynamic typing. Variables are ...   \n",
       "4   5  Python uses significant whitespace. Indentatio...   \n",
       "5   6  Python supports multiple programming paradigms...   \n",
       "6   7  Python features automatic memory management. G...   \n",
       "7   8  Python is interpreted, not compiled. Code is e...   \n",
       "8   9  Python is widely used in data science. Librari...   \n",
       "9  10  Python supports web development frameworks. Dj...   \n",
       "\n",
       "                                             context  \\\n",
       "0  Developed by Guido van Rossum, this language e...   \n",
       "1  The language allows for defining custom types ...   \n",
       "2  Included with the language, this extensive lib...   \n",
       "3  In this language, types are determined at runt...   \n",
       "4  Code organization relies on indentation levels...   \n",
       "5  The language accommodates various styles of pr...   \n",
       "6  The language includes a built-in mechanism for...   \n",
       "7  The language processes and executes code direc...   \n",
       "8  The language has become a leading choice in th...   \n",
       "9  The language provides several frameworks to st...   \n",
       "\n",
       "                                   context_embedding  \n",
       "0  [-0.024910371750593185, 0.021515710279345512, ...  \n",
       "1  [-0.04435064271092415, 0.04121103510260582, -0...  \n",
       "2  [-0.04649648442864418, 0.023093894124031067, -...  \n",
       "3  [0.016168083995580673, 0.04423769935965538, -0...  \n",
       "4  [-0.04521821811795235, 0.03502519428730011, -0...  \n",
       "5  [0.010998032987117767, 0.06036316603422165, -0...  \n",
       "6  [0.00335799902677536, 0.08728592842817307, -0....  \n",
       "7  [-0.04446705803275108, 0.04414321854710579, -0...  \n",
       "8  [-0.0573277585208416, 0.01097246166318655, -0....  \n",
       "9  [-0.07559645920991898, -0.04762483015656471, -...  "
      ]
     },
     "execution_count": 21,
     "metadata": {},
     "output_type": "execute_result"
    }
   ],
   "source": [
    "\n",
    "\n",
    "# Generate embeddings\n",
    "df['context_embedding'] = df['context'].apply(lambda x: model.encode(x).tolist())\n",
    "\n",
    "# Show the DataFrame with embeddings\n",
    "df\n"
   ]
  },
  {
   "cell_type": "markdown",
   "metadata": {},
   "source": [
    "### 2. Sparse Embeddings - BM25 Embeddings - keyword based"
   ]
  },
  {
   "cell_type": "code",
   "execution_count": 22,
   "metadata": {},
   "outputs": [
    {
     "data": {
      "text/plain": [
       "['Python is a high-level programming language. It is known for simplicity and readability.',\n",
       " 'Python supports object-oriented programming. Classes and objects are fundamental concepts.',\n",
       " 'Python has a comprehensive standard library. It provides modules for various tasks.',\n",
       " 'Python features dynamic typing. Variables are not bound to a specific type.',\n",
       " 'Python uses significant whitespace. Indentation affects code structure.',\n",
       " 'Python supports multiple programming paradigms. It includes procedural and functional styles.',\n",
       " 'Python features automatic memory management. Garbage collection is used to manage resources.',\n",
       " 'Python is interpreted, not compiled. Code is executed line by line.',\n",
       " 'Python is widely used in data science. Libraries such as NumPy and pandas are popular.',\n",
       " 'Python supports web development frameworks. Django and Flask are notable examples.']"
      ]
     },
     "execution_count": 22,
     "metadata": {},
     "output_type": "execute_result"
    }
   ],
   "source": [
    "corpus = df['text'].tolist()\n",
    "corpus"
   ]
  },
  {
   "cell_type": "code",
   "execution_count": 23,
   "metadata": {
    "id": "f8537134e7c94cdd95026ec730465b3b"
   },
   "outputs": [
    {
     "name": "stdout",
     "output_type": "stream",
     "text": [
      "tokens: [['python', 'high-level', 'program', 'languag', 'known', 'simplic', 'readabl'], ['python', 'support', 'object-ori', 'program', 'class', 'object', 'fundament', 'concept'], ['python', 'comprehens', 'standard', 'librari', 'provid', 'modul', 'various', 'task'], ['python', 'featur', 'dynam', 'type', 'variabl', 'bound', 'specif', 'type'], ['python', 'use', 'signific', 'whitespac', 'indent', 'affect', 'code', 'structur'], ['python', 'support', 'multipl', 'program', 'paradigm', 'includ', 'procedur', 'function', 'style'], ['python', 'featur', 'automat', 'memori', 'manag', 'garbag', 'collect', 'use', 'manag', 'resourc'], ['python', 'interpret', 'compil', 'code', 'execut', 'line', 'line'], ['python', 'wide', 'use', 'data', 'scienc', 'librari', 'numpi', 'panda', 'popular'], ['python', 'support', 'web', 'develop', 'framework', 'django', 'flask', 'notabl', 'exampl']]\n"
     ]
    }
   ],
   "source": [
    "\n",
    "tokens = []\n",
    "for i in corpus:\n",
    "    tokens.append(analyzer(i))\n",
    "print(\"tokens:\", tokens)"
   ]
  },
  {
   "cell_type": "code",
   "execution_count": 24,
   "metadata": {},
   "outputs": [],
   "source": [
    "import os\n",
    "\n",
    "os.environ[\"TOKENIZERS_PARALLELISM\"] = \"false\"\n",
    "bm25_ef = BM25EmbeddingFunction(analyzer)\n",
    "\n",
    "bm25_ef.fit(corpus)\n"
   ]
  },
  {
   "cell_type": "code",
   "execution_count": 25,
   "metadata": {},
   "outputs": [
    {
     "name": "stdout",
     "output_type": "stream",
     "text": [
      "Embeddings:   (0, 0)\t1.0758262872695923\n",
      "  (0, 1)\t1.0758262872695923\n",
      "  (0, 2)\t1.0758262872695923\n",
      "  (0, 3)\t1.0758262872695923\n",
      "  (0, 4)\t1.0758262872695923\n",
      "  (0, 5)\t1.0758262872695923\n",
      "  (0, 6)\t1.0758262872695923\n",
      "  (1, 0)\t1.0165339708328247\n",
      "  (1, 2)\t1.0165339708328247\n",
      "  (1, 7)\t1.0165339708328247\n",
      "  (1, 8)\t1.0165339708328247\n",
      "  (1, 9)\t1.0165339708328247\n",
      "  (1, 10)\t1.0165339708328247\n",
      "  (1, 11)\t1.0165339708328247\n",
      "  (1, 12)\t1.0165339708328247\n",
      "  (2, 0)\t1.0165339708328247\n",
      "  (2, 13)\t1.0165339708328247\n",
      "  (2, 14)\t1.0165339708328247\n",
      "  (2, 15)\t1.0165339708328247\n",
      "  (2, 16)\t1.0165339708328247\n",
      "  (2, 17)\t1.0165339708328247\n",
      "  (2, 18)\t1.0165339708328247\n",
      "  (2, 19)\t1.0165339708328247\n",
      "  (3, 0)\t1.0165339708328247\n",
      "  (3, 20)\t1.0165339708328247\n",
      "  :\t:\n",
      "  (6, 44)\t0.9156094789505005\n",
      "  (7, 0)\t1.0758262872695923\n",
      "  (7, 31)\t1.0758262872695923\n",
      "  (7, 45)\t1.0758262872695923\n",
      "  (7, 46)\t1.0758262872695923\n",
      "  (7, 47)\t1.0758262872695923\n",
      "  (7, 48)\t1.5043045282363892\n",
      "  (8, 0)\t0.9634358882904053\n",
      "  (8, 15)\t0.9634358882904053\n",
      "  (8, 26)\t0.9634358882904053\n",
      "  (8, 49)\t0.9634358882904053\n",
      "  (8, 50)\t0.9634358882904053\n",
      "  (8, 51)\t0.9634358882904053\n",
      "  (8, 52)\t0.9634358882904053\n",
      "  (8, 53)\t0.9634358882904053\n",
      "  (8, 54)\t0.9634358882904053\n",
      "  (9, 0)\t0.9634358882904053\n",
      "  (9, 7)\t0.9634358882904053\n",
      "  (9, 55)\t0.9634358882904053\n",
      "  (9, 56)\t0.9634358882904053\n",
      "  (9, 57)\t0.9634358882904053\n",
      "  (9, 58)\t0.9634358882904053\n",
      "  (9, 59)\t0.9634358882904053\n",
      "  (9, 60)\t0.9634358882904053\n",
      "  (9, 61)\t0.9634358882904053\n"
     ]
    }
   ],
   "source": [
    "# Create embeddings for the documents\n",
    "docs_embeddings = bm25_ef.encode_documents(corpus)\n",
    "\n",
    "# Print embeddings\n",
    "print(\"Embeddings:\", docs_embeddings)\n",
    "# Since the output embeddings are in a 2D csr_array format, we convert them to a list for easier manipulation.\n",
    "#print(\"Sparse dim:\", bm25_ef.dim, list(docs_embeddings)[0].shape)"
   ]
  },
  {
   "cell_type": "code",
   "execution_count": 26,
   "metadata": {},
   "outputs": [
    {
     "data": {
      "text/plain": [
       "(10, 62)"
      ]
     },
     "execution_count": 26,
     "metadata": {},
     "output_type": "execute_result"
    }
   ],
   "source": [
    "docs_embeddings.shape"
   ]
  },
  {
   "cell_type": "code",
   "execution_count": 27,
   "metadata": {},
   "outputs": [
    {
     "data": {
      "text/plain": [
       "[{0: 1.0758263,\n",
       "  1: 1.0758263,\n",
       "  2: 1.0758263,\n",
       "  3: 1.0758263,\n",
       "  4: 1.0758263,\n",
       "  5: 1.0758263,\n",
       "  6: 1.0758263},\n",
       " {0: 1.016534,\n",
       "  2: 1.016534,\n",
       "  7: 1.016534,\n",
       "  8: 1.016534,\n",
       "  9: 1.016534,\n",
       "  10: 1.016534,\n",
       "  11: 1.016534,\n",
       "  12: 1.016534},\n",
       " {0: 1.016534,\n",
       "  13: 1.016534,\n",
       "  14: 1.016534,\n",
       "  15: 1.016534,\n",
       "  16: 1.016534,\n",
       "  17: 1.016534,\n",
       "  18: 1.016534,\n",
       "  19: 1.016534},\n",
       " {0: 1.016534,\n",
       "  20: 1.016534,\n",
       "  21: 1.016534,\n",
       "  22: 1.4453635,\n",
       "  23: 1.016534,\n",
       "  24: 1.016534,\n",
       "  25: 1.016534},\n",
       " {0: 1.016534,\n",
       "  26: 1.016534,\n",
       "  27: 1.016534,\n",
       "  28: 1.016534,\n",
       "  29: 1.016534,\n",
       "  30: 1.016534,\n",
       "  31: 1.016534,\n",
       "  32: 1.016534},\n",
       " {0: 0.9634359,\n",
       "  2: 0.9634359,\n",
       "  7: 0.9634359,\n",
       "  33: 0.9634359,\n",
       "  34: 0.9634359,\n",
       "  35: 0.9634359,\n",
       "  36: 0.9634359,\n",
       "  37: 0.9634359,\n",
       "  38: 0.9634359},\n",
       " {0: 0.9156095,\n",
       "  20: 0.9156095,\n",
       "  26: 0.9156095,\n",
       "  39: 0.9156095,\n",
       "  40: 0.9156095,\n",
       "  41: 1.3403311,\n",
       "  42: 0.9156095,\n",
       "  43: 0.9156095,\n",
       "  44: 0.9156095},\n",
       " {0: 1.0758263,\n",
       "  31: 1.0758263,\n",
       "  45: 1.0758263,\n",
       "  46: 1.0758263,\n",
       "  47: 1.0758263,\n",
       "  48: 1.5043045},\n",
       " {0: 0.9634359,\n",
       "  15: 0.9634359,\n",
       "  26: 0.9634359,\n",
       "  49: 0.9634359,\n",
       "  50: 0.9634359,\n",
       "  51: 0.9634359,\n",
       "  52: 0.9634359,\n",
       "  53: 0.9634359,\n",
       "  54: 0.9634359},\n",
       " {0: 0.9634359,\n",
       "  7: 0.9634359,\n",
       "  55: 0.9634359,\n",
       "  56: 0.9634359,\n",
       "  57: 0.9634359,\n",
       "  58: 0.9634359,\n",
       "  59: 0.9634359,\n",
       "  60: 0.9634359,\n",
       "  61: 0.9634359}]"
      ]
     },
     "execution_count": 27,
     "metadata": {},
     "output_type": "execute_result"
    }
   ],
   "source": [
    "# Convert into a format the Milvus expects\n",
    "import numpy as np\n",
    "\n",
    "def csr_to_dict_list(csr_array):\n",
    "    result = []\n",
    "    indptr = csr_array.indptr\n",
    "    indices = csr_array.indices\n",
    "    data = csr_array.data\n",
    "\n",
    "    for i in range(csr_array.shape[0]):\n",
    "        start, end = indptr[i], indptr[i+1]\n",
    "        row_indices = indices[start:end]\n",
    "        row_data = data[start:end]\n",
    "        row_dict = dict(zip(row_indices, row_data))\n",
    "        result.append(row_dict)\n",
    "    \n",
    "    return result\n",
    "\n",
    "# Use the function\n",
    "converted_data = csr_to_dict_list(docs_embeddings)\n",
    "converted_data"
   ]
  },
  {
   "cell_type": "code",
   "execution_count": 28,
   "metadata": {},
   "outputs": [
    {
     "data": {
      "text/html": [
       "<div>\n",
       "<style scoped>\n",
       "    .dataframe tbody tr th:only-of-type {\n",
       "        vertical-align: middle;\n",
       "    }\n",
       "\n",
       "    .dataframe tbody tr th {\n",
       "        vertical-align: top;\n",
       "    }\n",
       "\n",
       "    .dataframe thead th {\n",
       "        text-align: right;\n",
       "    }\n",
       "</style>\n",
       "<table border=\"1\" class=\"dataframe\">\n",
       "  <thead>\n",
       "    <tr style=\"text-align: right;\">\n",
       "      <th></th>\n",
       "      <th>id</th>\n",
       "      <th>text</th>\n",
       "      <th>context</th>\n",
       "      <th>text_embedding</th>\n",
       "      <th>context_embedding</th>\n",
       "    </tr>\n",
       "  </thead>\n",
       "  <tbody>\n",
       "    <tr>\n",
       "      <th>0</th>\n",
       "      <td>1</td>\n",
       "      <td>Python is a high-level programming language. I...</td>\n",
       "      <td>Developed by Guido van Rossum, this language e...</td>\n",
       "      <td>{0: 1.0758263, 1: 1.0758263, 2: 1.0758263, 3: ...</td>\n",
       "      <td>[-0.024910371750593185, 0.021515710279345512, ...</td>\n",
       "    </tr>\n",
       "    <tr>\n",
       "      <th>1</th>\n",
       "      <td>2</td>\n",
       "      <td>Python supports object-oriented programming. C...</td>\n",
       "      <td>The language allows for defining custom types ...</td>\n",
       "      <td>{0: 1.016534, 2: 1.016534, 7: 1.016534, 8: 1.0...</td>\n",
       "      <td>[-0.04435064271092415, 0.04121103510260582, -0...</td>\n",
       "    </tr>\n",
       "    <tr>\n",
       "      <th>2</th>\n",
       "      <td>3</td>\n",
       "      <td>Python has a comprehensive standard library. I...</td>\n",
       "      <td>Included with the language, this extensive lib...</td>\n",
       "      <td>{0: 1.016534, 13: 1.016534, 14: 1.016534, 15: ...</td>\n",
       "      <td>[-0.04649648442864418, 0.023093894124031067, -...</td>\n",
       "    </tr>\n",
       "    <tr>\n",
       "      <th>3</th>\n",
       "      <td>4</td>\n",
       "      <td>Python features dynamic typing. Variables are ...</td>\n",
       "      <td>In this language, types are determined at runt...</td>\n",
       "      <td>{0: 1.016534, 20: 1.016534, 21: 1.016534, 22: ...</td>\n",
       "      <td>[0.016168083995580673, 0.04423769935965538, -0...</td>\n",
       "    </tr>\n",
       "    <tr>\n",
       "      <th>4</th>\n",
       "      <td>5</td>\n",
       "      <td>Python uses significant whitespace. Indentatio...</td>\n",
       "      <td>Code organization relies on indentation levels...</td>\n",
       "      <td>{0: 1.016534, 26: 1.016534, 27: 1.016534, 28: ...</td>\n",
       "      <td>[-0.04521821811795235, 0.03502519428730011, -0...</td>\n",
       "    </tr>\n",
       "    <tr>\n",
       "      <th>5</th>\n",
       "      <td>6</td>\n",
       "      <td>Python supports multiple programming paradigms...</td>\n",
       "      <td>The language accommodates various styles of pr...</td>\n",
       "      <td>{0: 0.9634359, 2: 0.9634359, 7: 0.9634359, 33:...</td>\n",
       "      <td>[0.010998032987117767, 0.06036316603422165, -0...</td>\n",
       "    </tr>\n",
       "    <tr>\n",
       "      <th>6</th>\n",
       "      <td>7</td>\n",
       "      <td>Python features automatic memory management. G...</td>\n",
       "      <td>The language includes a built-in mechanism for...</td>\n",
       "      <td>{0: 0.9156095, 20: 0.9156095, 26: 0.9156095, 3...</td>\n",
       "      <td>[0.00335799902677536, 0.08728592842817307, -0....</td>\n",
       "    </tr>\n",
       "    <tr>\n",
       "      <th>7</th>\n",
       "      <td>8</td>\n",
       "      <td>Python is interpreted, not compiled. Code is e...</td>\n",
       "      <td>The language processes and executes code direc...</td>\n",
       "      <td>{0: 1.0758263, 31: 1.0758263, 45: 1.0758263, 4...</td>\n",
       "      <td>[-0.04446705803275108, 0.04414321854710579, -0...</td>\n",
       "    </tr>\n",
       "    <tr>\n",
       "      <th>8</th>\n",
       "      <td>9</td>\n",
       "      <td>Python is widely used in data science. Librari...</td>\n",
       "      <td>The language has become a leading choice in th...</td>\n",
       "      <td>{0: 0.9634359, 15: 0.9634359, 26: 0.9634359, 4...</td>\n",
       "      <td>[-0.0573277585208416, 0.01097246166318655, -0....</td>\n",
       "    </tr>\n",
       "    <tr>\n",
       "      <th>9</th>\n",
       "      <td>10</td>\n",
       "      <td>Python supports web development frameworks. Dj...</td>\n",
       "      <td>The language provides several frameworks to st...</td>\n",
       "      <td>{0: 0.9634359, 7: 0.9634359, 55: 0.9634359, 56...</td>\n",
       "      <td>[-0.07559645920991898, -0.04762483015656471, -...</td>\n",
       "    </tr>\n",
       "  </tbody>\n",
       "</table>\n",
       "</div>"
      ],
      "text/plain": [
       "   id                                               text  \\\n",
       "0   1  Python is a high-level programming language. I...   \n",
       "1   2  Python supports object-oriented programming. C...   \n",
       "2   3  Python has a comprehensive standard library. I...   \n",
       "3   4  Python features dynamic typing. Variables are ...   \n",
       "4   5  Python uses significant whitespace. Indentatio...   \n",
       "5   6  Python supports multiple programming paradigms...   \n",
       "6   7  Python features automatic memory management. G...   \n",
       "7   8  Python is interpreted, not compiled. Code is e...   \n",
       "8   9  Python is widely used in data science. Librari...   \n",
       "9  10  Python supports web development frameworks. Dj...   \n",
       "\n",
       "                                             context  \\\n",
       "0  Developed by Guido van Rossum, this language e...   \n",
       "1  The language allows for defining custom types ...   \n",
       "2  Included with the language, this extensive lib...   \n",
       "3  In this language, types are determined at runt...   \n",
       "4  Code organization relies on indentation levels...   \n",
       "5  The language accommodates various styles of pr...   \n",
       "6  The language includes a built-in mechanism for...   \n",
       "7  The language processes and executes code direc...   \n",
       "8  The language has become a leading choice in th...   \n",
       "9  The language provides several frameworks to st...   \n",
       "\n",
       "                                      text_embedding  \\\n",
       "0  {0: 1.0758263, 1: 1.0758263, 2: 1.0758263, 3: ...   \n",
       "1  {0: 1.016534, 2: 1.016534, 7: 1.016534, 8: 1.0...   \n",
       "2  {0: 1.016534, 13: 1.016534, 14: 1.016534, 15: ...   \n",
       "3  {0: 1.016534, 20: 1.016534, 21: 1.016534, 22: ...   \n",
       "4  {0: 1.016534, 26: 1.016534, 27: 1.016534, 28: ...   \n",
       "5  {0: 0.9634359, 2: 0.9634359, 7: 0.9634359, 33:...   \n",
       "6  {0: 0.9156095, 20: 0.9156095, 26: 0.9156095, 3...   \n",
       "7  {0: 1.0758263, 31: 1.0758263, 45: 1.0758263, 4...   \n",
       "8  {0: 0.9634359, 15: 0.9634359, 26: 0.9634359, 4...   \n",
       "9  {0: 0.9634359, 7: 0.9634359, 55: 0.9634359, 56...   \n",
       "\n",
       "                                   context_embedding  \n",
       "0  [-0.024910371750593185, 0.021515710279345512, ...  \n",
       "1  [-0.04435064271092415, 0.04121103510260582, -0...  \n",
       "2  [-0.04649648442864418, 0.023093894124031067, -...  \n",
       "3  [0.016168083995580673, 0.04423769935965538, -0...  \n",
       "4  [-0.04521821811795235, 0.03502519428730011, -0...  \n",
       "5  [0.010998032987117767, 0.06036316603422165, -0...  \n",
       "6  [0.00335799902677536, 0.08728592842817307, -0....  \n",
       "7  [-0.04446705803275108, 0.04414321854710579, -0...  \n",
       "8  [-0.0573277585208416, 0.01097246166318655, -0....  \n",
       "9  [-0.07559645920991898, -0.04762483015656471, -...  "
      ]
     },
     "execution_count": 28,
     "metadata": {},
     "output_type": "execute_result"
    }
   ],
   "source": [
    "df['text_embedding'] = converted_data\n",
    "df = df[['id','text','context','text_embedding','context_embedding']]\n",
    "df"
   ]
  },
  {
   "cell_type": "markdown",
   "metadata": {},
   "source": [
    "# Ingestion"
   ]
  },
  {
   "cell_type": "code",
   "execution_count": 29,
   "metadata": {},
   "outputs": [
    {
     "name": "stdout",
     "output_type": "stream",
     "text": [
      "Data inserted successfully: {'insert_count': 10, 'ids': [1, 2, 3, 4, 5, 6, 7, 8, 9, 10]}\n"
     ]
    }
   ],
   "source": [
    "# Prepare data for insertion as an array of dictionaries\n",
    "data_to_insert = [\n",
    "    {\n",
    "        \"id\": int(row[\"id\"]),\n",
    "        \"text\": str(row[\"text\"]),\n",
    "        \"context\": str(row[\"context\"]),\n",
    "        \"text_embedding\": row[\"text_embedding\"],\n",
    "        \"context_embedding\": row[\"context_embedding\"],\n",
    "    }\n",
    "    for _, row in df.iterrows()\n",
    "]\n",
    "\n",
    "# Insert data into the Milvus collection\n",
    "res = milvus_client.insert(\n",
    "    collection_name=COLLECTION_NAME,\n",
    "    data=data_to_insert\n",
    ")\n",
    "\n",
    "print(\"Data inserted successfully:\", res)\n"
   ]
  },
  {
   "cell_type": "markdown",
   "metadata": {},
   "source": [
    "## Query"
   ]
  },
  {
   "cell_type": "markdown",
   "metadata": {},
   "source": [
    "- The first query is more a keyword search and we believe BM25 can give better results while 2nd query is a contextual search where sentence transformer is better. We will adjust the reranking weights accordingly for both query and observe how the results vary."
   ]
  },
  {
   "cell_type": "code",
   "execution_count": 30,
   "metadata": {},
   "outputs": [],
   "source": [
    "query1 = [\"Does Python supports object-oriented programming?\"]\n",
    "query2 = [\"Why is python so picky about tabs and spaces?\"]\n"
   ]
  },
  {
   "cell_type": "markdown",
   "metadata": {},
   "source": [
    "### Query 1"
   ]
  },
  {
   "cell_type": "code",
   "execution_count": 31,
   "metadata": {},
   "outputs": [
    {
     "name": "stdout",
     "output_type": "stream",
     "text": [
      "Embeddings:   (0, 0)\t0.4211035966873169\n",
      "  (0, 2)\t0.7621400356292725\n",
      "  (0, 7)\t0.7621400356292725\n",
      "  (0, 8)\t1.8458267450332642\n"
     ]
    }
   ],
   "source": [
    "\n",
    "#With query1 - keyword search\n",
    "bm25_query_embedding = bm25_ef.encode_queries(query1)\n",
    "\n",
    "print(\"Embeddings:\", bm25_query_embedding)\n"
   ]
  },
  {
   "cell_type": "code",
   "execution_count": 32,
   "metadata": {},
   "outputs": [
    {
     "name": "stdout",
     "output_type": "stream",
     "text": [
      "Query text BM25 Embeddings: [{0: 0.4211036, 2: 0.76214004, 7: 0.76214004, 8: 1.8458267}]\n"
     ]
    }
   ],
   "source": [
    "import numpy as np\n",
    "import scipy.sparse as sp\n",
    "\n",
    "def csr_to_dict_list(csr_matrix):\n",
    "    result = []\n",
    "    indptr = csr_matrix.indptr\n",
    "    indices = csr_matrix.indices\n",
    "    data = csr_matrix.data\n",
    "\n",
    "    for i in range(csr_matrix.shape[0]):\n",
    "        start, end = indptr[i], indptr[i+1]\n",
    "        row_indices = indices[start:end]\n",
    "        row_data = data[start:end]\n",
    "        row_dict = dict(zip(row_indices, row_data))\n",
    "        result.append(row_dict)\n",
    "    \n",
    "    return result\n",
    "\n",
    "bm25_query_embedding = csr_to_dict_list(bm25_query_embedding)\n",
    "print(\"Query text BM25 Embeddings:\", bm25_query_embedding)"
   ]
  },
  {
   "cell_type": "code",
   "execution_count": 33,
   "metadata": {},
   "outputs": [
    {
     "name": "stdout",
     "output_type": "stream",
     "text": [
      "Query text ST Embeddings: (1, 384)\n"
     ]
    }
   ],
   "source": [
    "\n",
    "#With query1 - semantic search\n",
    "st_query_embeddings = model.encode(query1)\n",
    "print(\"Query text ST Embeddings:\", st_query_embeddings.shape)\n",
    "\n"
   ]
  },
  {
   "cell_type": "code",
   "execution_count": 34,
   "metadata": {},
   "outputs": [],
   "source": [
    "from pymilvus import AnnSearchRequest\n",
    "\n",
    "\n",
    "search_param_1 = {\n",
    "    \"data\": bm25_query_embedding, # Query vector\n",
    "    \"anns_field\": \"text_embedding\", # Vector field name\n",
    "    \"param\": {\n",
    "        \"metric_type\": \"IP\", # This parameter value must be identical to the one used in the collection schema\n",
    "        \"params\": {\"drop_ratio_search\": \"0.2\"}\n",
    "    },\n",
    "    \"limit\": 2 # Number of search results to return in this AnnSearchRequest\n",
    "}\n",
    "request_1 = AnnSearchRequest(**search_param_1)\n",
    "\n",
    "search_param_2 = {\n",
    "    \"data\": st_query_embeddings, # Query vector\n",
    "    \"anns_field\": \"context_embedding\", # Vector field name\n",
    "    \"param\": {\n",
    "        \"metric_type\": \"L2\", # This parameter value must be identical to the one used in the collection schema\n",
    "        \"params\": {\"nprobe\": 10}\n",
    "    },\n",
    "    \n",
    "    \"limit\": 2 # Number of search results to return in this AnnSearchRequest\n",
    "}\n",
    "request_2 = AnnSearchRequest(**search_param_2)\n",
    "\n",
    "reqs = [request_1,request_2]\n"
   ]
  },
  {
   "cell_type": "code",
   "execution_count": 35,
   "metadata": {},
   "outputs": [],
   "source": [
    "from pymilvus import WeightedRanker\n",
    "rerank1 = WeightedRanker(0.2,0.8)  \n",
    "rerank2 = WeightedRanker(0.8,0.2)  \n"
   ]
  },
  {
   "cell_type": "markdown",
   "metadata": {},
   "source": [
    "\n",
    "- For the query - \"Does Python supports object-oriented programming?\", we gave a higher weight to BM25 using rerank2 and a lower weight to sentence transformer."
   ]
  },
  {
   "cell_type": "code",
   "execution_count": 36,
   "metadata": {},
   "outputs": [
    {
     "name": "stdout",
     "output_type": "stream",
     "text": [
      "Retrieved Results:\n",
      "\n",
      "Id: 2\n",
      "Text: Python supports object-oriented programming. Classes and objects are fundamental concepts.\n",
      "Context: The language allows for defining custom types through classes. This approach enables the creation of new data structures with associated methods. Encapsulation, inheritance, and polymorphism are core principles, facilitating modular and reusable code. Objects represent instances of classes and can encapsulate both data and behavior, promoting organized and efficient software design.\n",
      "\n",
      "Id: 6\n",
      "Text: Python supports multiple programming paradigms. It includes procedural and functional styles.\n",
      "Context: The language accommodates various styles of programming, allowing developers to choose the approach that best fits their needs. Procedural programming focuses on procedures and functions, while functional programming emphasizes the use of pure functions and immutability. This versatility supports diverse programming techniques and allows for flexible solutions to different problems.\n"
     ]
    }
   ],
   "source": [
    "# Load the collection\n",
    "milvus_client.load_collection(\n",
    "    collection_name=COLLECTION_NAME\n",
    ")\n",
    "\n",
    "res = milvus_client.hybrid_search(\n",
    "    collection_name=COLLECTION_NAME,\n",
    "    output_fields=[\"id\",\"text\",\"context\"],\n",
    "    reqs=reqs, # List of AnnSearchRequests created in step 1\n",
    "    ranker=rerank2, # Reranking strategy specified in step 2\n",
    "    limit=2, # Number of final search results to return   \n",
    ")\n",
    "\n",
    "print(\"Retrieved Results:\")\n",
    "for hit in res[0]:\n",
    "    entity = hit['entity']\n",
    "    print(f\"\\nId: {entity['id']}\\nText: {entity['text']}\\nContext: {entity['context']}\")\n",
    "     "
   ]
  },
  {
   "cell_type": "markdown",
   "metadata": {},
   "source": [
    "\n",
    "- For the query - \"Does Python supports object-oriented programming?\", we gave a higher weight to sentence transformer using rerank1."
   ]
  },
  {
   "cell_type": "code",
   "execution_count": null,
   "metadata": {},
   "outputs": [],
   "source": [
    "# Load the collection\n",
    "milvus_client.load_collection(\n",
    "    collection_name=COLLECTION_NAME\n",
    ")\n",
    "\n",
    "res = milvus_client.hybrid_search(\n",
    "    collection_name=COLLECTION_NAME,\n",
    "    output_fields=[\"id\",\"text\",\"context\"],\n",
    "    reqs=reqs, # List of AnnSearchRequests created in step 1\n",
    "    ranker=rerank1, # Reranking strategy specified in step 2\n",
    "    limit=2, # Number of final search results to return   \n",
    ")\n"
   ]
  },
  {
   "cell_type": "code",
   "execution_count": 38,
   "metadata": {},
   "outputs": [
    {
     "name": "stdout",
     "output_type": "stream",
     "text": [
      "Retrieved Results:\n",
      "\n",
      "Id: 10\n",
      "Text: Python supports web development frameworks. Django and Flask are notable examples.\n",
      "Context: The language provides several frameworks to streamline the development of web applications. Django is a high-level framework that follows the 'batteries-included' philosophy, offering built-in features for rapid development. Flask, on the other hand, is a lightweight framework that provides more flexibility and control. Both frameworks facilitate web development by providing tools and structures for building robust web applications.\n",
      "\n",
      "Id: 9\n",
      "Text: Python is widely used in data science. Libraries such as NumPy and pandas are popular.\n",
      "Context: The language has become a leading choice in the field of data analysis and scientific computing. It offers robust libraries and tools designed for handling and analyzing large datasets. NumPy provides support for numerical operations and array manipulations, while pandas offers data structures and functions for data analysis and manipulation. These libraries contribute to Python's strong presence in data science.\n"
     ]
    }
   ],
   "source": [
    "print(\"Retrieved Results:\")\n",
    "for hit in res[0]:\n",
    "    entity = hit['entity']\n",
    "    print(f\"\\nId: {entity['id']}\\nText: {entity['text']}\\nContext: {entity['context']}\")\n"
   ]
  },
  {
   "cell_type": "markdown",
   "metadata": {},
   "source": [
    "### Query 2"
   ]
  },
  {
   "cell_type": "code",
   "execution_count": 39,
   "metadata": {},
   "outputs": [
    {
     "name": "stdout",
     "output_type": "stream",
     "text": [
      "Embeddings:   (0, 0)\t0.4211035966873169\n"
     ]
    }
   ],
   "source": [
    "#With query2 - keyword search\n",
    "bm25_query_embedding = bm25_ef.encode_queries(query2)\n",
    "\n",
    "print(\"Embeddings:\", bm25_query_embedding)\n"
   ]
  },
  {
   "cell_type": "code",
   "execution_count": 40,
   "metadata": {},
   "outputs": [
    {
     "name": "stdout",
     "output_type": "stream",
     "text": [
      "Query text BM25 Embeddings: [{0: 0.4211036}]\n"
     ]
    }
   ],
   "source": [
    "bm25_query_embedding = csr_to_dict_list(bm25_query_embedding)\n",
    "print(\"Query text BM25 Embeddings:\", bm25_query_embedding)"
   ]
  },
  {
   "cell_type": "code",
   "execution_count": 41,
   "metadata": {},
   "outputs": [
    {
     "name": "stdout",
     "output_type": "stream",
     "text": [
      "Query text ST Embeddings: (1, 384)\n"
     ]
    }
   ],
   "source": [
    "\n",
    "#With query2 - semantic search\n",
    "st_query_embeddings = model.encode(query2)\n",
    "print(\"Query text ST Embeddings:\", st_query_embeddings.shape)\n",
    "\n"
   ]
  },
  {
   "cell_type": "code",
   "execution_count": 42,
   "metadata": {},
   "outputs": [],
   "source": [
    "from pymilvus import AnnSearchRequest\n",
    "\n",
    "\n",
    "search_param_1 = {\n",
    "    \"data\": bm25_query_embedding, # Query vector\n",
    "    \"anns_field\": \"text_embedding\", # Vector field name\n",
    "    \"param\": {\n",
    "        \"metric_type\": \"IP\", # This parameter value must be identical to the one used in the collection schema\n",
    "        \"params\": {\"drop_ratio_search\": \"0.2\"}\n",
    "    },\n",
    "    \"limit\": 2 # Number of search results to return in this AnnSearchRequest\n",
    "}\n",
    "request_1 = AnnSearchRequest(**search_param_1)\n",
    "\n",
    "search_param_2 = {\n",
    "    \"data\": st_query_embeddings, # Query vector\n",
    "    \"anns_field\": \"context_embedding\", # Vector field name\n",
    "    \"param\": {\n",
    "        \"metric_type\": \"L2\", # This parameter value must be identical to the one used in the collection schema\n",
    "        \"params\": {\"nprobe\": 10}\n",
    "    },\n",
    "    \n",
    "    \"limit\": 2 # Number of search results to return in this AnnSearchRequest\n",
    "}\n",
    "request_2 = AnnSearchRequest(**search_param_2)\n",
    "\n",
    "reqs = [request_1,request_2]\n"
   ]
  },
  {
   "cell_type": "markdown",
   "metadata": {},
   "source": [
    "\n",
    "- For the query - \"Why is python so picky about tabs and spaces?\", we gave a higher weight to sentence transformer over BM25."
   ]
  },
  {
   "cell_type": "code",
   "execution_count": null,
   "metadata": {},
   "outputs": [
    {
     "name": "stdout",
     "output_type": "stream",
     "text": [
      "Retrieved Results:\n",
      "\n",
      "Id: 5\n",
      "Text: Python uses significant whitespace. Indentation affects code structure.\n",
      "Context: Code organization relies on indentation levels to define blocks of code, such as loops and conditionals. This approach enforces a uniform style and readability, making the structure of the code visually apparent. Proper indentation is essential for defining the scope and flow of control structures, promoting clean and maintainable code.\n",
      "\n",
      "Id: 9\n",
      "Text: Python is widely used in data science. Libraries such as NumPy and pandas are popular.\n",
      "Context: The language has become a leading choice in the field of data analysis and scientific computing. It offers robust libraries and tools designed for handling and analyzing large datasets. NumPy provides support for numerical operations and array manipulations, while pandas offers data structures and functions for data analysis and manipulation. These libraries contribute to Python's strong presence in data science.\n"
     ]
    }
   ],
   "source": [
    "# Load the collection\n",
    "milvus_client.load_collection(\n",
    "    collection_name=COLLECTION_NAME\n",
    ")\n",
    "\n",
    "res = milvus_client.hybrid_search(\n",
    "    collection_name=COLLECTION_NAME,\n",
    "    output_fields=[\"id\",\"text\",\"context\"],\n",
    "    reqs=reqs, # List of AnnSearchRequests created in step 1\n",
    "    ranker=rerank1, # Reranking strategy specified in step 2\n",
    "    limit=2, # Number of final search results to return   \n",
    ")\n",
    "\n",
    "print(\"Retrieved Results:\")\n",
    "for hit in res[0]:\n",
    "    entity = hit['entity']\n",
    "    print(f\"\\nId: {entity['id']}\\nText: {entity['text']}\\nContext: {entity['context']}\")\n",
    "\n"
   ]
  },
  {
   "cell_type": "markdown",
   "metadata": {},
   "source": [
    "- For the query - \"Why is python so picky about tabs and spaces?\", we gave a higher weight to BM25 using rerank1."
   ]
  },
  {
   "cell_type": "code",
   "execution_count": null,
   "metadata": {},
   "outputs": [
    {
     "name": "stdout",
     "output_type": "stream",
     "text": [
      "Retrieved Results:\n",
      "\n",
      "Id: 1\n",
      "Text: Python is a high-level programming language. It is known for simplicity and readability.\n",
      "Context: Developed by Guido van Rossum, this language emerged in 1991 and has since gained widespread adoption. It focuses on clarity and conciseness, favoring a straightforward approach to programming. The design emphasizes readable code and features a broad standard library. The language supports various programming styles and paradigms, making it versatile for different types of projects.\n",
      "\n",
      "Id: 8\n",
      "Text: Python is interpreted, not compiled. Code is executed line by line.\n",
      "Context: The language processes and executes code directly without a separate compilation step. Each line of code is executed sequentially, allowing for interactive development and immediate feedback. This approach contrasts with compiled languages, where code is translated into machine language before execution. The interpreted nature facilitates debugging and rapid prototyping.\n"
     ]
    }
   ],
   "source": [
    "# Load the collection\n",
    "milvus_client.load_collection(\n",
    "    collection_name=COLLECTION_NAME\n",
    ")\n",
    "\n",
    "res = milvus_client.hybrid_search(\n",
    "    collection_name=COLLECTION_NAME,\n",
    "    output_fields=[\"id\",\"text\",\"context\"],\n",
    "    reqs=reqs, # List of AnnSearchRequests created in step 1\n",
    "    ranker=rerank2, # Reranking strategy specified in step 2\n",
    "    limit=2, # Number of final search results to return   \n",
    ")\n",
    "\n",
    "print(\"Retrieved Results:\")\n",
    "for hit in res[0]:\n",
    "    entity = hit['entity']\n",
    "    print(f\"\\nId: {entity['id']}\\nText: {entity['text']}\\nContext: {entity['context']}\")\n",
    "\n"
   ]
  },
  {
   "cell_type": "markdown",
   "metadata": {},
   "source": [
    "## Conclusion\n",
    "\n",
    "From the above test results its is evident that few queries need contextual search while others look for key word based search. Based on the nature of query appropriate weights can be added to dense and sparse embeddings to achieve best retrieval accuracy."
   ]
  }
 ],
 "metadata": {
  "kernelspec": {
   "display_name": "Python 3",
   "language": "python",
   "name": "python3"
  },
  "language_info": {
   "codemirror_mode": {
    "name": "ipython",
    "version": 3
   },
   "file_extension": ".py",
   "mimetype": "text/x-python",
   "name": "python",
   "nbconvert_exporter": "python",
   "pygments_lexer": "ipython3",
   "version": "3.11.9"
  }
 },
 "nbformat": 4,
 "nbformat_minor": 4
}
