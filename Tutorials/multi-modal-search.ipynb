{
 "cells": [
  {
   "cell_type": "markdown",
   "id": "6b83df0e-f4b4-4acd-b005-ec7de625c506",
   "metadata": {},
   "source": [
    "# Milvus Multi Modal Search"
   ]
  },
  {
   "cell_type": "markdown",
   "id": "d933fbf5",
   "metadata": {},
   "source": [
    "## Disclaimers\n",
    "- Use only Projects and Spaces that are available in watsonx context.\n",
    "\n",
    "## Overview\n",
    "### AUDIENCE\n",
    "This notebook demonstrates the advanced features of Milvus 2.4, including multi-vector support and hybrid search capabilities.\n",
    "\n",
    "The scenario in this notebook has a dataset comprising embeddings generated from diverse data modalities (e.g., text and images) stored in a csv file. It introduces \n",
    "- Milvus 2.4 multi-vector support and a hybrid search framework, which means we can bring in several vector fields (up to 10) into a single collection.\n",
    "- These vectors in different columns represent diverse facets of data, originating from different embedding models or undergoing distinct processing methods.\n",
    "- The results of hybrid searches are integrated using reranking strategies, such as Reciprocal Rank Fusion (RRF) and Weighted Scoring.\n",
    "\n",
    "Some familiarity with Python, vector embeddings, and basic database concepts is helpful. This notebook is compatible with Python 3.12.\n",
    "### Learning goal\n",
    "This notebook demonstrates using multi-vector support and a hybrid search framework in watsonx.data, introducing commands for:\n",
    "- Connecting to Milvus\n",
    "- Creating collections\n",
    "- Creating indexes\n",
    "- Ingesting data\n",
    "- Querying\n",
    "\n",
    "### About Milvus\n",
    "[Visit Milvus Documentation](https://milvus.io/docs/)\n",
    "\n",
    "Milvus is an open-source vector database designed specifically for scalable similarity search and AI applications. It's a powerful platform that enables efficient storage, indexing, and retrieval of vector embeddings, which are crucial in modern machine learning and artificial intelligence tasks.\n",
    "\n",
    "### Milvus: Three Fundamental Steps\n",
    "\n",
    "#### 1. Data Preparation\n",
    "Collect and convert your data into high-dimensional vector embeddings. These vectors are typically generated using machine learning models like neural networks, which transform text, images, audio, or other data types into dense numerical representations that capture semantic meaning and relationships.\n",
    "\n",
    "#### 2. Vector Insertion\n",
    "Load the dense vector embeddings and sparse vector embeddings into Milvus collections or partitions within a database. Milvus creates indexes to optimize subsequent search operations, supporting various indexing algorithms like IVF-FLAT, HNSW, etc., based on the definition.\n",
    "\n",
    "#### 3. Similarity Search\n",
    "Perform vector similarity searches by providing a query vector and a reranking weight. Milvus will rapidly return the most similar vectors from the collection or partitions based on the defined metrics like cosine similarity, Euclidean distance, or inner product and the reranking weight.\n",
    "\n",
    "### Multi modal Search Use cases\n",
    "Multi-modal search refers to a search system capable of processing and retrieving information based on multiple data modalities, such as text, images, audioetc. Instead of limiting searches to a single modality, multi-modal search integrates diverse data types to deliver richer, more relevant results. This allows cross-modal interactions which provides embeddings from different modalities to provide more contextually relevant results.\n",
    "\n",
    "Some use cases include :\n",
    "- Content-Based Image Retrieval (CBIR)\n",
    "- Medical Imaging\n",
    "- Cross-Modal Search in Social Media\n",
    "\n",
    "\n",
    "\n",
    "### Key Workflow\n",
    "\n",
    "1. **Definition** (once)\n",
    "2. **Ingestion** (once)\n",
    "3. **Retrieve relevant passage(s)** (for every user query)\n",
    "\n",
    "## Contents\n",
    "\n",
    "- Environment Setup\n",
    "- Import libraries\n",
    "- Data loading\n",
    "- Create connection\n",
    "- Ingest data\n",
    "- Query\n",
    "## Environment Setup\n",
    "\n",
    "Before using the sample code in this notebook, complete the following setup tasks:\n",
    "\n",
    "- Create a Watsonx.data instance (a free plan is offered)\n",
    "  - Information about creating a watsonx.data instance can be found [here](https://www.ibm.com/docs/en/watsonx/watsonxdata/2.0.x)"
   ]
  },
  {
   "cell_type": "markdown",
   "id": "715d45b5-4b9f-4ac7-bc23-b7619e756c84",
   "metadata": {},
   "source": [
    "## Import Libraries"
   ]
  },
  {
   "cell_type": "markdown",
   "id": "cc675434-e388-4905-9992-61554e9e5456",
   "metadata": {},
   "source": [
    "This notebook uses sentence transformer to generate vector embeddings."
   ]
  },
  {
   "cell_type": "code",
   "execution_count": null,
   "id": "8e0a6c85-5c10-45d2-8206-9b3b922f3d78",
   "metadata": {},
   "outputs": [],
   "source": [
    "#!pip install pymilvus\n",
    "# Restart Kernal"
   ]
  },
  {
   "cell_type": "code",
   "execution_count": 1,
   "id": "4f1421c3-08ad-460b-919e-2675a13b87f5",
   "metadata": {},
   "outputs": [
    {
     "name": "stdout",
     "output_type": "stream",
     "text": [
      "Name: pymilvus\n",
      "Version: 2.4.0\n",
      "Summary: Python Sdk for Milvus\n",
      "Home-page: \n",
      "Author: \n",
      "Author-email: Milvus Team <milvus-team@zilliz.com>\n",
      "License: \n",
      "Location: /Users/swatikarot/Downloads/milvus/myenv/lib/python3.12/site-packages\n",
      "Requires: azure-storage-blob, environs, grpcio, minio, pandas, protobuf, pyarrow, requests, scipy, setuptools, ujson\n",
      "Required-by: \n"
     ]
    }
   ],
   "source": [
    "%%capture\n",
    "!pip show pymilvus\n"
   ]
  },
  {
   "cell_type": "code",
   "execution_count": 24,
   "id": "d5a19fc2-da5c-4c34-b563-b21872074353",
   "metadata": {},
   "outputs": [
    {
     "name": "stdout",
     "output_type": "stream",
     "text": [
      "Requirement already satisfied: pandas in /Users/swatikarot/Downloads/demo-milvus-2.4.0/milvus_env/lib/python3.12/site-packages (2.2.2)\n",
      "Collecting pillow\n",
      "  Using cached pillow-10.3.0-cp312-cp312-macosx_11_0_arm64.whl.metadata (9.2 kB)\n",
      "Requirement already satisfied: ipython in /Users/swatikarot/Downloads/demo-milvus-2.4.0/milvus_env/lib/python3.12/site-packages (8.25.0)\n",
      "Requirement already satisfied: numpy>=1.26.0 in /Users/swatikarot/Downloads/demo-milvus-2.4.0/milvus_env/lib/python3.12/site-packages (from pandas) (2.0.0)\n",
      "Requirement already satisfied: python-dateutil>=2.8.2 in /Users/swatikarot/Downloads/demo-milvus-2.4.0/milvus_env/lib/python3.12/site-packages (from pandas) (2.9.0.post0)\n",
      "Requirement already satisfied: pytz>=2020.1 in /Users/swatikarot/Downloads/demo-milvus-2.4.0/milvus_env/lib/python3.12/site-packages (from pandas) (2024.1)\n",
      "Requirement already satisfied: tzdata>=2022.7 in /Users/swatikarot/Downloads/demo-milvus-2.4.0/milvus_env/lib/python3.12/site-packages (from pandas) (2024.1)\n",
      "Requirement already satisfied: decorator in /Users/swatikarot/Downloads/demo-milvus-2.4.0/milvus_env/lib/python3.12/site-packages (from ipython) (5.1.1)\n",
      "Requirement already satisfied: jedi>=0.16 in /Users/swatikarot/Downloads/demo-milvus-2.4.0/milvus_env/lib/python3.12/site-packages (from ipython) (0.19.1)\n",
      "Requirement already satisfied: matplotlib-inline in /Users/swatikarot/Downloads/demo-milvus-2.4.0/milvus_env/lib/python3.12/site-packages (from ipython) (0.1.7)\n",
      "Requirement already satisfied: prompt-toolkit<3.1.0,>=3.0.41 in /Users/swatikarot/Downloads/demo-milvus-2.4.0/milvus_env/lib/python3.12/site-packages (from ipython) (3.0.47)\n",
      "Requirement already satisfied: pygments>=2.4.0 in /Users/swatikarot/Downloads/demo-milvus-2.4.0/milvus_env/lib/python3.12/site-packages (from ipython) (2.18.0)\n",
      "Requirement already satisfied: stack-data in /Users/swatikarot/Downloads/demo-milvus-2.4.0/milvus_env/lib/python3.12/site-packages (from ipython) (0.6.3)\n",
      "Requirement already satisfied: traitlets>=5.13.0 in /Users/swatikarot/Downloads/demo-milvus-2.4.0/milvus_env/lib/python3.12/site-packages (from ipython) (5.14.3)\n",
      "Requirement already satisfied: pexpect>4.3 in /Users/swatikarot/Downloads/demo-milvus-2.4.0/milvus_env/lib/python3.12/site-packages (from ipython) (4.9.0)\n",
      "Requirement already satisfied: parso<0.9.0,>=0.8.3 in /Users/swatikarot/Downloads/demo-milvus-2.4.0/milvus_env/lib/python3.12/site-packages (from jedi>=0.16->ipython) (0.8.4)\n",
      "Requirement already satisfied: ptyprocess>=0.5 in /Users/swatikarot/Downloads/demo-milvus-2.4.0/milvus_env/lib/python3.12/site-packages (from pexpect>4.3->ipython) (0.7.0)\n",
      "Requirement already satisfied: wcwidth in /Users/swatikarot/Downloads/demo-milvus-2.4.0/milvus_env/lib/python3.12/site-packages (from prompt-toolkit<3.1.0,>=3.0.41->ipython) (0.2.13)\n",
      "Requirement already satisfied: six>=1.5 in /Users/swatikarot/Downloads/demo-milvus-2.4.0/milvus_env/lib/python3.12/site-packages (from python-dateutil>=2.8.2->pandas) (1.16.0)\n",
      "Requirement already satisfied: executing>=1.2.0 in /Users/swatikarot/Downloads/demo-milvus-2.4.0/milvus_env/lib/python3.12/site-packages (from stack-data->ipython) (2.0.1)\n",
      "Requirement already satisfied: asttokens>=2.1.0 in /Users/swatikarot/Downloads/demo-milvus-2.4.0/milvus_env/lib/python3.12/site-packages (from stack-data->ipython) (2.4.1)\n",
      "Requirement already satisfied: pure-eval in /Users/swatikarot/Downloads/demo-milvus-2.4.0/milvus_env/lib/python3.12/site-packages (from stack-data->ipython) (0.2.2)\n",
      "Using cached pillow-10.3.0-cp312-cp312-macosx_11_0_arm64.whl (3.4 MB)\n",
      "Installing collected packages: pillow\n",
      "Successfully installed pillow-10.3.0\n",
      "\n",
      "\u001b[1m[\u001b[0m\u001b[34;49mnotice\u001b[0m\u001b[1;39;49m]\u001b[0m\u001b[39;49m A new release of pip is available: \u001b[0m\u001b[31;49m24.0\u001b[0m\u001b[39;49m -> \u001b[0m\u001b[32;49m24.1.1\u001b[0m\n",
      "\u001b[1m[\u001b[0m\u001b[34;49mnotice\u001b[0m\u001b[1;39;49m]\u001b[0m\u001b[39;49m To update, run: \u001b[0m\u001b[32;49mpip install --upgrade pip\u001b[0m\n"
     ]
    }
   ],
   "source": [
    "!pip install pandas pillow ipython"
   ]
  },
  {
   "cell_type": "markdown",
   "id": "9e787a52-c9d8-432e-b533-4e6520e4265e",
   "metadata": {},
   "source": [
    "## Fetch Data"
   ]
  },
  {
   "cell_type": "markdown",
   "id": "5baaa8ba-f092-4654-9bd4-d96e7a5d7f15",
   "metadata": {},
   "source": [
    "The dataset consists of 5 products and 10 reviews for each product. \n",
    "- The first product named 'BestProductA' has all possitive reviews.\n",
    "- The second product named 'GoodProductB' has mostly possitive reviews, very few negative or neutral reviews.\n",
    "- The third product named 'AverageProductC' has mostly mixed or neutral reviews.\n",
    "- The fourth product named 'BadProductD' has mostly negative reviews, very few positive or neutral reviews.\n",
    "- The fifth product named 'WorstProductE' has all negative reviews.\n",
    "\n",
    "For the sake of getting a hint on the overall product quality, the product names have been choosen likewise. It has no effect on similarity calculation."
   ]
  },
  {
   "cell_type": "markdown",
   "id": "83e4b9f9",
   "metadata": {},
   "source": [
    "You can either create your own dataset tailored to your specific needs or source one from reputable online repositories. Make sure it has the following columns."
   ]
  },
  {
   "cell_type": "code",
   "execution_count": 25,
   "id": "9ea719ee-a7ec-44b9-a089-77fdc443dea3",
   "metadata": {},
   "outputs": [
    {
     "name": "stderr",
     "output_type": "stream",
     "text": [
      "/var/folders/27/fcf4w5d93djfxhslly4vj6j40000gn/T/ipykernel_26399/912622302.py:4: DeprecationWarning: numpy.core.numeric is deprecated and has been renamed to numpy._core.numeric. The numpy._core namespace contains private NumPy internals and its use is discouraged, as NumPy internals can change without warning in any release. In practice, most real-world usage of numpy.core is to access functionality in the public NumPy API. If that is the case, use the public NumPy API. If not, you are using NumPy internals. If you would still like to access an internal attribute, use numpy._core.numeric._frombuffer.\n",
      "  preprocessed_df = pickle.load(openfile)\n"
     ]
    },
    {
     "data": {
      "text/html": [
       "<div>\n",
       "<style scoped>\n",
       "    .dataframe tbody tr th:only-of-type {\n",
       "        vertical-align: middle;\n",
       "    }\n",
       "\n",
       "    .dataframe tbody tr th {\n",
       "        vertical-align: top;\n",
       "    }\n",
       "\n",
       "    .dataframe thead th {\n",
       "        text-align: right;\n",
       "    }\n",
       "</style>\n",
       "<table border=\"1\" class=\"dataframe\">\n",
       "  <thead>\n",
       "    <tr style=\"text-align: right;\">\n",
       "      <th></th>\n",
       "      <th>data</th>\n",
       "      <th>text_path</th>\n",
       "      <th>image_path</th>\n",
       "      <th>media_type</th>\n",
       "      <th>text_embeddings</th>\n",
       "      <th>image_embeddings</th>\n",
       "      <th>image</th>\n",
       "      <th>text</th>\n",
       "    </tr>\n",
       "  </thead>\n",
       "  <tbody>\n",
       "    <tr>\n",
       "      <th>0</th>\n",
       "      <td>bear</td>\n",
       "      <td>../data/text/bear.txt</td>\n",
       "      <td>../data/images/bear1.jpg</td>\n",
       "      <td>text</td>\n",
       "      <td>[-0.5404721, 1.5690618, 2.6174855, -1.1754416,...</td>\n",
       "      <td>[0.011310808, -0.019132396, -0.022592165, -0.0...</td>\n",
       "      <td>&lt;PIL.JpegImagePlugin.JpegImageFile image mode=...</td>\n",
       "      <td>Bears are large mammals with a stocky body, po...</td>\n",
       "    </tr>\n",
       "    <tr>\n",
       "      <th>1</th>\n",
       "      <td>bat</td>\n",
       "      <td>../data/text/bat.txt</td>\n",
       "      <td>../data/images/bat1.jpg</td>\n",
       "      <td>text</td>\n",
       "      <td>[-1.1327577, 4.4052844, -0.08142696, 0.8501287...</td>\n",
       "      <td>[-0.006592049, 0.027778821, -0.022019383, -0.0...</td>\n",
       "      <td>&lt;PIL.JpegImagePlugin.JpegImageFile image mode=...</td>\n",
       "      <td>Bats are the only mammals capable of sustained...</td>\n",
       "    </tr>\n",
       "    <tr>\n",
       "      <th>2</th>\n",
       "      <td>deer</td>\n",
       "      <td>../data/text/deer.txt</td>\n",
       "      <td>../data/images/deer1.jpg</td>\n",
       "      <td>text</td>\n",
       "      <td>[0.8241224, 3.2268438, 3.307532, 0.47642612, -...</td>\n",
       "      <td>[0.0075792605, 0.0073336903, 0.04133869, 0.013...</td>\n",
       "      <td>&lt;PIL.JpegImagePlugin.JpegImageFile image mode=...</td>\n",
       "      <td>Deer are hoofed mammals known for their gracef...</td>\n",
       "    </tr>\n",
       "    <tr>\n",
       "      <th>3</th>\n",
       "      <td>hedgehog</td>\n",
       "      <td>../data/text/hedgehog.txt</td>\n",
       "      <td>../data/images/hedgehog1.jpg</td>\n",
       "      <td>text</td>\n",
       "      <td>[-0.5404721, 1.5690618, 2.6174855, -1.1754416,...</td>\n",
       "      <td>[0.022487547, -1.5443937e-05, -0.0180075, -0.0...</td>\n",
       "      <td>&lt;PIL.JpegImagePlugin.JpegImageFile image mode=...</td>\n",
       "      <td>Hedgehogs are small, nocturnal mammals known f...</td>\n",
       "    </tr>\n",
       "    <tr>\n",
       "      <th>4</th>\n",
       "      <td>caterpillar</td>\n",
       "      <td>../data/text/caterpillar.txt</td>\n",
       "      <td>../data/images/caterpillar1.jpg</td>\n",
       "      <td>text</td>\n",
       "      <td>[-1.083732, 3.8729773, 2.3686168, 0.439042, -2...</td>\n",
       "      <td>[0.033966806, 0.016641296, 0.024822084, -0.018...</td>\n",
       "      <td>&lt;PIL.JpegImagePlugin.JpegImageFile image mode=...</td>\n",
       "      <td>Caterpillars are the larval stage of butterfli...</td>\n",
       "    </tr>\n",
       "    <tr>\n",
       "      <th>5</th>\n",
       "      <td>fox</td>\n",
       "      <td>../data/text/fox.txt</td>\n",
       "      <td>../data/images/fox1.jpg</td>\n",
       "      <td>text</td>\n",
       "      <td>[0.8782075, 1.8314755, 4.31653, 0.12236622, -2...</td>\n",
       "      <td>[0.0037645553, -0.022698667, 0.026629105, -0.0...</td>\n",
       "      <td>&lt;PIL.JpegImagePlugin.JpegImageFile image mode=...</td>\n",
       "      <td>Foxes are small to medium-sized, omnivorous ma...</td>\n",
       "    </tr>\n",
       "  </tbody>\n",
       "</table>\n",
       "</div>"
      ],
      "text/plain": [
       "          data                     text_path                       image_path  \\\n",
       "0         bear         ../data/text/bear.txt         ../data/images/bear1.jpg   \n",
       "1          bat          ../data/text/bat.txt          ../data/images/bat1.jpg   \n",
       "2         deer         ../data/text/deer.txt         ../data/images/deer1.jpg   \n",
       "3     hedgehog     ../data/text/hedgehog.txt     ../data/images/hedgehog1.jpg   \n",
       "4  caterpillar  ../data/text/caterpillar.txt  ../data/images/caterpillar1.jpg   \n",
       "5          fox          ../data/text/fox.txt          ../data/images/fox1.jpg   \n",
       "\n",
       "  media_type                                    text_embeddings  \\\n",
       "0       text  [-0.5404721, 1.5690618, 2.6174855, -1.1754416,...   \n",
       "1       text  [-1.1327577, 4.4052844, -0.08142696, 0.8501287...   \n",
       "2       text  [0.8241224, 3.2268438, 3.307532, 0.47642612, -...   \n",
       "3       text  [-0.5404721, 1.5690618, 2.6174855, -1.1754416,...   \n",
       "4       text  [-1.083732, 3.8729773, 2.3686168, 0.439042, -2...   \n",
       "5       text  [0.8782075, 1.8314755, 4.31653, 0.12236622, -2...   \n",
       "\n",
       "                                    image_embeddings  \\\n",
       "0  [0.011310808, -0.019132396, -0.022592165, -0.0...   \n",
       "1  [-0.006592049, 0.027778821, -0.022019383, -0.0...   \n",
       "2  [0.0075792605, 0.0073336903, 0.04133869, 0.013...   \n",
       "3  [0.022487547, -1.5443937e-05, -0.0180075, -0.0...   \n",
       "4  [0.033966806, 0.016641296, 0.024822084, -0.018...   \n",
       "5  [0.0037645553, -0.022698667, 0.026629105, -0.0...   \n",
       "\n",
       "                                               image  \\\n",
       "0  <PIL.JpegImagePlugin.JpegImageFile image mode=...   \n",
       "1  <PIL.JpegImagePlugin.JpegImageFile image mode=...   \n",
       "2  <PIL.JpegImagePlugin.JpegImageFile image mode=...   \n",
       "3  <PIL.JpegImagePlugin.JpegImageFile image mode=...   \n",
       "4  <PIL.JpegImagePlugin.JpegImageFile image mode=...   \n",
       "5  <PIL.JpegImagePlugin.JpegImageFile image mode=...   \n",
       "\n",
       "                                                text  \n",
       "0  Bears are large mammals with a stocky body, po...  \n",
       "1  Bats are the only mammals capable of sustained...  \n",
       "2  Deer are hoofed mammals known for their gracef...  \n",
       "3  Hedgehogs are small, nocturnal mammals known f...  \n",
       "4  Caterpillars are the larval stage of butterfli...  \n",
       "5  Foxes are small to medium-sized, omnivorous ma...  "
      ]
     },
     "execution_count": 25,
     "metadata": {},
     "output_type": "execute_result"
    }
   ],
   "source": [
    "import pickle\n",
    "\n",
    "with open('./data/preprocessed_df.pkl', \"rb\") as openfile:\n",
    "    preprocessed_df = pickle.load(openfile)\n"
   ]
  },
  {
   "cell_type": "code",
   "execution_count": 37,
   "id": "f615a9c5-a5b0-45a5-9191-99f1d5f40d0d",
   "metadata": {},
   "outputs": [
    {
     "data": {
      "text/html": [
       "<div>\n",
       "<style scoped>\n",
       "    .dataframe tbody tr th:only-of-type {\n",
       "        vertical-align: middle;\n",
       "    }\n",
       "\n",
       "    .dataframe tbody tr th {\n",
       "        vertical-align: top;\n",
       "    }\n",
       "\n",
       "    .dataframe thead th {\n",
       "        text-align: right;\n",
       "    }\n",
       "</style>\n",
       "<table border=\"1\" class=\"dataframe\">\n",
       "  <thead>\n",
       "    <tr style=\"text-align: right;\">\n",
       "      <th></th>\n",
       "      <th>data</th>\n",
       "      <th>text_path</th>\n",
       "      <th>image_path</th>\n",
       "      <th>media_type</th>\n",
       "      <th>text_embeddings</th>\n",
       "      <th>image_embeddings</th>\n",
       "      <th>image</th>\n",
       "      <th>text</th>\n",
       "      <th>id</th>\n",
       "    </tr>\n",
       "  </thead>\n",
       "  <tbody>\n",
       "    <tr>\n",
       "      <th>0</th>\n",
       "      <td>bear</td>\n",
       "      <td>../data/text/bear.txt</td>\n",
       "      <td>../data/images/bear1.jpg</td>\n",
       "      <td>text</td>\n",
       "      <td>[-0.5404721, 1.5690618, 2.6174855, -1.1754416,...</td>\n",
       "      <td>[0.011310808, -0.019132396, -0.022592165, -0.0...</td>\n",
       "      <td>&lt;PIL.JpegImagePlugin.JpegImageFile image mode=...</td>\n",
       "      <td>Bears are large mammals with a stocky body, po...</td>\n",
       "      <td>0</td>\n",
       "    </tr>\n",
       "    <tr>\n",
       "      <th>1</th>\n",
       "      <td>bat</td>\n",
       "      <td>../data/text/bat.txt</td>\n",
       "      <td>../data/images/bat1.jpg</td>\n",
       "      <td>text</td>\n",
       "      <td>[-1.1327577, 4.4052844, -0.08142696, 0.8501287...</td>\n",
       "      <td>[-0.006592049, 0.027778821, -0.022019383, -0.0...</td>\n",
       "      <td>&lt;PIL.JpegImagePlugin.JpegImageFile image mode=...</td>\n",
       "      <td>Bats are the only mammals capable of sustained...</td>\n",
       "      <td>1</td>\n",
       "    </tr>\n",
       "    <tr>\n",
       "      <th>2</th>\n",
       "      <td>deer</td>\n",
       "      <td>../data/text/deer.txt</td>\n",
       "      <td>../data/images/deer1.jpg</td>\n",
       "      <td>text</td>\n",
       "      <td>[0.8241224, 3.2268438, 3.307532, 0.47642612, -...</td>\n",
       "      <td>[0.0075792605, 0.0073336903, 0.04133869, 0.013...</td>\n",
       "      <td>&lt;PIL.JpegImagePlugin.JpegImageFile image mode=...</td>\n",
       "      <td>Deer are hoofed mammals known for their gracef...</td>\n",
       "      <td>2</td>\n",
       "    </tr>\n",
       "    <tr>\n",
       "      <th>3</th>\n",
       "      <td>hedgehog</td>\n",
       "      <td>../data/text/hedgehog.txt</td>\n",
       "      <td>../data/images/hedgehog1.jpg</td>\n",
       "      <td>text</td>\n",
       "      <td>[-0.5404721, 1.5690618, 2.6174855, -1.1754416,...</td>\n",
       "      <td>[0.022487547, -1.5443937e-05, -0.0180075, -0.0...</td>\n",
       "      <td>&lt;PIL.JpegImagePlugin.JpegImageFile image mode=...</td>\n",
       "      <td>Hedgehogs are small, nocturnal mammals known f...</td>\n",
       "      <td>3</td>\n",
       "    </tr>\n",
       "    <tr>\n",
       "      <th>4</th>\n",
       "      <td>caterpillar</td>\n",
       "      <td>../data/text/caterpillar.txt</td>\n",
       "      <td>../data/images/caterpillar1.jpg</td>\n",
       "      <td>text</td>\n",
       "      <td>[-1.083732, 3.8729773, 2.3686168, 0.439042, -2...</td>\n",
       "      <td>[0.033966806, 0.016641296, 0.024822084, -0.018...</td>\n",
       "      <td>&lt;PIL.JpegImagePlugin.JpegImageFile image mode=...</td>\n",
       "      <td>Caterpillars are the larval stage of butterfli...</td>\n",
       "      <td>4</td>\n",
       "    </tr>\n",
       "    <tr>\n",
       "      <th>5</th>\n",
       "      <td>fox</td>\n",
       "      <td>../data/text/fox.txt</td>\n",
       "      <td>../data/images/fox1.jpg</td>\n",
       "      <td>text</td>\n",
       "      <td>[0.8782075, 1.8314755, 4.31653, 0.12236622, -2...</td>\n",
       "      <td>[0.0037645553, -0.022698667, 0.026629105, -0.0...</td>\n",
       "      <td>&lt;PIL.JpegImagePlugin.JpegImageFile image mode=...</td>\n",
       "      <td>Foxes are small to medium-sized, omnivorous ma...</td>\n",
       "      <td>5</td>\n",
       "    </tr>\n",
       "  </tbody>\n",
       "</table>\n",
       "</div>"
      ],
      "text/plain": [
       "          data                     text_path                       image_path  \\\n",
       "0         bear         ../data/text/bear.txt         ../data/images/bear1.jpg   \n",
       "1          bat          ../data/text/bat.txt          ../data/images/bat1.jpg   \n",
       "2         deer         ../data/text/deer.txt         ../data/images/deer1.jpg   \n",
       "3     hedgehog     ../data/text/hedgehog.txt     ../data/images/hedgehog1.jpg   \n",
       "4  caterpillar  ../data/text/caterpillar.txt  ../data/images/caterpillar1.jpg   \n",
       "5          fox          ../data/text/fox.txt          ../data/images/fox1.jpg   \n",
       "\n",
       "  media_type                                    text_embeddings  \\\n",
       "0       text  [-0.5404721, 1.5690618, 2.6174855, -1.1754416,...   \n",
       "1       text  [-1.1327577, 4.4052844, -0.08142696, 0.8501287...   \n",
       "2       text  [0.8241224, 3.2268438, 3.307532, 0.47642612, -...   \n",
       "3       text  [-0.5404721, 1.5690618, 2.6174855, -1.1754416,...   \n",
       "4       text  [-1.083732, 3.8729773, 2.3686168, 0.439042, -2...   \n",
       "5       text  [0.8782075, 1.8314755, 4.31653, 0.12236622, -2...   \n",
       "\n",
       "                                    image_embeddings  \\\n",
       "0  [0.011310808, -0.019132396, -0.022592165, -0.0...   \n",
       "1  [-0.006592049, 0.027778821, -0.022019383, -0.0...   \n",
       "2  [0.0075792605, 0.0073336903, 0.04133869, 0.013...   \n",
       "3  [0.022487547, -1.5443937e-05, -0.0180075, -0.0...   \n",
       "4  [0.033966806, 0.016641296, 0.024822084, -0.018...   \n",
       "5  [0.0037645553, -0.022698667, 0.026629105, -0.0...   \n",
       "\n",
       "                                               image  \\\n",
       "0  <PIL.JpegImagePlugin.JpegImageFile image mode=...   \n",
       "1  <PIL.JpegImagePlugin.JpegImageFile image mode=...   \n",
       "2  <PIL.JpegImagePlugin.JpegImageFile image mode=...   \n",
       "3  <PIL.JpegImagePlugin.JpegImageFile image mode=...   \n",
       "4  <PIL.JpegImagePlugin.JpegImageFile image mode=...   \n",
       "5  <PIL.JpegImagePlugin.JpegImageFile image mode=...   \n",
       "\n",
       "                                                text  id  \n",
       "0  Bears are large mammals with a stocky body, po...   0  \n",
       "1  Bats are the only mammals capable of sustained...   1  \n",
       "2  Deer are hoofed mammals known for their gracef...   2  \n",
       "3  Hedgehogs are small, nocturnal mammals known f...   3  \n",
       "4  Caterpillars are the larval stage of butterfli...   4  \n",
       "5  Foxes are small to medium-sized, omnivorous ma...   5  "
      ]
     },
     "execution_count": 37,
     "metadata": {},
     "output_type": "execute_result"
    }
   ],
   "source": [
    "preprocessed_df['id']= [i for i in range(preprocessed_df.shape[0])]\n",
    "preprocessed_df"
   ]
  },
  {
   "cell_type": "markdown",
   "id": "b930ed8c-3c6b-4b84-96e6-e92370620639",
   "metadata": {},
   "source": [
    "## Connect to Milvus"
   ]
  },
  {
   "cell_type": "code",
   "execution_count": 29,
   "id": "ebf910ed-654d-46be-8e76-64725b60c2b6",
   "metadata": {},
   "outputs": [],
   "source": [
    "fmt = \"\\n=== {:30} ===\\n\"\n",
    "num_entities, dim = 50, 1024  # Adjusted for more entities and higher dimension\n",
    "BATCH_SIZE = 5\n",
    "collection_name=\"mm_collection\""
   ]
  },
  {
   "cell_type": "code",
   "execution_count": 1,
   "id": "9b7107e1",
   "metadata": {},
   "outputs": [],
   "source": [
    "from pymilvus import MilvusClient, DataType, CollectionSchema, FieldSchema,utility,connections,Collection"
   ]
  },
  {
   "cell_type": "code",
   "execution_count": null,
   "id": "6705a906",
   "metadata": {},
   "outputs": [],
   "source": [
    "# Replace Placeholder Values <> with respective provisioned Milvus Values .\n",
    "\"\"\"# On Prem\n",
    "connections.connect(\n",
    "            alias='default',\n",
    "            host=\"<>\",\n",
    "            port=443,\n",
    "            secure=True,\n",
    "            server_pem_path=\"\",\n",
    "            server_name=\"<>\",\n",
    "            user=\"<>\",\n",
    "            password=\"<>\")\"\"\"\n",
    "# SaaS\n",
    "connections.connect(\n",
    "            alias='default',\n",
    "            host=\"<>\",\n",
    "            port=\"<>\",\n",
    "            secure=True,\n",
    "            user=\"<>\",\n",
    "            password=\"<>\")"
   ]
  },
  {
   "cell_type": "markdown",
   "id": "6a35b83d-ebee-4ef1-9739-128ba5b3a6df",
   "metadata": {},
   "source": [
    "## Create collection \n",
    "[more about collections](https://milvus.io/docs/manage-collections.md)"
   ]
  },
  {
   "cell_type": "code",
   "execution_count": 34,
   "id": "b416d67a-0f47-47b4-a719-21c0c96d08d5",
   "metadata": {},
   "outputs": [],
   "source": [
    "# Create schema\n",
    "fields = [\n",
    "    FieldSchema(name=\"id\", dtype=DataType.INT64, is_primary=True),\n",
    "    FieldSchema(name=\"text_embeddings\", dtype=DataType.FLOAT_VECTOR, dim=dim), # Vector field for film vectors\n",
    "    FieldSchema(name=\"image_embeddings\", dtype=DataType.FLOAT_VECTOR, dim=dim)] # Vector field for poster vectors\n",
    "\n",
    "schema = CollectionSchema(fields=fields,enable_dynamic_field=False)\n",
    "\n",
    "# Create collection\n",
    "collection = Collection(name=\"mm_collection\", schema=schema)"
   ]
  },
  {
   "cell_type": "markdown",
   "id": "c3273b48-d672-42c2-9bf0-558311d16ea5",
   "metadata": {},
   "source": [
    "## Create index and insert data \n",
    "[more on indexes](https://milvus.io/docs/index-vector-fields.md)"
   ]
  },
  {
   "cell_type": "code",
   "execution_count": 44,
   "id": "b0cc4891-2219-410b-9780-42ccd103ede3",
   "metadata": {},
   "outputs": [
    {
     "data": {
      "text/plain": [
       "(insert count: 6, delete count: 0, upsert count: 0, timestamp: 450754131706773506, success count: 6, err count: 0)"
      ]
     },
     "execution_count": 44,
     "metadata": {},
     "output_type": "execute_result"
    }
   ],
   "source": [
    "\n",
    "import pandas as pd\n",
    "import ast\n",
    "\n",
    "index_params = {\n",
    "    \"metric_type\": \"L2\",\n",
    "    \"index_type\": \"IVF_FLAT\",\n",
    "    \"params\": {\"nlist\": 128},\n",
    "}\n",
    "\n",
    "#create index\n",
    "collection.create_index(\"text_embeddings\", index_params)\n",
    "collection.create_index(\"image_embeddings\", index_params)\n",
    "\n",
    "\n",
    "# Load your DataFrame\n",
    "df = preprocessed_df[['id','text_embeddings','image_embeddings']]\n",
    "\n",
    "# List to store the entities\n",
    "entities = []\n",
    "\n",
    "# Iterate through the DataFrame rows\n",
    "for index, row in df.iterrows():\n",
    "   \n",
    "    # Create a dictionary for each entity\n",
    "    entity = {\n",
    "        \"id\": row['id'],\n",
    "        \"text_embeddings\": row['text_embeddings'],\n",
    "        \"image_embeddings\": row['image_embeddings']\n",
    "    }\n",
    "    \n",
    "    # Add the entity to the list\n",
    "    entities.append(entity)\n",
    "\n",
    "# Insert the entities into the collection\n",
    "collection.insert(entities)\n",
    "\n"
   ]
  },
  {
   "cell_type": "markdown",
   "id": "84540877",
   "metadata": {},
   "source": [
    "## Text based query embedding"
   ]
  },
  {
   "cell_type": "code",
   "execution_count": 165,
   "id": "ee5162b5-9d20-49ee-85a6-da111c98bfdb",
   "metadata": {},
   "outputs": [
    {
     "name": "stderr",
     "output_type": "stream",
     "text": [
      "/var/folders/27/fcf4w5d93djfxhslly4vj6j40000gn/T/ipykernel_26399/2448739131.py:4: DeprecationWarning: numpy.core.numeric is deprecated and has been renamed to numpy._core.numeric. The numpy._core namespace contains private NumPy internals and its use is discouraged, as NumPy internals can change without warning in any release. In practice, most real-world usage of numpy.core is to access functionality in the public NumPy API. If that is the case, use the public NumPy API. If not, you are using NumPy internals. If you would still like to access an internal attribute, use numpy._core.numeric._frombuffer.\n",
      "  query_embeddings = pickle.load(openfile)\n"
     ]
    },
    {
     "data": {
      "text/html": [
       "<div>\n",
       "<style scoped>\n",
       "    .dataframe tbody tr th:only-of-type {\n",
       "        vertical-align: middle;\n",
       "    }\n",
       "\n",
       "    .dataframe tbody tr th {\n",
       "        vertical-align: top;\n",
       "    }\n",
       "\n",
       "    .dataframe thead th {\n",
       "        text-align: right;\n",
       "    }\n",
       "</style>\n",
       "<table border=\"1\" class=\"dataframe\">\n",
       "  <thead>\n",
       "    <tr style=\"text-align: right;\">\n",
       "      <th></th>\n",
       "      <th>query_id</th>\n",
       "      <th>query_text</th>\n",
       "      <th>embeddings</th>\n",
       "    </tr>\n",
       "  </thead>\n",
       "  <tbody>\n",
       "    <tr>\n",
       "      <th>0</th>\n",
       "      <td>0</td>\n",
       "      <td>brown animal with antlers</td>\n",
       "      <td>[4.5750923, 3.471852, 3.454464, 0.50423515, -2...</td>\n",
       "    </tr>\n",
       "    <tr>\n",
       "      <th>1</th>\n",
       "      <td>1</td>\n",
       "      <td>green and yellow insect that cocoons</td>\n",
       "      <td>[-3.5080485, -2.0328262, 1.6813948, 0.07501351...</td>\n",
       "    </tr>\n",
       "    <tr>\n",
       "      <th>2</th>\n",
       "      <td>2</td>\n",
       "      <td>what is a bat?</td>\n",
       "      <td>[1.126978, -0.02785295, 2.672513, 4.200401, -3...</td>\n",
       "    </tr>\n",
       "  </tbody>\n",
       "</table>\n",
       "</div>"
      ],
      "text/plain": [
       "   query_id                            query_text  \\\n",
       "0         0             brown animal with antlers   \n",
       "1         1  green and yellow insect that cocoons   \n",
       "2         2                        what is a bat?   \n",
       "\n",
       "                                          embeddings  \n",
       "0  [4.5750923, 3.471852, 3.454464, 0.50423515, -2...  \n",
       "1  [-3.5080485, -2.0328262, 1.6813948, 0.07501351...  \n",
       "2  [1.126978, -0.02785295, 2.672513, 4.200401, -3...  "
      ]
     },
     "execution_count": 165,
     "metadata": {},
     "output_type": "execute_result"
    }
   ],
   "source": [
    "import pickle\n",
    "\n",
    "with open('./data/query_embeddings.pkl', \"rb\") as openfile:\n",
    "    query_embeddings = pickle.load(openfile)\n",
    "query_embeddings"
   ]
  },
  {
   "cell_type": "markdown",
   "id": "c4ad3bba",
   "metadata": {},
   "source": [
    "## Image based query embedding "
   ]
  },
  {
   "cell_type": "code",
   "execution_count": 166,
   "id": "db900f3b-ba9e-49dd-b788-183b8e5b06af",
   "metadata": {},
   "outputs": [
    {
     "name": "stderr",
     "output_type": "stream",
     "text": [
      "/var/folders/27/fcf4w5d93djfxhslly4vj6j40000gn/T/ipykernel_26399/2457774589.py:4: DeprecationWarning: numpy.core.numeric is deprecated and has been renamed to numpy._core.numeric. The numpy._core namespace contains private NumPy internals and its use is discouraged, as NumPy internals can change without warning in any release. In practice, most real-world usage of numpy.core is to access functionality in the public NumPy API. If that is the case, use the public NumPy API. If not, you are using NumPy internals. If you would still like to access an internal attribute, use numpy._core.numeric._frombuffer.\n",
      "  query_image_embeddings = pickle.load(openfile)\n"
     ]
    },
    {
     "data": {
      "text/html": [
       "<div>\n",
       "<style scoped>\n",
       "    .dataframe tbody tr th:only-of-type {\n",
       "        vertical-align: middle;\n",
       "    }\n",
       "\n",
       "    .dataframe tbody tr th {\n",
       "        vertical-align: top;\n",
       "    }\n",
       "\n",
       "    .dataframe thead th {\n",
       "        text-align: right;\n",
       "    }\n",
       "</style>\n",
       "<table border=\"1\" class=\"dataframe\">\n",
       "  <thead>\n",
       "    <tr style=\"text-align: right;\">\n",
       "      <th></th>\n",
       "      <th>query_id</th>\n",
       "      <th>embeddings</th>\n",
       "    </tr>\n",
       "  </thead>\n",
       "  <tbody>\n",
       "    <tr>\n",
       "      <th>0</th>\n",
       "      <td>0</td>\n",
       "      <td>[-0.015404081, 0.006553277, -0.005401999, 0.01...</td>\n",
       "    </tr>\n",
       "    <tr>\n",
       "      <th>1</th>\n",
       "      <td>1</td>\n",
       "      <td>[0.008140958, 0.018523317, 0.024238558, -0.022...</td>\n",
       "    </tr>\n",
       "    <tr>\n",
       "      <th>2</th>\n",
       "      <td>2</td>\n",
       "      <td>[0.024771081, -0.0030838004, 0.0018066134, 0.0...</td>\n",
       "    </tr>\n",
       "  </tbody>\n",
       "</table>\n",
       "</div>"
      ],
      "text/plain": [
       "   query_id                                         embeddings\n",
       "0         0  [-0.015404081, 0.006553277, -0.005401999, 0.01...\n",
       "1         1  [0.008140958, 0.018523317, 0.024238558, -0.022...\n",
       "2         2  [0.024771081, -0.0030838004, 0.0018066134, 0.0..."
      ]
     },
     "execution_count": 166,
     "metadata": {},
     "output_type": "execute_result"
    }
   ],
   "source": [
    "import pickle\n",
    "\n",
    "with open('./data/query_image_embeddings.pkl', \"rb\") as openfile:\n",
    "    query_image_embeddings = pickle.load(openfile)\n",
    "query_image_embeddings"
   ]
  },
  {
   "cell_type": "code",
   "execution_count": 174,
   "id": "9e2ae965-1169-43ae-9a4a-95e5ca59f77c",
   "metadata": {},
   "outputs": [],
   "source": [
    "question_text = query_embeddings['query_text'][1]\n",
    "question_text_vector = query_embeddings['embeddings'][1]\n",
    "question_image_vector = query_image_embeddings['embeddings'][1]\n"
   ]
  },
  {
   "cell_type": "markdown",
   "id": "7e643eba",
   "metadata": {},
   "source": [
    "## Query"
   ]
  },
  {
   "cell_type": "code",
   "execution_count": 184,
   "id": "6a697d23-34ba-47c7-876b-24746df1052d",
   "metadata": {},
   "outputs": [],
   "source": [
    "from pymilvus import AnnSearchRequest\n",
    "\n",
    "\n",
    "search_param_1 = {\n",
    "    \"data\": [question_text_vector], # Query vector\n",
    "    \"anns_field\": \"text_embeddings\", # Vector field name\n",
    "    \"param\": {\n",
    "        \"metric_type\": \"L2\", # This parameter value must be identical to the one used in the collection schema\n",
    "        \"params\": {\"nprobe\": 10}\n",
    "    },\n",
    "    \"limit\": 2 # Number of search results to return in this AnnSearchRequest\n",
    "}\n",
    "request_1 = AnnSearchRequest(**search_param_1)\n",
    "\n",
    "search_param_2 = {\n",
    "    \"data\": [question_image_vector], # Query vector\n",
    "    \"anns_field\": \"image_embeddings\", # Vector field name\n",
    "    \"param\": {\n",
    "        \"metric_type\": \"L2\", # This parameter value must be identical to the one used in the collection schema\n",
    "        \"params\": {\"nprobe\": 10}\n",
    "    },\n",
    "    \"limit\": 2 # Number of search results to return in this AnnSearchRequest\n",
    "}\n",
    "request_2 = AnnSearchRequest(**search_param_2)\n",
    "\n",
    "reqs = [request_1, request_2]\n"
   ]
  },
  {
   "cell_type": "code",
   "execution_count": 185,
   "id": "d8186632-eabd-459e-a2cc-f0705cb88cfb",
   "metadata": {},
   "outputs": [],
   "source": [
    "from pymilvus import WeightedRanker\n",
    "rerank = WeightedRanker(0.8, 0.2)  \n"
   ]
  },
  {
   "cell_type": "code",
   "execution_count": 186,
   "id": "02b199f9-90e1-42f8-a564-7655762cba01",
   "metadata": {},
   "outputs": [
    {
     "name": "stdout",
     "output_type": "stream",
     "text": [
      "[\"id: 4, distance: 0.1376328319311142, entity: {'id': 4}\"]\n"
     ]
    }
   ],
   "source": [
    "collection.load()\n",
    "\n",
    "res = collection.hybrid_search(\n",
    "    reqs, # List of AnnSearchRequests created in step 1\n",
    "    rerank, # Reranking strategy specified in step 2\n",
    "    limit=1, # Number of final search results to return\n",
    "    output_fields=[\"id\"]\n",
    ")\n",
    "\n",
    "print(res[0])\n"
   ]
  },
  {
   "cell_type": "code",
   "execution_count": 187,
   "id": "60d347ad-f452-47d1-ac65-3671fbd119cb",
   "metadata": {},
   "outputs": [
    {
     "name": "stdout",
     "output_type": "stream",
     "text": [
      "4\n"
     ]
    }
   ],
   "source": [
    "for hit in res[0]:\n",
    "    hit_id = hit.id\n",
    "    print(hit_id)\n"
   ]
  },
  {
   "cell_type": "code",
   "execution_count": 188,
   "id": "51a9fc2d-1f3e-4f14-b3b3-7d4927ace39c",
   "metadata": {},
   "outputs": [
    {
     "name": "stdout",
     "output_type": "stream",
     "text": [
      "          data                     text_path                       image_path  \\\n",
      "4  caterpillar  ../data/text/caterpillar.txt  ../data/images/caterpillar1.jpg   \n",
      "\n",
      "  media_type                                    text_embeddings  \\\n",
      "4       text  [-1.083732, 3.8729773, 2.3686168, 0.439042, -2...   \n",
      "\n",
      "                                    image_embeddings  \\\n",
      "4  [0.033966806, 0.016641296, 0.024822084, -0.018...   \n",
      "\n",
      "                                               image  \\\n",
      "4  <PIL.JpegImagePlugin.JpegImageFile image mode=...   \n",
      "\n",
      "                                                text  id  \n",
      "4  Caterpillars are the larval stage of butterfli...   4  \n"
     ]
    }
   ],
   "source": [
    "import pandas as pd\n",
    "import re\n",
    "\n",
    "# Filter DataFrame using the extracted id values\n",
    "filtered_df = preprocessed_df[preprocessed_df['id']==(hit.id)]\n",
    "\n",
    "print(filtered_df)\n"
   ]
  },
  {
   "cell_type": "code",
   "execution_count": 189,
   "id": "a379ee6e-d680-47f3-a91e-9411ffb52f5d",
   "metadata": {},
   "outputs": [
    {
     "name": "stdout",
     "output_type": "stream",
     "text": [
      "Data: caterpillar\n"
     ]
    },
    {
     "data": {
      "image/jpeg": "[encoded data removed]",
      "image/png": "[encoded data removed]",
      "text/plain": [
       "<PIL.JpegImagePlugin.JpegImageFile image mode=RGB size=259x194>"
      ]
     },
     "metadata": {},
     "output_type": "display_data"
    },
    {
     "name": "stdout",
     "output_type": "stream",
     "text": [
      "Text: Caterpillars are the larval stage of butterflies and moths. They have a segmented body with a distinct head and typically several pairs of true legs, as well as additional false legs or prolegs. Caterpillars are primarily known for their voracious appetite, often eating leaves voraciously before pupating into their adult form.\n",
      "\n"
     ]
    }
   ],
   "source": [
    "# Display images inline in Jupyter Notebook\n",
    "def display_images(df):\n",
    "    for idx, row in df.iterrows():\n",
    "        print(f\"Data: {row['data']}\")\n",
    "        display(row['image'])\n",
    "        print(f\"Text: {row['text']}\\n\")\n",
    "        \n",
    "\n",
    "# Call the function to display images and text\n",
    "display_images(filtered_df)"
   ]
  }
 ],
 "metadata": {
  "kernelspec": {
   "display_name": "Python 3 (ipykernel)",
   "language": "python",
   "name": "python3"
  },
  "language_info": {
   "codemirror_mode": {
    "name": "ipython",
    "version": 3
   },
   "file_extension": ".py",
   "mimetype": "text/x-python",
   "name": "python",
   "nbconvert_exporter": "python",
   "pygments_lexer": "ipython3",
   "version": "3.12.2"
  }
 },
 "nbformat": 4,
 "nbformat_minor": 5
}
