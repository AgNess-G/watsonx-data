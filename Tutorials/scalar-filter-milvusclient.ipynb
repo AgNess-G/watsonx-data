{
 "cells": [
  {
   "cell_type": "markdown",
   "metadata": {},
   "source": [
    "# MILVUS Demo - Scalar filtering \n",
    "\n",
    "# Scalar filtering during Search with Milvus in watsonx.data\n",
    "\n",
    "## Disclaimers\n",
    "- Use only Projects and Spaces that are available in watsonx context.\n",
    "\n",
    "## Overview\n",
    "### Audience\n",
    "This notebook demonstrates how to implement scalar filtering.\n",
    "To enhance the relevance of search results, you can filter metadata associated with vector embeddings before performing a search. When Milvus processes a search request that includes a filtering condition, it narrows the search to entities that meet the specified criteria, optimizing the search scope. \n",
    "The scenario presented in this notebook allows to filter through product details and suggest the product needed.\n",
    "\n",
    "Some familiarity with Python programming, search algorithms, and basic machine learning concepts is recommended. The code runs with Python 3.10 or later.\n",
    "### Learning goal\n",
    "This notebook demonstrates Milvus scalar filtering support in watsonx.data, introducing commands for:\n",
    "- Connecting to Milvus\n",
    "- Creating collections\n",
    "- Creating indexes\n",
    "- Generate Embeddings\n",
    "- Ingesting data\n",
    "- Data retrieval\n",
    "\n",
    "\n",
    "### About Milvus \n",
    "\n",
    "Milvus is an open-source vector database designed specifically for scalable similarity search and AI applications. It's a powerful platform that enables efficient storage, indexing, and retrieval of vector embeddings, which are crucial in modern machine learning and artificial intelligence tasks.[ To know more, visit Milvus Documentation](https://www.ibm.com/docs/en/watsonx/watsonxdata/2.1.x?topic=components-milvus)\n",
    "\n",
    "### Milvus: Three Fundamental Steps\n",
    "\n",
    "#### 1. Data Preparation\n",
    "Collect and convert your data into high-dimensional vector embeddings. These vectors are typically generated using machine learning models like neural networks, which transform text, images, audio, or other data types into dense numerical representations that capture semantic meaning and relationships.\n",
    "\n",
    "#### 2. Vector Insertion\n",
    "Load the dense vector embeddings and sparse vector embeddings into Milvus collections or partitions within a database. Milvus creates indexes to optimize subsequent search operations, supporting various indexing algorithms like IVF-FLAT, HNSW, etc., based on the definition.\n",
    "\n",
    "#### 3. Similarity Search\n",
    "Perform vector similarity searches by providing a query vector and a reranking weight. Milvus will rapidly return the most similar vectors from the collection or partitions based on the defined metrics like cosine similarity, Euclidean distance, or inner product and the reranking weight.\n",
    "\n",
    "### Why use Scalar Filtering\n",
    "Scalar filtering during search is a technique that restricts the search space by applying filters based on scalar attributes (e.g., numerical, categorical, or boolean data) associated with each record or vector. This is done before executing a similarity search, such as an Approximate Nearest Neighbor (ANN) search. This will refine the search scope resulting in improved search relevance and optimized search performance\n",
    "\n",
    "### Key Workflow\n",
    "\n",
    "1. **Definition** (once)\n",
    "2. **Ingestion** (once)\n",
    "3. **Retrieve relevant passage(s)** (for every user query)\n",
    "\n",
    "## Contents\n",
    "\n",
    "- Environment Setup\n",
    "- Install packages\n",
    "- Document data loading\n",
    "- Create connection\n",
    "- Ingest data\n",
    "- Retrieve relevant data\n",
    "\n",
    "## Environment Setup\n",
    "\n",
    "Before using the sample code in this notebook, complete the following setup tasks:\n",
    "\n",
    "- Create a Watsonx.data instance (a free plan is offered)\n",
    "  - Information about creating a watsonx.data instance can be found [here](https://www.ibm.com/docs/en/watsonx/watsonxdata/2.0.x)\n"
   ]
  },
  {
   "cell_type": "markdown",
   "metadata": {},
   "source": [
    "## Install required packages"
   ]
  },
  {
   "cell_type": "code",
   "execution_count": 1,
   "metadata": {},
   "outputs": [],
   "source": [
    "%%capture\n",
    "!pip install numpy"
   ]
  },
  {
   "cell_type": "code",
   "execution_count": 2,
   "metadata": {},
   "outputs": [],
   "source": [
    "%%capture\n",
    "!pip install torch"
   ]
  },
  {
   "cell_type": "code",
   "execution_count": 3,
   "metadata": {},
   "outputs": [],
   "source": [
    "%%capture\n",
    "!pip install sentence-transformers"
   ]
  },
  {
   "cell_type": "markdown",
   "metadata": {},
   "source": [
    "### Install Pymilvus SDK"
   ]
  },
  {
   "cell_type": "code",
   "execution_count": 4,
   "metadata": {},
   "outputs": [
    {
     "name": "stdout",
     "output_type": "stream",
     "text": [
      "zsh:1: command not found: pip\n"
     ]
    }
   ],
   "source": [
    "# !pip install pymilvus\n",
    "# Restart Kernal\n",
    "!pip show pymilvus"
   ]
  },
  {
   "cell_type": "markdown",
   "metadata": {},
   "source": [
    "### Post pymilvus installations"
   ]
  },
  {
   "cell_type": "code",
   "execution_count": 5,
   "metadata": {},
   "outputs": [],
   "source": [
    "import psutil\n",
    "import sys\n",
    "import numpy as np\n",
    "import time\n",
    "import pandas as pd\n",
    "from pymilvus import MilvusClient, DataType, CollectionSchema, FieldSchema,utility,connections,Collection"
   ]
  },
  {
   "cell_type": "code",
   "execution_count": 6,
   "metadata": {},
   "outputs": [],
   "source": [
    "%%capture\n",
    "%pip install \"pymilvus[model]\""
   ]
  },
  {
   "cell_type": "code",
   "execution_count": 7,
   "metadata": {},
   "outputs": [],
   "source": [
    "%%capture\n",
    "%pip install tensorflow"
   ]
  },
  {
   "cell_type": "code",
   "execution_count": 8,
   "metadata": {},
   "outputs": [],
   "source": [
    "%%capture\n",
    "%pip install --upgrade transformers"
   ]
  },
  {
   "cell_type": "markdown",
   "metadata": {},
   "source": [
    "## Preparing data"
   ]
  },
  {
   "cell_type": "code",
   "execution_count": 9,
   "metadata": {},
   "outputs": [],
   "source": [
    "%%capture\n",
    "%pip install bs4"
   ]
  },
  {
   "cell_type": "markdown",
   "metadata": {},
   "source": [
    "You can either create your own dataset tailored to your specific needs or source one from reputable online repositories. Make sure it has the following columns."
   ]
  },
  {
   "cell_type": "code",
   "execution_count": 10,
   "metadata": {},
   "outputs": [],
   "source": [
    "from bs4 import BeautifulSoup\n",
    "\n",
    "# Load the CSV file\n",
    "file_path = './data/Fashion Dataset.csv'  # Replace with your CSV file path\n",
    "columns_to_extract = ['p_id', 'name', 'price', 'colour','avg_rating','description']  # Replace with your desired column names\n",
    "\n",
    "# Read the CSV file and extract selected columns\n",
    "df = pd.read_csv(file_path, usecols=columns_to_extract, keep_default_na=False).replace('', 0).head(50)\n"
   ]
  },
  {
   "cell_type": "code",
   "execution_count": 11,
   "metadata": {},
   "outputs": [],
   "source": [
    "\n",
    "def clean_html(html):\n",
    "    if not isinstance(html, str):  # Handle non-string values\n",
    "        html = str(html)\n",
    "    return BeautifulSoup(html, \"html.parser\").get_text()\n",
    "\n",
    "# Apply the function to the 'description' column\n",
    "df['cleaned_description'] = df['description'].apply(clean_html)\n",
    "\n",
    "# Drop the 'description' column\n",
    "df = df.drop(columns=['description'])\n",
    "\n",
    "# Save the extracted data to a new CSV (optional)\n",
    "output_file_path = 'extracted_columns.csv'\n",
    "df.to_csv(output_file_path, index=False)  \n"
   ]
  },
  {
   "cell_type": "code",
   "execution_count": 12,
   "metadata": {},
   "outputs": [
    {
     "data": {
      "text/html": [
       "<div>\n",
       "<style scoped>\n",
       "    .dataframe tbody tr th:only-of-type {\n",
       "        vertical-align: middle;\n",
       "    }\n",
       "\n",
       "    .dataframe tbody tr th {\n",
       "        vertical-align: top;\n",
       "    }\n",
       "\n",
       "    .dataframe thead th {\n",
       "        text-align: right;\n",
       "    }\n",
       "</style>\n",
       "<table border=\"1\" class=\"dataframe\">\n",
       "  <thead>\n",
       "    <tr style=\"text-align: right;\">\n",
       "      <th></th>\n",
       "      <th>p_id</th>\n",
       "      <th>name</th>\n",
       "      <th>price</th>\n",
       "      <th>colour</th>\n",
       "      <th>avg_rating</th>\n",
       "      <th>cleaned_description</th>\n",
       "    </tr>\n",
       "  </thead>\n",
       "  <tbody>\n",
       "    <tr>\n",
       "      <th>0</th>\n",
       "      <td>17048614</td>\n",
       "      <td>Khushal K Women Black Ethnic Motifs Printed Ku...</td>\n",
       "      <td>5099</td>\n",
       "      <td>Black</td>\n",
       "      <td>4.4183989385227775</td>\n",
       "      <td>Black printed Kurta with Palazzos with dupatta...</td>\n",
       "    </tr>\n",
       "    <tr>\n",
       "      <th>1</th>\n",
       "      <td>16524740</td>\n",
       "      <td>InWeave Women Orange Solid Kurta with Palazzos...</td>\n",
       "      <td>5899</td>\n",
       "      <td>Orange</td>\n",
       "      <td>4.119333950046253</td>\n",
       "      <td>Orange solid Kurta with Palazzos with dupattaK...</td>\n",
       "    </tr>\n",
       "    <tr>\n",
       "      <th>2</th>\n",
       "      <td>16331376</td>\n",
       "      <td>Anubhutee Women Navy Blue Ethnic Motifs Embroi...</td>\n",
       "      <td>4899</td>\n",
       "      <td>Navy Blue</td>\n",
       "      <td>4.161529680365297</td>\n",
       "      <td>Navy blue embroidered Kurta with Trousers with...</td>\n",
       "    </tr>\n",
       "    <tr>\n",
       "      <th>3</th>\n",
       "      <td>14709966</td>\n",
       "      <td>Nayo Women Red Floral Printed Kurta With Trous...</td>\n",
       "      <td>3699</td>\n",
       "      <td>Red</td>\n",
       "      <td>4.088986141502553</td>\n",
       "      <td>Red printed kurta with trouser and dupattaKurt...</td>\n",
       "    </tr>\n",
       "    <tr>\n",
       "      <th>4</th>\n",
       "      <td>11056154</td>\n",
       "      <td>AHIKA Women Black &amp; Green Printed Straight Kurta</td>\n",
       "      <td>1350</td>\n",
       "      <td>Black</td>\n",
       "      <td>3.978377362038169</td>\n",
       "      <td>Black and green printed straight kurta, has a ...</td>\n",
       "    </tr>\n",
       "  </tbody>\n",
       "</table>\n",
       "</div>"
      ],
      "text/plain": [
       "       p_id                                               name price  \\\n",
       "0  17048614  Khushal K Women Black Ethnic Motifs Printed Ku...  5099   \n",
       "1  16524740  InWeave Women Orange Solid Kurta with Palazzos...  5899   \n",
       "2  16331376  Anubhutee Women Navy Blue Ethnic Motifs Embroi...  4899   \n",
       "3  14709966  Nayo Women Red Floral Printed Kurta With Trous...  3699   \n",
       "4  11056154   AHIKA Women Black & Green Printed Straight Kurta  1350   \n",
       "\n",
       "      colour          avg_rating  \\\n",
       "0      Black  4.4183989385227775   \n",
       "1     Orange   4.119333950046253   \n",
       "2  Navy Blue   4.161529680365297   \n",
       "3        Red   4.088986141502553   \n",
       "4      Black   3.978377362038169   \n",
       "\n",
       "                                 cleaned_description  \n",
       "0  Black printed Kurta with Palazzos with dupatta...  \n",
       "1  Orange solid Kurta with Palazzos with dupattaK...  \n",
       "2  Navy blue embroidered Kurta with Trousers with...  \n",
       "3  Red printed kurta with trouser and dupattaKurt...  \n",
       "4  Black and green printed straight kurta, has a ...  "
      ]
     },
     "execution_count": 12,
     "metadata": {},
     "output_type": "execute_result"
    }
   ],
   "source": [
    "df.head(5)"
   ]
  },
  {
   "cell_type": "markdown",
   "metadata": {},
   "source": [
    "#### Setting Up BM25 and SentenceTransformer for Text Analysis"
   ]
  },
  {
   "cell_type": "code",
   "execution_count": 13,
   "metadata": {},
   "outputs": [
    {
     "name": "stderr",
     "output_type": "stream",
     "text": [
      "/opt/homebrew/lib/python3.11/site-packages/tqdm/auto.py:21: TqdmWarning: IProgress not found. Please update jupyter and ipywidgets. See https://ipywidgets.readthedocs.io/en/stable/user_install.html\n",
      "  from .autonotebook import tqdm as notebook_tqdm\n"
     ]
    }
   ],
   "source": [
    "from pymilvus.model.sparse.bm25.tokenizers import build_default_analyzer\n",
    "from pymilvus.model.sparse import BM25EmbeddingFunction"
   ]
  },
  {
   "cell_type": "code",
   "execution_count": 14,
   "metadata": {},
   "outputs": [],
   "source": [
    "from sentence_transformers import SentenceTransformer\n",
    "\n",
    "model = SentenceTransformer('all-MiniLM-L6-v2')"
   ]
  },
  {
   "cell_type": "code",
   "execution_count": 15,
   "metadata": {},
   "outputs": [],
   "source": [
    "\n",
    "analyzer = build_default_analyzer(language=\"en\")\n",
    "\n",
    "bm25_ef = BM25EmbeddingFunction(analyzer)"
   ]
  },
  {
   "cell_type": "markdown",
   "metadata": {},
   "source": [
    "### Connect to Milvus"
   ]
  },
  {
   "cell_type": "code",
   "execution_count": 16,
   "metadata": {},
   "outputs": [],
   "source": [
    "from pymilvus import MilvusClient\n",
    "# Replace Placeholder Values <> with respective provisioned Milvus Values .\n",
    "\n",
    "uri = \"https://<host>:<port>\"  # Construct URI from host and port\n",
    "user = \"<>\"\n",
    "password = \"<>\"\n",
    "# Create an instance of the MilvusClient class with the new configuration\n",
    "\"\"\"\n",
    "#On Prem\n",
    "milvus_client = MilvusClient(uri=uri,\n",
    "                            user=user,\n",
    "                            password=password,\n",
    "                            secure=True,\n",
    "                            server_pem_path='<>',\n",
    "                            server_name='<>',)\n",
    "\n",
    "# SaaS\n",
    "milvus_client = MilvusClient(uri=uri, \n",
    "                             user=user, \n",
    "                             password=password,\n",
    "                             secure=True,\n",
    "                             server_name='<>',)\n",
    "\"\"\""
   ]
  },
  {
   "cell_type": "code",
   "execution_count": 17,
   "metadata": {},
   "outputs": [],
   "source": [
    "COLLECTION_NAME = \"Milvus_test_scalar_filter\"\n",
    "DIMENSION = 384\n",
    "BATCH_SIZE = 2\n",
    "TOPK = 1\n",
    "fmt = \"=== {:30} ===\"\n",
    "search_latency_fmt = \"search latency = {:.4f}s\""
   ]
  },
  {
   "cell_type": "code",
   "execution_count": 18,
   "metadata": {},
   "outputs": [],
   "source": [
    "if milvus_client.has_collection(collection_name=COLLECTION_NAME):\n",
    "    milvus_client.drop_collection(collection_name=COLLECTION_NAME)"
   ]
  },
  {
   "cell_type": "code",
   "execution_count": 19,
   "metadata": {},
   "outputs": [
    {
     "data": {
      "text/plain": [
       "False"
      ]
     },
     "execution_count": 19,
     "metadata": {},
     "output_type": "execute_result"
    }
   ],
   "source": [
    "milvus_client.has_collection(collection_name=COLLECTION_NAME)"
   ]
  },
  {
   "cell_type": "markdown",
   "metadata": {},
   "source": [
    "## Create Milvus schema \n",
    "[more about schema](https://www.ibm.com/docs/en/watsonx/watsonxdata/2.1.x?topic=milvus-connecting-service#taskconctmilvus__postreq__1)"
   ]
  },
  {
   "cell_type": "code",
   "execution_count": 20,
   "metadata": {},
   "outputs": [
    {
     "data": {
      "text/plain": [
       "{'auto_id': False, 'description': '', 'fields': [{'name': 'p_id', 'description': '', 'type': <DataType.INT64: 5>, 'is_primary': True, 'auto_id': False}, {'name': 'name', 'description': '', 'type': <DataType.VARCHAR: 21>, 'params': {'max_length': 65535}}, {'name': 'cleaned_description', 'description': '', 'type': <DataType.VARCHAR: 21>, 'params': {'max_length': 65535}}, {'name': 'price', 'description': '', 'type': <DataType.FLOAT: 10>}, {'name': 'avg_rating', 'description': '', 'type': <DataType.FLOAT: 10>, 'nullable': True}, {'name': 'colour', 'description': '', 'type': <DataType.VARCHAR: 21>, 'params': {'max_length': 25}}, {'name': 'name_embedding', 'description': '', 'type': <DataType.SPARSE_FLOAT_VECTOR: 104>}, {'name': 'description_embedding', 'description': '', 'type': <DataType.FLOAT_VECTOR: 101>, 'params': {'dim': 384}}], 'enable_dynamic_field': True}"
      ]
     },
     "execution_count": 20,
     "metadata": {},
     "output_type": "execute_result"
    }
   ],
   "source": [
    "# Create schema\n",
    "schema = milvus_client.create_schema(\n",
    "    auto_id=False,\n",
    "    enable_dynamic_field=True,\n",
    ")\n",
    "# [pid,name,cleaned_description,price,avg_rating,colour,name_embedding,description_embedding]\n",
    "# Add fields to schema\n",
    "schema.add_field(field_name=\"p_id\", datatype=DataType.INT64, is_primary=True),\n",
    "schema.add_field(field_name=\"name\", datatype=DataType.VARCHAR, max_length=65535),\n",
    "schema.add_field(field_name=\"cleaned_description\", datatype=DataType.VARCHAR, max_length=65535),\n",
    "schema.add_field(field_name=\"price\",datatype=DataType.FLOAT)\n",
    "schema.add_field(field_name=\"avg_rating\",datatype=DataType.FLOAT,nullable=True )\n",
    "schema.add_field(field_name=\"colour\",datatype=DataType.VARCHAR, max_length=25)\n",
    "schema.add_field(field_name=\"name_embedding\", datatype=DataType.SPARSE_FLOAT_VECTOR),\n",
    "schema.add_field(field_name=\"description_embedding\", datatype=DataType.FLOAT_VECTOR, dim=DIMENSION)"
   ]
  },
  {
   "cell_type": "markdown",
   "metadata": {},
   "source": [
    "## Create Index \n",
    "[more on indexes](https://www.ibm.com/docs/en/watsonx/watsonxdata/2.1.x?topic=milvus-connecting-service#taskconctmilvus__postreq__1)"
   ]
  },
  {
   "cell_type": "code",
   "execution_count": 21,
   "metadata": {},
   "outputs": [],
   "source": [
    "# Create index parameters\n",
    "index_params = milvus_client.prepare_index_params()\n",
    "\n",
    "# Add first index for text_embedding\n",
    "index_params.add_index(\n",
    "    field_name=\"name_embedding\",\n",
    "    index_type=\"SPARSE_INVERTED_INDEX\",\n",
    "    metric_type=\"IP\",\n",
    "    params={\"drop_ratio_build\": 0.2}\n",
    ")\n",
    "\n",
    "# Add second index for context_embedding\n",
    "index_params.add_index(\n",
    "    field_name=\"description_embedding\",\n",
    "    index_type=\"IVF_SQ8\",\n",
    "    metric_type=\"L2\",\n",
    "    params={\"nlist\": 128}\n",
    ")"
   ]
  },
  {
   "cell_type": "markdown",
   "metadata": {},
   "source": [
    "## Create Collection and Load Data "
   ]
  },
  {
   "cell_type": "code",
   "execution_count": 22,
   "metadata": {},
   "outputs": [],
   "source": [
    "# Create index and load collection\n",
    "milvus_client.create_collection(\n",
    "    collection_name=COLLECTION_NAME,\n",
    "    schema=schema,\n",
    "    index_params=index_params\n",
    ")\n",
    "\n",
    "# Load the collection\n",
    "milvus_client.load_collection(collection_name=COLLECTION_NAME)"
   ]
  },
  {
   "cell_type": "markdown",
   "metadata": {},
   "source": [
    "## Generate Embeddings\n",
    "\n",
    "We are going to generate 2 type of embeddings. One using sentence transformer which is more context aware (sematic), while the second using BM25 - sparse vector embeddings based on TF-IDF focused on keyword search. Click to know more about [Dense](https://github.ibm.com/Aldrin-Dennis1/milvus-enhanced-documentation/blob/main/in-memmory-indexes-and-similarity-metrics.md) and [Sparse](https://github.ibm.com/Aldrin-Dennis1/milvus-enhanced-documentation/blob/main/in-memmory-indexes-and-similarity-metrics-sparse-embeddings.md) vector embeddings or refer [In-Memory Index](https://milvus.io/docs/index.md?tab=floating) "
   ]
  },
  {
   "cell_type": "markdown",
   "metadata": {},
   "source": [
    "### 1. Dense embeddings - Sentence Transformer Embeddings - semantic"
   ]
  },
  {
   "cell_type": "code",
   "execution_count": 23,
   "metadata": {},
   "outputs": [
    {
     "data": {
      "text/html": [
       "<div>\n",
       "<style scoped>\n",
       "    .dataframe tbody tr th:only-of-type {\n",
       "        vertical-align: middle;\n",
       "    }\n",
       "\n",
       "    .dataframe tbody tr th {\n",
       "        vertical-align: top;\n",
       "    }\n",
       "\n",
       "    .dataframe thead th {\n",
       "        text-align: right;\n",
       "    }\n",
       "</style>\n",
       "<table border=\"1\" class=\"dataframe\">\n",
       "  <thead>\n",
       "    <tr style=\"text-align: right;\">\n",
       "      <th></th>\n",
       "      <th>p_id</th>\n",
       "      <th>name</th>\n",
       "      <th>price</th>\n",
       "      <th>colour</th>\n",
       "      <th>avg_rating</th>\n",
       "      <th>cleaned_description</th>\n",
       "      <th>description_embedding</th>\n",
       "    </tr>\n",
       "  </thead>\n",
       "  <tbody>\n",
       "    <tr>\n",
       "      <th>0</th>\n",
       "      <td>17048614</td>\n",
       "      <td>Khushal K Women Black Ethnic Motifs Printed Ku...</td>\n",
       "      <td>5099</td>\n",
       "      <td>Black</td>\n",
       "      <td>4.4183989385227775</td>\n",
       "      <td>Black printed Kurta with Palazzos with dupatta...</td>\n",
       "      <td>[-0.022137021645903587, 0.08476054668426514, -...</td>\n",
       "    </tr>\n",
       "    <tr>\n",
       "      <th>1</th>\n",
       "      <td>16524740</td>\n",
       "      <td>InWeave Women Orange Solid Kurta with Palazzos...</td>\n",
       "      <td>5899</td>\n",
       "      <td>Orange</td>\n",
       "      <td>4.119333950046253</td>\n",
       "      <td>Orange solid Kurta with Palazzos with dupattaK...</td>\n",
       "      <td>[-0.018848655745387077, 0.065238818526268, -0....</td>\n",
       "    </tr>\n",
       "    <tr>\n",
       "      <th>2</th>\n",
       "      <td>16331376</td>\n",
       "      <td>Anubhutee Women Navy Blue Ethnic Motifs Embroi...</td>\n",
       "      <td>4899</td>\n",
       "      <td>Navy Blue</td>\n",
       "      <td>4.161529680365297</td>\n",
       "      <td>Navy blue embroidered Kurta with Trousers with...</td>\n",
       "      <td>[-0.06157408282160759, 0.08424308151006699, 0....</td>\n",
       "    </tr>\n",
       "    <tr>\n",
       "      <th>3</th>\n",
       "      <td>14709966</td>\n",
       "      <td>Nayo Women Red Floral Printed Kurta With Trous...</td>\n",
       "      <td>3699</td>\n",
       "      <td>Red</td>\n",
       "      <td>4.088986141502553</td>\n",
       "      <td>Red printed kurta with trouser and dupattaKurt...</td>\n",
       "      <td>[-0.05737128108739853, 0.07336778193712234, -0...</td>\n",
       "    </tr>\n",
       "    <tr>\n",
       "      <th>4</th>\n",
       "      <td>11056154</td>\n",
       "      <td>AHIKA Women Black &amp; Green Printed Straight Kurta</td>\n",
       "      <td>1350</td>\n",
       "      <td>Black</td>\n",
       "      <td>3.978377362038169</td>\n",
       "      <td>Black and green printed straight kurta, has a ...</td>\n",
       "      <td>[-0.044882744550704956, 0.088098905980587, 0.0...</td>\n",
       "    </tr>\n",
       "  </tbody>\n",
       "</table>\n",
       "</div>"
      ],
      "text/plain": [
       "       p_id                                               name price  \\\n",
       "0  17048614  Khushal K Women Black Ethnic Motifs Printed Ku...  5099   \n",
       "1  16524740  InWeave Women Orange Solid Kurta with Palazzos...  5899   \n",
       "2  16331376  Anubhutee Women Navy Blue Ethnic Motifs Embroi...  4899   \n",
       "3  14709966  Nayo Women Red Floral Printed Kurta With Trous...  3699   \n",
       "4  11056154   AHIKA Women Black & Green Printed Straight Kurta  1350   \n",
       "\n",
       "      colour          avg_rating  \\\n",
       "0      Black  4.4183989385227775   \n",
       "1     Orange   4.119333950046253   \n",
       "2  Navy Blue   4.161529680365297   \n",
       "3        Red   4.088986141502553   \n",
       "4      Black   3.978377362038169   \n",
       "\n",
       "                                 cleaned_description  \\\n",
       "0  Black printed Kurta with Palazzos with dupatta...   \n",
       "1  Orange solid Kurta with Palazzos with dupattaK...   \n",
       "2  Navy blue embroidered Kurta with Trousers with...   \n",
       "3  Red printed kurta with trouser and dupattaKurt...   \n",
       "4  Black and green printed straight kurta, has a ...   \n",
       "\n",
       "                               description_embedding  \n",
       "0  [-0.022137021645903587, 0.08476054668426514, -...  \n",
       "1  [-0.018848655745387077, 0.065238818526268, -0....  \n",
       "2  [-0.06157408282160759, 0.08424308151006699, 0....  \n",
       "3  [-0.05737128108739853, 0.07336778193712234, -0...  \n",
       "4  [-0.044882744550704956, 0.088098905980587, 0.0...  "
      ]
     },
     "execution_count": 23,
     "metadata": {},
     "output_type": "execute_result"
    }
   ],
   "source": [
    "\n",
    "# Generate embeddings\n",
    "# print(type(df['description_embedding']))\n",
    "df['description_embedding'] = df['cleaned_description'].apply(lambda x: model.encode(x).tolist())\n",
    "\n",
    "# Show the DataFrame with embeddings\n",
    "df.head(5)\n"
   ]
  },
  {
   "cell_type": "markdown",
   "metadata": {},
   "source": [
    "### 2. Sparse Embeddings - BM25 Embeddings - keyword based"
   ]
  },
  {
   "cell_type": "code",
   "execution_count": 24,
   "metadata": {},
   "outputs": [],
   "source": [
    "corpus = df['name'].tolist()"
   ]
  },
  {
   "cell_type": "code",
   "execution_count": 25,
   "metadata": {},
   "outputs": [
    {
     "name": "stdout",
     "output_type": "stream",
     "text": [
      "tokens: [['khushal', 'k', 'women', 'black', 'ethnic', 'motif', 'print', 'kurta', 'palazzo', 'dupatta'], ['inweav', 'women', 'orang', 'solid', 'kurta', 'palazzo', 'floral', 'print', 'dupatta'], ['anubhute', 'women', 'navi', 'blue', 'ethnic', 'motif', 'embroid', 'thread', 'work', 'kurta', 'trouser', 'dupatta'], ['nayo', 'women', 'red', 'floral', 'print', 'kurta', 'trouser', 'dupatta'], ['ahika', 'women', 'black', 'green', 'print', 'straight', 'kurta'], ['soch', 'women', 'red', 'thread', 'work', 'georgett', 'anarkali', 'kurta'], ['liba', 'women', 'navi', 'blue', 'pure', 'cotton', 'floral', 'print', 'kurta', 'palazzo', 'dupatta'], ['ahalyaa', 'women', 'beig', 'floral', 'print', 'regular', 'got', 'ta', 'patti', 'kurta', 'palazzo', 'dupatta'], ['anouk', 'women', 'yellow', 'white', 'print', 'kurta', 'palazzo'], ['khushal', 'k', 'women', 'green', 'pink', 'print', 'pure', 'cotton', 'kurta', 'palazzo', 'dupatta'], ['liba', 'floral', 'bliss', 'side', 'pocket', 'cotton', 'kurta', 'set'], ['varanga', 'women', 'mustard', 'yellow', 'floral', 'yoke', 'embroid', 'straight', 'kurta'], ['ahika', 'women', 'teal', 'ethnic', 'motif', 'yoke', 'design', 'kurta', 'trouser', 'dupatta'], ['vishudh', 'women', 'navi', 'blue', 'floral', 'print', 'regular', 'pure', 'cotton', 'kurta', 'palazzo'], ['anouk', 'women', 'peach-colour', 'yoke', 'design', 'mirror-work', 'kurta', 'trouser', 'dupatta'], ['shewil', 'women', 'maroon', 'ethnic', 'motif', 'yoke', 'design', 'thread', 'work', 'kurta', 'trouser', 'dupatta'], ['varanga', 'women', 'yellow', 'peach-colour', 'floral', 'screen', 'print', 'got', 'ta', 'patti', 'straight', 'kurta'], ['ahika', 'floral', 'print', 'straight', 'cotton', 'kurta', 'keyhol', 'neck'], ['anouk', 'women', 'black', 'orang', 'bandhani', 'print', 'kurta'], ['charu', 'women', 'navi', 'blue', 'floral', 'embroid', 'thread', 'work', 'kurta'], ['liba', 'women', 'blue', 'embroid', 'panel', 'kurta', 'churidar', 'dupatta'], ['jaipuri', 'bunaai', 'women', 'blue', 'orang', 'ethnic', 'motif', 'print', 'kurta', 'trouser', 'dupatta'], ['kalini', 'women', 'sea', 'green', 'floral', 'yoke', 'design', 'pleat', 'pure', 'cotton', 'top', 'skirt', 'dupatta'], ['indo', 'era', 'women', 'blue', 'green', 'print', 'kurta', 'palazzo', 'dupatta'], ['anouk', 'women', 'pink', 'blue', 'ethnic', 'motif', 'embroid', 'kurta', 'trouser', 'dupatta'], ['toulin', 'women', 'teal', 'floral', 'panel', 'kurta', 'palazzo', 'dupatta'], ['ishin', 'women', 'red', 'orang', 'bandhani', 'print', 'anarkali', 'kurta'], ['liba', 'women', 'maroon', 'print', 'kurta', 'palazzo', 'dupatta'], ['nayo', 'women', 'pink', 'off-whit', 'floral', 'screen', 'print', 'a-lin', 'pure', 'cotton', 'kurta', 'set', 'dupatta'], ['virah', 'fashion', 'women', 'lime', 'green', 'embroid', 'layer', 'thread', 'work', 'top', 'sharara', 'dupatta'], ['indo', 'era', 'folksi', 'floral', 'screen', 'print', 'cotton', 'kurta', 'set'], ['kvsfab', 'women', 'pink', 'floral', 'embroid', 'got', 'ta', 'patti', 'kurta', 'skirt', 'dupatta'], ['anouk', 'women', 'teal', 'blue', 'pink', 'yoke', 'design', 'regular', 'kurta', 'trouser', 'dupatta'], ['moda', 'rapido', 'women', 'maroon', 'grey', 'ethnic', 'motif', 'print', 'a-lin', 'kurta'], ['ahika', 'women', 'green', 'mustard', 'yellow', 'print', 'straight', 'kurta'], ['ahalyaa', 'women', 'maroon', 'gold', 'print', 'kurti', 'sharara', 'dupatta'], ['aasi', 'hous', 'nayo', 'women', 'black', 'mustard', 'yellow', 'solid', 'kurta', 'trouser', 'dupatta'], ['anubhute', 'women', 'teal', 'ethnic', 'motif', 'print', 'empir', 'thread', 'work', 'pure', 'cotton', 'kurta', 'trouser', 'dupatta'], ['anouk', 'women', 'red', 'floral', 'print', 'a-lin', 'kurta'], ['fashor', 'women', 'pink', 'ethnic', 'motif', 'kurta'], ['kalini', 'women', 'fluoresc', 'green', 'embroid', 'pure', 'cotton', 'salwar', 'suit'], ['indi', 'insid', 'women', 'pink', 'ethnic', 'motif', 'block', 'print', 'anarkali', 'kurta'], ['anouk', 'women', 'mustard', 'yellow', 'red', 'geometr', 'print', 'kurta'], ['shewil', 'women', 'teal', 'floral', 'embroid', 'sequin', 'kurta', 'trouser', 'dupatta'], ['varanga', 'women', 'red', 'bandhani', 'print', 'got', 'ta', 'patti', 'kurta'], ['kalini', 'women', 'pink', 'floral', 'embroid', 'layer', 'got', 'ta', 'patti', 'kurti', 'sharara', 'dupatta'], ['divyank', 'women', 'navi', 'blue', 'grey', 'ethnic', 'motif', 'print', 'mirror', 'work', 'kurta', 'palazzo'], ['liba', 'women', 'lavend', 'floral', 'print', 'pure', 'cotton', 'kurta', 'set', 'dupatta'], ['sangria', 'women', 'beig', 'black', 'pure', 'cotton', 'print', 'kurta', 'salwar'], ['baisacraft', 'women', 'green', 'stripe', 'pure', 'cotton', 'kurta', 'trouser', 'dupatta']]\n"
     ]
    }
   ],
   "source": [
    "tokens = []\n",
    "for i in corpus:\n",
    "    tokens.append(analyzer(i))\n",
    "print(\"tokens:\", tokens)"
   ]
  },
  {
   "cell_type": "code",
   "execution_count": 26,
   "metadata": {},
   "outputs": [],
   "source": [
    "import os\n",
    "\n",
    "os.environ[\"TOKENIZERS_PARALLELISM\"] = \"false\"\n",
    "bm25_ef = BM25EmbeddingFunction(analyzer)\n",
    "\n",
    "bm25_ef.fit(corpus)"
   ]
  },
  {
   "cell_type": "code",
   "execution_count": 27,
   "metadata": {},
   "outputs": [],
   "source": [
    "# Create embeddings for the documents\n",
    "docs_embeddings = bm25_ef.encode_documents(corpus)\n",
    "\n",
    "# print(\"Embeddings:\", docs_embeddings)\n",
    "# Since the output embeddings are in a 2D csr_array format, we convert them to a list for easier manipulation.\n",
    "#print(\"Sparse dim:\", bm25_ef.dim, list(docs_embeddings)[0].shape)"
   ]
  },
  {
   "cell_type": "code",
   "execution_count": 28,
   "metadata": {},
   "outputs": [
    {
     "data": {
      "text/plain": [
       "(50, 106)"
      ]
     },
     "execution_count": 28,
     "metadata": {},
     "output_type": "execute_result"
    }
   ],
   "source": [
    "docs_embeddings.shape"
   ]
  },
  {
   "cell_type": "code",
   "execution_count": 29,
   "metadata": {},
   "outputs": [],
   "source": [
    "# Convert into a format the Milvus expects\n",
    "import numpy as np\n",
    "\n",
    "def csr_to_dict_list(csr_array):\n",
    "    result = []\n",
    "    indptr = csr_array.indptr\n",
    "    indices = csr_array.indices\n",
    "    data = csr_array.data\n",
    "\n",
    "    for i in range(csr_array.shape[0]):\n",
    "        start, end = indptr[i], indptr[i+1]\n",
    "        row_indices = indices[start:end]\n",
    "        row_data = data[start:end]\n",
    "        row_dict = dict(zip(row_indices, row_data))\n",
    "        result.append(row_dict)\n",
    "    \n",
    "    return result\n",
    "\n",
    "# Use the function\n",
    "converted_data = csr_to_dict_list(docs_embeddings)"
   ]
  },
  {
   "cell_type": "code",
   "execution_count": 30,
   "metadata": {},
   "outputs": [
    {
     "data": {
      "text/html": [
       "<div>\n",
       "<style scoped>\n",
       "    .dataframe tbody tr th:only-of-type {\n",
       "        vertical-align: middle;\n",
       "    }\n",
       "\n",
       "    .dataframe tbody tr th {\n",
       "        vertical-align: top;\n",
       "    }\n",
       "\n",
       "    .dataframe thead th {\n",
       "        text-align: right;\n",
       "    }\n",
       "</style>\n",
       "<table border=\"1\" class=\"dataframe\">\n",
       "  <thead>\n",
       "    <tr style=\"text-align: right;\">\n",
       "      <th></th>\n",
       "      <th>p_id</th>\n",
       "      <th>name</th>\n",
       "      <th>cleaned_description</th>\n",
       "      <th>price</th>\n",
       "      <th>avg_rating</th>\n",
       "      <th>colour</th>\n",
       "      <th>name_embedding</th>\n",
       "      <th>description_embedding</th>\n",
       "    </tr>\n",
       "  </thead>\n",
       "  <tbody>\n",
       "    <tr>\n",
       "      <th>0</th>\n",
       "      <td>17048614</td>\n",
       "      <td>Khushal K Women Black Ethnic Motifs Printed Ku...</td>\n",
       "      <td>Black printed Kurta with Palazzos with dupatta...</td>\n",
       "      <td>5099</td>\n",
       "      <td>4.4183989385227775</td>\n",
       "      <td>Black</td>\n",
       "      <td>{0: 0.982535, 1: 0.982535, 2: 0.982535, 3: 0.9...</td>\n",
       "      <td>[-0.022137021645903587, 0.08476054668426514, -...</td>\n",
       "    </tr>\n",
       "    <tr>\n",
       "      <th>1</th>\n",
       "      <td>16524740</td>\n",
       "      <td>InWeave Women Orange Solid Kurta with Palazzos...</td>\n",
       "      <td>Orange solid Kurta with Palazzos with dupattaK...</td>\n",
       "      <td>5899</td>\n",
       "      <td>4.119333950046253</td>\n",
       "      <td>Orange</td>\n",
       "      <td>{2: 1.0298684, 6: 1.0298684, 7: 1.0298684, 8: ...</td>\n",
       "      <td>[-0.018848655745387077, 0.065238818526268, -0....</td>\n",
       "    </tr>\n",
       "    <tr>\n",
       "      <th>2</th>\n",
       "      <td>16331376</td>\n",
       "      <td>Anubhutee Women Navy Blue Ethnic Motifs Embroi...</td>\n",
       "      <td>Navy blue embroidered Kurta with Trousers with...</td>\n",
       "      <td>4899</td>\n",
       "      <td>4.161529680365297</td>\n",
       "      <td>Navy Blue</td>\n",
       "      <td>{2: 0.8998223, 4: 0.8998223, 5: 0.8998223, 7: ...</td>\n",
       "      <td>[-0.06157408282160759, 0.08424308151006699, 0....</td>\n",
       "    </tr>\n",
       "    <tr>\n",
       "      <th>3</th>\n",
       "      <td>14709966</td>\n",
       "      <td>Nayo Women Red Floral Printed Kurta With Trous...</td>\n",
       "      <td>Red printed kurta with trouser and dupattaKurt...</td>\n",
       "      <td>3699</td>\n",
       "      <td>4.088986141502553</td>\n",
       "      <td>Red</td>\n",
       "      <td>{2: 1.081993, 6: 1.081993, 7: 1.081993, 9: 1.0...</td>\n",
       "      <td>[-0.05737128108739853, 0.07336778193712234, -0...</td>\n",
       "    </tr>\n",
       "    <tr>\n",
       "      <th>4</th>\n",
       "      <td>11056154</td>\n",
       "      <td>AHIKA Women Black &amp; Green Printed Straight Kurta</td>\n",
       "      <td>Black and green printed straight kurta, has a ...</td>\n",
       "      <td>1350</td>\n",
       "      <td>3.978377362038169</td>\n",
       "      <td>Black</td>\n",
       "      <td>{2: 1.1396754, 3: 1.1396754, 6: 1.1396754, 7: ...</td>\n",
       "      <td>[-0.044882744550704956, 0.088098905980587, 0.0...</td>\n",
       "    </tr>\n",
       "  </tbody>\n",
       "</table>\n",
       "</div>"
      ],
      "text/plain": [
       "       p_id                                               name  \\\n",
       "0  17048614  Khushal K Women Black Ethnic Motifs Printed Ku...   \n",
       "1  16524740  InWeave Women Orange Solid Kurta with Palazzos...   \n",
       "2  16331376  Anubhutee Women Navy Blue Ethnic Motifs Embroi...   \n",
       "3  14709966  Nayo Women Red Floral Printed Kurta With Trous...   \n",
       "4  11056154   AHIKA Women Black & Green Printed Straight Kurta   \n",
       "\n",
       "                                 cleaned_description price  \\\n",
       "0  Black printed Kurta with Palazzos with dupatta...  5099   \n",
       "1  Orange solid Kurta with Palazzos with dupattaK...  5899   \n",
       "2  Navy blue embroidered Kurta with Trousers with...  4899   \n",
       "3  Red printed kurta with trouser and dupattaKurt...  3699   \n",
       "4  Black and green printed straight kurta, has a ...  1350   \n",
       "\n",
       "           avg_rating     colour  \\\n",
       "0  4.4183989385227775      Black   \n",
       "1   4.119333950046253     Orange   \n",
       "2   4.161529680365297  Navy Blue   \n",
       "3   4.088986141502553        Red   \n",
       "4   3.978377362038169      Black   \n",
       "\n",
       "                                      name_embedding  \\\n",
       "0  {0: 0.982535, 1: 0.982535, 2: 0.982535, 3: 0.9...   \n",
       "1  {2: 1.0298684, 6: 1.0298684, 7: 1.0298684, 8: ...   \n",
       "2  {2: 0.8998223, 4: 0.8998223, 5: 0.8998223, 7: ...   \n",
       "3  {2: 1.081993, 6: 1.081993, 7: 1.081993, 9: 1.0...   \n",
       "4  {2: 1.1396754, 3: 1.1396754, 6: 1.1396754, 7: ...   \n",
       "\n",
       "                               description_embedding  \n",
       "0  [-0.022137021645903587, 0.08476054668426514, -...  \n",
       "1  [-0.018848655745387077, 0.065238818526268, -0....  \n",
       "2  [-0.06157408282160759, 0.08424308151006699, 0....  \n",
       "3  [-0.05737128108739853, 0.07336778193712234, -0...  \n",
       "4  [-0.044882744550704956, 0.088098905980587, 0.0...  "
      ]
     },
     "execution_count": 30,
     "metadata": {},
     "output_type": "execute_result"
    }
   ],
   "source": [
    "df['name_embedding'] = converted_data\n",
    "df = df[['p_id','name','cleaned_description','price','avg_rating','colour','name_embedding','description_embedding']]\n",
    "df.head(5)"
   ]
  },
  {
   "cell_type": "markdown",
   "metadata": {},
   "source": [
    "# Ingestion"
   ]
  },
  {
   "cell_type": "code",
   "execution_count": 31,
   "metadata": {},
   "outputs": [
    {
     "name": "stdout",
     "output_type": "stream",
     "text": [
      "Data inserted successfully: {'insert_count': 50, 'ids': [17048614, 16524740, 16331376, 14709966, 11056154, 18704418, 14046594, 14951330, 13791594, 17048604, 10356859, 12413214, 16600750, 9867983, 14399798, 18372852, 15241816, 10808284, 14376546, 19240164, 15055304, 14649544, 17581924, 13810898, 15150620, 19240246, 12766966, 14023594, 14346084, 18829920, 11459658, 16522612, 15150642, 16875218, 10808290, 12246214, 9438657, 16331336, 7763575, 19357994, 18957838, 18425500, 14925332, 18811288, 15646472, 18503778, 15561680, 16857670, 13437328, 19181470]}\n"
     ]
    }
   ],
   "source": [
    "# Prepare data for insertion as an array of dictionaries\n",
    "data_to_insert = [\n",
    "    {\n",
    "        \"p_id\": int(row[\"p_id\"]),\n",
    "        \"name\": str(row[\"name\"]),\n",
    "        \"cleaned_description\": str(row[\"cleaned_description\"]),\n",
    "        \"price\": float(row[\"price\"]),\n",
    "        \"avg_rating\": float(row[\"avg_rating\"]),\n",
    "        \"colour\": row[\"colour\"],\n",
    "        \"name_embedding\": row[\"name_embedding\"],\n",
    "        \"description_embedding\": row[\"description_embedding\"],\n",
    "    }\n",
    "    for _, row in df.iterrows()\n",
    "]\n",
    "\n",
    "# Insert data into the Milvus collection\n",
    "res = milvus_client.insert(\n",
    "    collection_name=COLLECTION_NAME,\n",
    "    data=data_to_insert\n",
    ")\n",
    "\n",
    "print(\"Data inserted successfully:\", res)"
   ]
  },
  {
   "cell_type": "markdown",
   "metadata": {},
   "source": [
    "## Querying with scalar filtering\n",
    "\n",
    "Scalar filtering makes Milvus conduct metadata filtering during search reducing the search scope from the whole collection to only the entities matching the specified filtering conditions.\n",
    "\n",
    "more on it [scalar filtering](https://milvus.io/docs/filtered-search.md#Filtered-Search)"
   ]
  },
  {
   "cell_type": "code",
   "execution_count": 35,
   "metadata": {},
   "outputs": [],
   "source": [
    "query1 = [\"show me cloths that are flowy and with flower designs\"]"
   ]
  },
  {
   "cell_type": "code",
   "execution_count": 33,
   "metadata": {},
   "outputs": [
    {
     "name": "stdout",
     "output_type": "stream",
     "text": [
      "Query text ST Embeddings: (1, 384)\n"
     ]
    }
   ],
   "source": [
    "#semantic search\n",
    "st_query_embeddings = model.encode(query1)\n",
    "print(\"Query text ST Embeddings:\", st_query_embeddings.shape)\n"
   ]
  },
  {
   "cell_type": "code",
   "execution_count": 34,
   "metadata": {},
   "outputs": [
    {
     "name": "stdout",
     "output_type": "stream",
     "text": [
      "\n",
      "name: KALINI Women Pink Floral Embroidered Layered Gotta Patti Kurti with Sharara & With Dupatta\n",
      "Price: 2999.0\n",
      "cleaned_description: Pink embroidered Kurti with Sharara with dupattaKurti design: Floral embroideredA-line shapeLayered styleKeyhole neck, three quarter regular sleevesNa pockets gotta patti detailAbove knee length with curved hemViscose rayon machine weave fabricSharara design: Self design ShararaElasticated waistbandZip closureThe model (height 5'8) is wearing a size SMachine Wash\n",
      "\n",
      "name: Anouk Women Red Floral Print A-Line Kurta\n",
      "Price: 1699.0\n",
      "cleaned_description: Red Floral Print A-line kurta, has a round neck, short sleeves, flared hem, has gathers along the waistThe model (height 5'8\") is wearing a size S100% viscoseHand-wash\n",
      "\n",
      "name: Vishudh Women Navy Blue Floral Printed Regular Pure Cotton Kurta with Palazzos\n",
      "Price: 2149.0\n",
      "cleaned_description: Navy blue printed Kurta with Palazzos    Kurta design:     Floral printed   Straight shape   Regular style   Mandarin collar,  three-quarter roll-up sleeves   Calf length with straight hem   Pure cotton machine weave fabric     Palazzos design:     Printed Palazzos   Elasticated waistband   Slip-on closure  Top fabric:  Pure Cotton  Bottom fabric:  Pure Cotton  Machine washThe model (height 5'8) is wearing a size S\n"
     ]
    }
   ],
   "source": [
    "query_vector = st_query_embeddings\n",
    "res = milvus_client.search(\n",
    "    collection_name=COLLECTION_NAME,\n",
    "    data=query_vector,\n",
    "    limit=3,\n",
    "    filter='price < 3000 and avg_rating > 3.5', #scalar filter - to keep price lower than 3000 and rating a minimum 3.5 \n",
    "    output_fields=[\"name\", \"price\", \"cleaned_description\"],\n",
    "    anns_field= \"description_embedding\"\n",
    ")\n",
    "\n",
    "for hit in res[0]:\n",
    "    entity = hit['entity']\n",
    "    print(f\"\\nname: {entity['name']}\\nPrice: {entity['price']}\\ncleaned_description: {entity['cleaned_description']}\")"
   ]
  }
 ],
 "metadata": {
  "kernelspec": {
   "display_name": "Python 3",
   "language": "python",
   "name": "python3"
  },
  "language_info": {
   "codemirror_mode": {
    "name": "ipython",
    "version": 3
   },
   "file_extension": ".py",
   "mimetype": "text/x-python",
   "name": "python",
   "nbconvert_exporter": "python",
   "pygments_lexer": "ipython3",
   "version": "3.11.9"
  }
 },
 "nbformat": 4,
 "nbformat_minor": 2
}
