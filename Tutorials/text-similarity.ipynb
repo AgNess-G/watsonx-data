{
 "cells": [
  {
   "cell_type": "markdown",
   "metadata": {},
   "source": [
    "# Text Similarity Search with Milvus in watsonx.data\n",
    "\n",
    "## Disclaimers\n",
    "- Use only Projects and Spaces that are available in watsonx context.\n",
    "\n",
    "## Notebook Overview\n",
    "This notebook demonstrates text similarity search support in watsonx.data, introducing commands for:\n",
    "- Connecting to Milvus\n",
    "- Creating collections\n",
    "- Creating indexes\n",
    "- Ingesting data\n",
    "- Data retrieval\n",
    "\n",
    "**Note**: Some familiarity with Python is helpful. This notebook uses Python 3.11.\n",
    "\n",
    "## About Milvus\n",
    "\n",
    "Milvus is an open-source vector database designed specifically for scalable similarity search and AI applications. It's a powerful platform that enables efficient storage, indexing, and retrieval of vector embeddings, which are crucial in modern machine learning and artificial intelligence tasks.\n",
    "\n",
    "### Milvus: Three Fundamental Steps\n",
    "\n",
    "#### 1. Data Preparation\n",
    "Collect and convert your data into high-dimensional vector embeddings. These vectors are typically generated using machine learning models like neural networks, which transform text, images, audio, or other data types into dense numerical representations that capture semantic meaning and relationships.\n",
    "\n",
    "#### 2. Vector Insertion\n",
    "Load the vector embeddings into Milvus collections or partitions within a database. Milvus creates indexes to optimize subsequent search operations, supporting various indexing algorithms like IVF-FLAT, HNSW, etc., based on the definition.\n",
    "\n",
    "#### 3. Similarity Search\n",
    "Perform vector similarity searches by providing a query vector. Milvus will rapidly return the most similar vectors from the collection or partitions based on the defined metrics like cosine similarity, Euclidean distance, or inner product.\n",
    "\n",
    "## Key Workflow\n",
    "\n",
    "1. **Definition** (once)\n",
    "2. **Ingestion** (once)\n",
    "3. **Retrieve relevant passage(s)** (for every user query)\n",
    "\n",
    "## Notebook Contents\n",
    "\n",
    "- Environment Setup\n",
    "- Install packages\n",
    "- Document data loading\n",
    "- Create connection\n",
    "- Ingest data\n",
    "- Retrieve relevant data\n",
    "\n",
    "## Environment Setup\n",
    "\n",
    "Before using the sample code in this notebook, complete the following setup tasks:\n",
    "\n",
    "- Create a Watsonx.data instance (a free plan is offered)\n",
    "  - Information about creating a watsonx.data instance can be found [here](https://www.ibm.com/docs/en/watsonx/watsonxdata/2.0.x)\n",
    "\n"
   ]
  },
  {
   "cell_type": "markdown",
   "metadata": {
    "id": "a23c91bdeeb94490a16b7eb19e3e085d"
   },
   "source": [
    "## Install required packages"
   ]
  },
  {
   "cell_type": "markdown",
   "metadata": {},
   "source": [
    "### Install Pymilvus SDK"
   ]
  },
  {
   "cell_type": "code",
   "execution_count": 1,
   "metadata": {},
   "outputs": [
    {
     "name": "stdout",
     "output_type": "stream",
     "text": [
      "zsh:1: command not found: pip\n"
     ]
    }
   ],
   "source": [
    "!pip install -U pymilvus"
   ]
  },
  {
   "cell_type": "markdown",
   "metadata": {},
   "source": [
    "Next, we install sentence transformer to generate vector embeddings for text data. We could alternatively use watsonx.ai embedding models instead if you have API Key from watsonx.ai and a Watson Machine Learning instance integration. "
   ]
  },
  {
   "cell_type": "code",
   "execution_count": 2,
   "metadata": {
    "id": "4acebb7f59364601895921acd0bf03fa"
   },
   "outputs": [
    {
     "name": "stdout",
     "output_type": "stream",
     "text": [
      "zsh:1: command not found: pip\n"
     ]
    }
   ],
   "source": [
    "!pip install sentence-transformers"
   ]
  },
  {
   "cell_type": "code",
   "execution_count": 3,
   "metadata": {
    "id": "28fa09200e9d4815834b8ac287739523"
   },
   "outputs": [
    {
     "name": "stderr",
     "output_type": "stream",
     "text": [
      "/opt/homebrew/lib/python3.11/site-packages/tqdm/auto.py:21: TqdmWarning: IProgress not found. Please update jupyter and ipywidgets. See https://ipywidgets.readthedocs.io/en/stable/user_install.html\n",
      "  from .autonotebook import tqdm as notebook_tqdm\n"
     ]
    }
   ],
   "source": [
    "\n",
    "import pandas as pd\n",
    "\n",
    "try:\n",
    "    from sentence_transformers import SentenceTransformer\n",
    "    transformer = SentenceTransformer('all-MiniLM-L6-v2')\n",
    "except ImportError:\n",
    "    raise ImportError(\"Could not import sentence_transformers: Please install sentence-transformers package.\")\n"
   ]
  },
  {
   "cell_type": "code",
   "execution_count": 4,
   "metadata": {
    "id": "b044b7b2207e48808d235f7f168e04a8"
   },
   "outputs": [],
   "source": [
    "from sentence_transformers import SentenceTransformer\n",
    "\n",
    "transformer = SentenceTransformer('all-MiniLM-L6-v2')"
   ]
  },
  {
   "cell_type": "markdown",
   "metadata": {},
   "source": [
    "## Create Milvus connection"
   ]
  },
  {
   "cell_type": "markdown",
   "metadata": {},
   "source": [
    "Replace placeholder values <> with their respective provisioned Milvus values."
   ]
  },
  {
   "cell_type": "code",
   "execution_count": 5,
   "metadata": {},
   "outputs": [],
   "source": [
    "from pymilvus import connections, Collection, FieldSchema, CollectionSchema, DataType,connections,utility"
   ]
  },
  {
   "cell_type": "code",
   "execution_count": 6,
   "metadata": {},
   "outputs": [],
   "source": [
    "# On Prem\n",
    "connections.connect(\n",
    "            alias='default',\n",
    "            host=\"<Milvus GRPC host On CPD>\",\n",
    "            port=443,\n",
    "            secure=True,\n",
    "            server_pem_path=\"<GRPC certificate path>\",\n",
    "            server_name=\"<Milvus GRPC host On CPD>\",\n",
    "            user=\"<user>\",\n",
    "            password=\"<password>\")"
   ]
  },
  {
   "cell_type": "code",
   "execution_count": 7,
   "metadata": {},
   "outputs": [],
   "source": [
    "# SaaS\n",
    "\n",
    "connections.connect(\n",
    "            alias='default',\n",
    "            host=\"<Milvus GRPC host On SaaS\",\n",
    "            port=\"<port>\",\n",
    "            secure=True,\n",
    "            user=\"<user>\",\n",
    "            password=\"<password>\")"
   ]
  },
  {
   "cell_type": "code",
   "execution_count": 8,
   "metadata": {},
   "outputs": [],
   "source": [
    "# Alternate syntex for the same\n",
    "\n",
    "uri=\"https://<username>:<password>@<hostname>:<port>\"\n",
    "connections.connect(uri=uri)"
   ]
  },
  {
   "cell_type": "markdown",
   "metadata": {},
   "source": [
    "From Milvus 2.4.0, 'MilvusClient' is introduced as a wrapper on existing methods. MilvusClient represents a client that connects to a specific Milvus instance. It serves as an easy-to-use alternative for handling Create, Read, Update, and Delete (CRUD) operations in Milvus. Code showing MilvusClient usage is part of a different notebook in the same repo."
   ]
  },
  {
   "cell_type": "markdown",
   "metadata": {
    "id": "5ebd9be3872447118acbcf38c34a98e9"
   },
   "source": [
    "## Load data"
   ]
  },
  {
   "cell_type": "markdown",
   "metadata": {},
   "source": [
    "NOTE: The dataset we are using is already split into self-contained passages that can be ingested by Milvus. This preprocessing step is usually part of AI pipeline, outside of the scope of this demo.\n",
    "You can either create your own dataset tailored to your specific needs or source one from reputable online repositories. Make sure it has the following columns."
   ]
  },
  {
   "cell_type": "code",
   "execution_count": 9,
   "metadata": {},
   "outputs": [
    {
     "data": {
      "text/html": [
       "<div>\n",
       "<style scoped>\n",
       "    .dataframe tbody tr th:only-of-type {\n",
       "        vertical-align: middle;\n",
       "    }\n",
       "\n",
       "    .dataframe tbody tr th {\n",
       "        vertical-align: top;\n",
       "    }\n",
       "\n",
       "    .dataframe thead th {\n",
       "        text-align: right;\n",
       "    }\n",
       "</style>\n",
       "<table border=\"1\" class=\"dataframe\">\n",
       "  <thead>\n",
       "    <tr style=\"text-align: right;\">\n",
       "      <th></th>\n",
       "      <th>id</th>\n",
       "      <th>title</th>\n",
       "      <th>product_type</th>\n",
       "      <th>text</th>\n",
       "    </tr>\n",
       "  </thead>\n",
       "  <tbody>\n",
       "    <tr>\n",
       "      <th>0</th>\n",
       "      <td>2765088</td>\n",
       "      <td>PRIKNIK Horn Red Electric Air Horn Compressor ...</td>\n",
       "      <td>7537</td>\n",
       "      <td>PRIKNIK Horn Red Electric Air Horn Compressor ...</td>\n",
       "    </tr>\n",
       "    <tr>\n",
       "      <th>1</th>\n",
       "      <td>1594019</td>\n",
       "      <td>ALISHAH Women's Cotton Ankle Length Leggings C...</td>\n",
       "      <td>2996</td>\n",
       "      <td>ALISHAH Women's Cotton Ankle Length Leggings C...</td>\n",
       "    </tr>\n",
       "    <tr>\n",
       "      <th>2</th>\n",
       "      <td>2152929</td>\n",
       "      <td>HINS Metal Bucket Shape Plant Pot for Indoor &amp;...</td>\n",
       "      <td>5725</td>\n",
       "      <td>HINS Metal Bucket Shape Plant Pot for Indoor &amp;...</td>\n",
       "    </tr>\n",
       "    <tr>\n",
       "      <th>3</th>\n",
       "      <td>2026580</td>\n",
       "      <td>Delavala Self Adhesive Kitchen Backsplash Wall...</td>\n",
       "      <td>6030</td>\n",
       "      <td>Delavala Self Adhesive Kitchen Backsplash Wall...</td>\n",
       "    </tr>\n",
       "    <tr>\n",
       "      <th>4</th>\n",
       "      <td>2998633</td>\n",
       "      <td>Hexwell Essential oil for Home Fragrance Oil A...</td>\n",
       "      <td>8201</td>\n",
       "      <td>Hexwell Essential oil for Home Fragrance Oil A...</td>\n",
       "    </tr>\n",
       "    <tr>\n",
       "      <th>...</th>\n",
       "      <td>...</td>\n",
       "      <td>...</td>\n",
       "      <td>...</td>\n",
       "      <td>...</td>\n",
       "    </tr>\n",
       "    <tr>\n",
       "      <th>95</th>\n",
       "      <td>2787933</td>\n",
       "      <td>Whey Protein Isolate 24g Protein Per Serve,990...</td>\n",
       "      <td>11672</td>\n",
       "      <td>Whey Protein Isolate 24g Protein Per Serve,990...</td>\n",
       "    </tr>\n",
       "    <tr>\n",
       "      <th>96</th>\n",
       "      <td>1706246</td>\n",
       "      <td>Sleepwish Pink Caticorn Warm Sherpa Throw Blan...</td>\n",
       "      <td>1639</td>\n",
       "      <td>Sleepwish Pink Caticorn Warm Sherpa Throw Blan...</td>\n",
       "    </tr>\n",
       "    <tr>\n",
       "      <th>97</th>\n",
       "      <td>1891826</td>\n",
       "      <td>CityPostersPlus Kaptanganj Mouse pad</td>\n",
       "      <td>578</td>\n",
       "      <td>CityPostersPlus Kaptanganj Mouse pad[Mouse pad...</td>\n",
       "    </tr>\n",
       "    <tr>\n",
       "      <th>98</th>\n",
       "      <td>1535518</td>\n",
       "      <td>Wild Bobby Straight Outta Cleveland CLE Fan | ...</td>\n",
       "      <td>2879</td>\n",
       "      <td>Wild Bobby Straight Outta Cleveland CLE Fan | ...</td>\n",
       "    </tr>\n",
       "    <tr>\n",
       "      <th>99</th>\n",
       "      <td>1948159</td>\n",
       "      <td>Girgit Stainless Steel Cooking and Serving Spo...</td>\n",
       "      <td>1376</td>\n",
       "      <td>Girgit Stainless Steel Cooking and Serving Spo...</td>\n",
       "    </tr>\n",
       "  </tbody>\n",
       "</table>\n",
       "<p>100 rows × 4 columns</p>\n",
       "</div>"
      ],
      "text/plain": [
       "         id                                              title  product_type  \\\n",
       "0   2765088  PRIKNIK Horn Red Electric Air Horn Compressor ...          7537   \n",
       "1   1594019  ALISHAH Women's Cotton Ankle Length Leggings C...          2996   \n",
       "2   2152929  HINS Metal Bucket Shape Plant Pot for Indoor &...          5725   \n",
       "3   2026580  Delavala Self Adhesive Kitchen Backsplash Wall...          6030   \n",
       "4   2998633  Hexwell Essential oil for Home Fragrance Oil A...          8201   \n",
       "..      ...                                                ...           ...   \n",
       "95  2787933  Whey Protein Isolate 24g Protein Per Serve,990...         11672   \n",
       "96  1706246  Sleepwish Pink Caticorn Warm Sherpa Throw Blan...          1639   \n",
       "97  1891826               CityPostersPlus Kaptanganj Mouse pad           578   \n",
       "98  1535518  Wild Bobby Straight Outta Cleveland CLE Fan | ...          2879   \n",
       "99  1948159  Girgit Stainless Steel Cooking and Serving Spo...          1376   \n",
       "\n",
       "                                                 text  \n",
       "0   PRIKNIK Horn Red Electric Air Horn Compressor ...  \n",
       "1   ALISHAH Women's Cotton Ankle Length Leggings C...  \n",
       "2   HINS Metal Bucket Shape Plant Pot for Indoor &...  \n",
       "3   Delavala Self Adhesive Kitchen Backsplash Wall...  \n",
       "4   Hexwell Essential oil for Home Fragrance Oil A...  \n",
       "..                                                ...  \n",
       "95  Whey Protein Isolate 24g Protein Per Serve,990...  \n",
       "96  Sleepwish Pink Caticorn Warm Sherpa Throw Blan...  \n",
       "97  CityPostersPlus Kaptanganj Mouse pad[Mouse pad...  \n",
       "98  Wild Bobby Straight Outta Cleveland CLE Fan | ...  \n",
       "99  Girgit Stainless Steel Cooking and Serving Spo...  \n",
       "\n",
       "[100 rows x 4 columns]"
      ]
     },
     "execution_count": 9,
     "metadata": {},
     "output_type": "execute_result"
    }
   ],
   "source": [
    "test_data = pd.read_csv(\"../data/product_description_docs.csv\")\n",
    "test_data = test_data.head(100)\n",
    "test_qna = pd.read_csv(\"../data/product_description_qna.csv\")\n",
    "test_data"
   ]
  },
  {
   "cell_type": "code",
   "execution_count": 10,
   "metadata": {},
   "outputs": [],
   "source": [
    "# Define static properties\n",
    "\n",
    "COLLECTION_NAME = \"Milvus_collection\"\n",
    "DIMENSION = 384\n",
    "BATCH_SIZE = 2\n",
    "TOPK = 1\n",
    "fmt = \"=== {:30} ===\"\n",
    "search_latency_fmt = \"search latency = {:.4f}s\""
   ]
  },
  {
   "cell_type": "markdown",
   "metadata": {},
   "source": [
    "### Create Milvus Collection "
   ]
  },
  {
   "cell_type": "markdown",
   "metadata": {},
   "source": [
    "#### Check if collection exists, drop if exists already and create new."
   ]
  },
  {
   "cell_type": "code",
   "execution_count": 11,
   "metadata": {},
   "outputs": [],
   "source": [
    "if utility.has_collection(COLLECTION_NAME):\n",
    "    utility.drop_collection(COLLECTION_NAME)"
   ]
  },
  {
   "cell_type": "code",
   "execution_count": 12,
   "metadata": {},
   "outputs": [
    {
     "data": {
      "text/plain": [
       "False"
      ]
     },
     "execution_count": 12,
     "metadata": {},
     "output_type": "execute_result"
    }
   ],
   "source": [
    "utility.has_collection(COLLECTION_NAME)"
   ]
  },
  {
   "cell_type": "code",
   "execution_count": 13,
   "metadata": {
    "id": "3ffeb6a567bb49b7a2a78e40fd03d86f"
   },
   "outputs": [],
   "source": [
    "\n",
    "# object should be inserted in the format of (title, date, location, speech embedding)\n",
    "fields = [\n",
    "    FieldSchema(name=\"id\", dtype=DataType.INT64, is_primary=True, auto_id=False),\n",
    "    FieldSchema(name=\"text\", dtype=DataType.VARCHAR, max_length=65535),\n",
    "    FieldSchema(name=\"title\", dtype=DataType.VARCHAR, max_length=65535),\n",
    "    FieldSchema(name=\"embedding\", dtype=DataType.FLOAT_VECTOR, dim=DIMENSION)\n",
    "]\n",
    "schema = CollectionSchema(fields=fields)\n",
    "collection = Collection(name=COLLECTION_NAME, schema=schema)"
   ]
  },
  {
   "cell_type": "code",
   "execution_count": 14,
   "metadata": {
    "id": "f8537134e7c94cdd95026ec730465b3b"
   },
   "outputs": [],
   "source": [
    "# define user defined method for ingestion. You can define your own ingestion methods based on your data and schema.\n",
    "\n",
    "def embed_insert(data: list):\n",
    "    embeddings = transformer.encode(data[2])\n",
    "    ins = [\n",
    "        data[0],\n",
    "        data[1],\n",
    "        data[2],\n",
    "        [x for x in embeddings]\n",
    "        \n",
    "    ]\n",
    "    collection.insert(ins)"
   ]
  },
  {
   "cell_type": "code",
   "execution_count": 15,
   "metadata": {
    "id": "df3817ec454c4001be6c751bc2402d0f"
   },
   "outputs": [],
   "source": [
    "# Define parameters like index type, similarity metrics and nlist params\n",
    "index_params = {\n",
    "    \"index_type\": \"IVF_FLAT\",\n",
    "    \"metric_type\": \"L2\",\n",
    "    \"params\": {\"nlist\": 128},\n",
    "}\n",
    "collection.create_index(field_name=\"embedding\", index_params=index_params)\n",
    "collection.load()"
   ]
  },
  {
   "cell_type": "markdown",
   "metadata": {},
   "source": [
    "## Insert Data"
   ]
  },
  {
   "cell_type": "code",
   "execution_count": 16,
   "metadata": {
    "id": "81c674d3ee094911889956ee8ed06f73"
   },
   "outputs": [],
   "source": [
    "import sys\n",
    "def batch_insert_data(data):\n",
    "    data_batch = [[], [], []]\n",
    "\n",
    "    batch_iteration = 0\n",
    "    for index, row in data.iterrows():\n",
    "        batch_iteration = batch_iteration + 1\n",
    "        print(batch_iteration)\n",
    "        data_batch[0].append(row[\"id\"])\n",
    "        data_batch[1].append(row[\"title\"])\n",
    "        data_batch[2].append(row[\"text\"])\n",
    "        if len(data_batch[0]) % BATCH_SIZE == 0:\n",
    "            #print(len(data_batch[0]))\n",
    "            embed_insert(data_batch)\n",
    "            data_batch = [[], [], []]\n",
    "\n",
    "    # Embed and insert the remainder\n",
    "    if len(data_batch[0]) != 0:\n",
    "        embed_insert(data_batch)\n",
    "\n",
    "    # Call a flush to index any unsealed segments.\n",
    "    collection.flush()"
   ]
  },
  {
   "cell_type": "code",
   "execution_count": 17,
   "metadata": {
    "id": "756ee4e38b184ee6823364d65fadc19a"
   },
   "outputs": [
    {
     "name": "stdout",
     "output_type": "stream",
     "text": [
      "1\n",
      "2\n",
      "3\n",
      "4\n",
      "5\n",
      "6\n",
      "7\n",
      "8\n",
      "9\n",
      "10\n",
      "11\n",
      "12\n",
      "13\n",
      "14\n",
      "15\n",
      "16\n",
      "17\n",
      "18\n",
      "19\n",
      "20\n",
      "21\n",
      "22\n",
      "23\n",
      "24\n",
      "25\n",
      "26\n",
      "27\n",
      "28\n",
      "29\n",
      "30\n",
      "31\n",
      "32\n",
      "33\n",
      "34\n",
      "35\n",
      "36\n",
      "37\n",
      "38\n",
      "39\n",
      "40\n",
      "41\n",
      "42\n",
      "43\n",
      "44\n",
      "45\n",
      "46\n",
      "47\n",
      "48\n",
      "49\n",
      "50\n",
      "51\n",
      "52\n",
      "53\n",
      "54\n",
      "55\n",
      "56\n",
      "57\n",
      "58\n",
      "59\n",
      "60\n",
      "61\n",
      "62\n",
      "63\n",
      "64\n",
      "65\n",
      "66\n",
      "67\n",
      "68\n",
      "69\n",
      "70\n",
      "71\n",
      "72\n",
      "73\n",
      "74\n",
      "75\n",
      "76\n",
      "77\n",
      "78\n",
      "79\n",
      "80\n",
      "81\n",
      "82\n",
      "83\n",
      "84\n",
      "85\n",
      "86\n",
      "87\n",
      "88\n",
      "89\n",
      "90\n",
      "91\n",
      "92\n",
      "93\n",
      "94\n",
      "95\n",
      "96\n",
      "97\n",
      "98\n",
      "99\n",
      "100\n"
     ]
    }
   ],
   "source": [
    "batch_insert_data(test_data.head(100))"
   ]
  },
  {
   "cell_type": "markdown",
   "metadata": {},
   "source": [
    "## Semantic Search"
   ]
  },
  {
   "cell_type": "code",
   "execution_count": 18,
   "metadata": {},
   "outputs": [
    {
     "name": "stdout",
     "output_type": "stream",
     "text": [
      "I want to buy special gift for my husband.?\n",
      "Do you have movie stickers for kids?\n",
      "I am looking for kitchen essentials?\n",
      "Sports outfits for men?\n",
      "Pink coloured dress for women?\n"
     ]
    }
   ],
   "source": [
    "question_texts = [q.strip(\"?\") + \"?\" for q in test_qna.iloc[5:10]['question'].tolist()]\n",
    "print(\"\\n\".join(question_texts))"
   ]
  },
  {
   "cell_type": "code",
   "execution_count": 19,
   "metadata": {},
   "outputs": [],
   "source": [
    "def embed_search(data):\n",
    "    embeds = transformer.encode(data) \n",
    "    return [x for x in embeds]\n",
    "\n",
    "search_data = embed_search(\"I want to buy special gift for my husband.?\")\n"
   ]
  },
  {
   "cell_type": "code",
   "execution_count": 20,
   "metadata": {
    "id": "a7a718c8fe3448d6878d6eeee1ef1ff7"
   },
   "outputs": [
    {
     "name": "stdout",
     "output_type": "stream",
     "text": [
      "Question: I want to buy special gift for my husband.?\n",
      "Search Time: 0.9227221012115479\n",
      "Results:\n",
      "Result for question 1 ---- arythe Romantic LED Light Valentine's Day Sign with Suction Cup Wedding Decor Marry Me Warm White ---- 1.3304294347763062\n",
      "Result for question 1 ---- Suitcase Music Box, Mini Music Box Clockwork Music Box for Children ---- 1.3519076108932495\n",
      "Result for question 1 ---- MJ Metals Jewelry White Ceramic Piano Keyboard 6mm Band Flat Pipe Cut High Polished Ring Size 12 ---- 1.473937749862671\n",
      "Result for question 1 ---- Aqualens Moon Blue A-8065 Contact Lens Designer Case ---- 1.4865772724151611\n",
      "Result for question 1 ---- K-Swiss 201 Classic Tennis Shoe (Infant/Toddler),Black/Black,5 M US Toddler ---- 1.57752525806427\n",
      "\n",
      "\n",
      "Question: Do you have movie stickers for kids?\n",
      "Search Time: 0.9227221012115479\n",
      "Results:\n",
      "Result for question 2 ---- Sandylion Marvel Heroes Foldover Stickers ---- 1.0077579021453857\n",
      "Result for question 2 ---- One Piece Group SD Sticker Set Anime ---- 1.154209852218628\n",
      "Result for question 2 ---- KIDDY STAR Boys Fullsleeve Hockey T-Shirt, Pack of 1, Yellow,FS-237, 9 to 10 Years ---- 1.2226390838623047\n",
      "Result for question 2 ---- Aditya Sign Toilet Sign Board for Office, Home, Industry, Public Places, Railway Station, Hospital GNS-12528 ---- 1.385528802871704\n",
      "Result for question 2 ---- Printed Vinyl Mobile Wrap Compatible with OnePlus 9R Skin Sticker Protector for Back Only - Blue Gold Marble-10 (with Matte Lamination) ---- 1.4034807682037354\n",
      "\n",
      "\n",
      "Question: I am looking for kitchen essentials?\n",
      "Search Time: 0.9227221012115479\n",
      "Results:\n",
      "Result for question 3 ---- Girgit Stainless Steel Cooking and Serving Spoon Set, Silver/Serving Spoon Set for Kitchen use/Buffet Serving Spoon Set for Dinning Table/Dinner Serving Set/Dining Table Serving Set/Set of (5) ---- 1.178026556968689\n",
      "Result for question 3 ---- Hexwell Essential oil for Home Fragrance Oil Aroma Diffuser oil Set of 2 Rajnigandha Oil & TeaTree Oil -10ML Each ---- 1.2697196006774902\n",
      "Result for question 3 ---- Prigo Enterprise Multipurpose Fridge Storage containers and jar Set Plastic Refrigerator Box with Handles and Airtight Lid Unbreakable Kitchen Storage Vegetable, Food, Fruits Basket 1100ml(1) ---- 1.2708406448364258\n",
      "Result for question 3 ---- Delavala Self Adhesive Kitchen Backsplash Wallpaper, Oil Proof Aluminum Foil Kitchen Sticker (Sliver 5(Mtr)) ---- 1.3402807712554932\n",
      "Result for question 3 ---- ROY Enterprise Plastic Measuring Spoon and Cup Set, 8-Pieces (Black, Pack of 1) ---- 1.3545904159545898\n",
      "\n",
      "\n",
      "Question: Sports outfits for men?\n",
      "Search Time: 0.9227221012115479\n",
      "Results:\n",
      "Result for question 4 ---- Wild Bobby Straight Outta Cleveland CLE Fan | Fantasy Football | Mens Sports Long Sleeve T-Shirt, Black, Large ---- 0.9330962896347046\n",
      "Result for question 4 ---- Trendy World Colorblock Round Neck Casual Boys & Girls Winter Sweater/Sweatshirt (Pack of 2) ---- 0.9596582651138306\n",
      "Result for question 4 ---- KIDDY STAR Boys Fullsleeve Hockey T-Shirt, Pack of 1, Yellow,FS-237, 9 to 10 Years ---- 1.0211751461029053\n",
      "Result for question 4 ---- BaronHong Seamless Underwear Half Length Chest Binder for Tomboy Trans Lesbian(Black,2XL) ---- 1.102066159248352\n",
      "Result for question 4 ---- Helly-Hansen Mens Swift 4.0 Ski Jacket, 991 Black, Small ---- 1.1180349588394165\n",
      "\n",
      "\n",
      "Question: Pink coloured dress for women?\n",
      "Search Time: 0.9227221012115479\n",
      "Results:\n",
      "Result for question 5 ---- Women's A Line Open Back Satin Prom Dress Long Formal Party Skirts Deep V Neck Ball Gown Hot Pink Size 6 ---- 0.912022590637207\n",
      "Result for question 5 ---- Attiris Women's Satin Semi-Stitched Lehenga Choli (Green, Satin) ---- 1.1455490589141846\n",
      "Result for question 5 ---- eneric Girl's Art Silk Semi stitched Lehenga Choli (FA_Blue_Party_Wear_01_Blue_Free Size) ---- 1.1710362434387207\n",
      "Result for question 5 ---- Lofbaz Women's Drawstring Harem Solid Bohemian Hippie Rayon Pants Purple M ---- 1.1745870113372803\n",
      "Result for question 5 ---- Pooplu Womens Plain V Neck Half Sleeves Pack of 3 Combo Cotton Pink, Yellow, DarkPink T Shirt. Stylish, Casual Tshirts (_L) ---- 1.1763705015182495\n",
      "\n",
      "\n"
     ]
    }
   ],
   "source": [
    "import time\n",
    "\n",
    "search_terms = question_texts\n",
    "\n",
    "# Search the database based on input text\n",
    "def embed_search(data):\n",
    "    embeds = transformer.encode(data) \n",
    "    return [x for x in embeds]\n",
    "\n",
    "search_data = embed_search(search_terms)\n",
    "\n",
    "start = time.time()\n",
    "\n",
    "res = collection.search(\n",
    "    data=search_data,  # Embeded search value\n",
    "    anns_field=\"embedding\",  # Search across embeddings\n",
    "    param={\"metric_type\": \"L2\",\n",
    "            \"params\": {\"nprobe\": 10}},\n",
    "    limit = 5,\n",
    "    #limit = 1,# Limit to top_k results per search\n",
    "    output_fields=[\"id\",\"text\",\"title\"]  # Include title field in result\n",
    ")\n",
    "end = time.time()\n",
    "\n",
    "result_ids = {}\n",
    "for hits_i, hits in enumerate(res):\n",
    "    hit_ids = []\n",
    "    print(\"Question:\", search_terms[hits_i])\n",
    "    print(\"Search Time:\", end-start)\n",
    "    print(\"Results:\")\n",
    "    for hit in hits:\n",
    "        hit_ids.append(hit.entity.get(\"id\"))\n",
    "        \n",
    "        print( \"Result for question\", hits_i+1, \"----\",hit.entity.get(\"text\"), \"----\", hit.distance)\n",
    "    print(\"\\n\")\n",
    "    result_ids[hits_i] = hit_ids"
   ]
  },
  {
   "cell_type": "markdown",
   "metadata": {},
   "source": [
    "## Drop the collection"
   ]
  },
  {
   "cell_type": "code",
   "execution_count": 21,
   "metadata": {},
   "outputs": [],
   "source": [
    "# Drop a specific collection\n",
    "utility.drop_collection(\n",
    "    collection_name=\"Milvus_collection\",\n",
    ")"
   ]
  }
 ],
 "metadata": {
  "kernelspec": {
   "display_name": "Python 3",
   "language": "python",
   "name": "python3"
  },
  "language_info": {
   "codemirror_mode": {
    "name": "ipython",
    "version": 3
   },
   "file_extension": ".py",
   "mimetype": "text/x-python",
   "name": "python",
   "nbconvert_exporter": "python",
   "pygments_lexer": "ipython3",
   "version": "3.11.9"
  }
 },
 "nbformat": 4,
 "nbformat_minor": 4
}
