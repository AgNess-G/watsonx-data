{
 "cells": [
  {
   "cell_type": "markdown",
   "id": "6b83df0e-f4b4-4acd-b005-ec7de625c506",
   "metadata": {},
   "source": [
    "# MILVUS Demo - Grouping Search"
   ]
  },
  {
   "cell_type": "markdown",
   "id": "444e4723-fc39-4066-a8d8-02fe7fa817b7",
   "metadata": {},
   "source": [
    "# Grouping Search with Milvus in watsonx.data\n",
    "\n",
    "## Disclaimers\n",
    "- Use only Projects and Spaces that are available in watsonx context.\n",
    "\n",
    "This notebook covers the Milvus Grouping Search capabilities available from Milvus 2.4.0\n",
    "In Milvus, grouping search by a specific field can avoid redundancy of the same field item in the results. "
   ]
  },
  {
   "cell_type": "markdown",
   "id": "589c089e-4f2d-4d57-a9f6-75b118c2d53e",
   "metadata": {},
   "source": [
    "## Overview\n",
    "### Audience\n",
    "The scenario presented in this notebook :\n",
    "- Consider a collection of products, each product has various reviews. \n",
    "- Each review is represented by one vector embedding and belongs to one product.\n",
    "- To find relevant products instead of similar reviews, you can include the group_by_field argument in the search() operation to group results by the ProductId.\n",
    "- This helps return the most relevant and unique products, rather than separate reviews from the same product.\n",
    "\n",
    "Some familiarity with Python programming, search algorithms, and basic machine learning concepts is recommended. The code runs with Python 3.10 or later.\n",
    "\n",
    "### Learning goal\n",
    "This notebook demonstrates similarity search support in watsonx.data using grouping search, introducing commands for:\n",
    "- Connecting to Milvus\n",
    "- Creating collections\n",
    "- Creating indexes\n",
    "- Generate Embeddings\n",
    "- Ingesting data\n",
    "- Data retrieval\n",
    "\n",
    "### About Milvus \n",
    "\n",
    "Milvus is an open-source vector database designed specifically for scalable similarity search and AI applications. It's a powerful platform that enables efficient storage, indexing, and retrieval of vector embeddings, which are crucial in modern machine learning and artificial intelligence tasks.[ To know more, visit Milvus Documentation](https://www.ibm.com/docs/en/watsonx/watsonxdata/2.1.x?topic=components-milvus)\n",
    "\n",
    "### Milvus: Three Fundamental Steps\n",
    "\n",
    "#### 1. Data Preparation\n",
    "Collect and convert your data into high-dimensional vector embeddings. These vectors are typically generated using machine learning models like neural networks, which transform text, images, audio, or other data types into dense numerical representations that capture semantic meaning and relationships.\n",
    "\n",
    "#### 2. Vector Insertion\n",
    "Load the dense vector embeddings and sparse vector embeddings into Milvus collections or partitions within a database. Milvus creates indexes to optimize subsequent search operations, supporting various indexing algorithms like IVF-FLAT, HNSW, etc., based on the definition.\n",
    "\n",
    "#### 3. Similarity Search\n",
    "Perform vector similarity searches by providing a query vector and a reranking weight. Milvus will rapidly return the most similar vectors from the collection or partitions based on the defined metrics like cosine similarity, Euclidean distance, or inner product and the reranking weight.\n",
    "\n",
    "### Why grouping search?\n",
    "\n",
    "When entities in the search results share the same value in a scalar field, this indicates that they are similar in a particular attribute, which may negatively impact the search results.A grouping search allows Milvus to group search results by values in a specified field to aggregate data at a higher level\n",
    "\n",
    "### Key Workflow\n",
    "\n",
    "1. **Definition** (once)\n",
    "2. **Ingestion** (once)\n",
    "3. **Retrieve relevant passage(s)** (for every user query)\n",
    "\n",
    "## Contents\n",
    "\n",
    "- Environment Setup\n",
    "- Install packages\n",
    "- Document data loading\n",
    "- Create connection\n",
    "- Ingest data\n",
    "- Retrieve relevant data\n",
    "\n",
    "## Environment Setup\n",
    "\n",
    "Before using the sample code in this notebook, complete the following setup tasks:\n",
    "\n",
    "- Create a Watsonx.data instance (a free plan is offered)\n",
    "  - Information about creating a watsonx.data instance can be found [here](https://www.ibm.com/docs/en/watsonx/watsonxdata/2.0.x)\n"
   ]
  },
  {
   "cell_type": "markdown",
   "id": "715d45b5-4b9f-4ac7-bc23-b7619e756c84",
   "metadata": {},
   "source": [
    "## Import Libraries"
   ]
  },
  {
   "cell_type": "markdown",
   "id": "cc675434-e388-4905-9992-61554e9e5456",
   "metadata": {},
   "source": [
    "This notebook uses sentence transformer to generate vector embeddings."
   ]
  },
  {
   "cell_type": "code",
   "execution_count": 2,
   "id": "4f1421c3-08ad-460b-919e-2675a13b87f5",
   "metadata": {},
   "outputs": [
    {
     "name": "stdout",
     "output_type": "stream",
     "text": [
      "zsh:1: command not found: pip\n"
     ]
    }
   ],
   "source": [
    "!pip show pymilvus\n"
   ]
  },
  {
   "cell_type": "code",
   "execution_count": 3,
   "id": "7a90bb98-75c2-4edc-b4f1-3afd93b3cb35",
   "metadata": {},
   "outputs": [],
   "source": [
    "%%capture\n",
    "!pip install transformers\n"
   ]
  },
  {
   "cell_type": "code",
   "execution_count": 4,
   "id": "8dd5502c-2aff-46eb-8cd5-e3d878e04198",
   "metadata": {},
   "outputs": [],
   "source": [
    "%%capture\n",
    "!pip install sentence-transformers\n"
   ]
  },
  {
   "cell_type": "code",
   "execution_count": 5,
   "id": "b53bd67e-048b-403e-932f-d8240ec26183",
   "metadata": {},
   "outputs": [
    {
     "name": "stderr",
     "output_type": "stream",
     "text": [
      "/opt/homebrew/lib/python3.11/site-packages/tqdm/auto.py:21: TqdmWarning: IProgress not found. Please update jupyter and ipywidgets. See https://ipywidgets.readthedocs.io/en/stable/user_install.html\n",
      "  from .autonotebook import tqdm as notebook_tqdm\n"
     ]
    }
   ],
   "source": [
    "from sentence_transformers import SentenceTransformer\n",
    "model = SentenceTransformer('all-MiniLM-L6-v2')"
   ]
  },
  {
   "cell_type": "markdown",
   "id": "9e787a52-c9d8-432e-b533-4e6520e4265e",
   "metadata": {},
   "source": [
    "## Load Data"
   ]
  },
  {
   "cell_type": "markdown",
   "id": "5baaa8ba-f092-4654-9bd4-d96e7a5d7f15",
   "metadata": {},
   "source": [
    "The dataset consists of 5 products and 10 reviews for each product. \n",
    "- The first product named 'BestProductA' has all possitive reviews.\n",
    "- The second product named 'GoodProductB' has mostly possitive reviews, very few negative or neutral reviews.\n",
    "- The third product named 'AverageProductC' has mostly mixed or neutral reviews.\n",
    "- The fourth product named 'BadProductD' has mostly negative reviews, very few positive or neutral reviews.\n",
    "- The fifth product named 'WorstProductE' has all negative reviews.\n",
    "\n",
    "For the sake of getting a hint on the overall product quality, the product names have been choosen likewise. It has no effect on similarity calculation."
   ]
  },
  {
   "cell_type": "code",
   "execution_count": 6,
   "id": "c8b1d16d-2c2d-4cbf-bfea-ee57e21b671d",
   "metadata": {},
   "outputs": [
    {
     "data": {
      "text/html": [
       "<div>\n",
       "<style scoped>\n",
       "    .dataframe tbody tr th:only-of-type {\n",
       "        vertical-align: middle;\n",
       "    }\n",
       "\n",
       "    .dataframe tbody tr th {\n",
       "        vertical-align: top;\n",
       "    }\n",
       "\n",
       "    .dataframe thead th {\n",
       "        text-align: right;\n",
       "    }\n",
       "</style>\n",
       "<table border=\"1\" class=\"dataframe\">\n",
       "  <thead>\n",
       "    <tr style=\"text-align: right;\">\n",
       "      <th></th>\n",
       "      <th>ProductId</th>\n",
       "      <th>ProductName</th>\n",
       "      <th>Review</th>\n",
       "    </tr>\n",
       "  </thead>\n",
       "  <tbody>\n",
       "    <tr>\n",
       "      <th>0</th>\n",
       "      <td>1</td>\n",
       "      <td>BestProductA</td>\n",
       "      <td>This product is amazing!</td>\n",
       "    </tr>\n",
       "    <tr>\n",
       "      <th>1</th>\n",
       "      <td>1</td>\n",
       "      <td>BestProductA</td>\n",
       "      <td>I love it!</td>\n",
       "    </tr>\n",
       "    <tr>\n",
       "      <th>2</th>\n",
       "      <td>1</td>\n",
       "      <td>BestProductA</td>\n",
       "      <td>Highly recommend!</td>\n",
       "    </tr>\n",
       "    <tr>\n",
       "      <th>3</th>\n",
       "      <td>1</td>\n",
       "      <td>BestProductA</td>\n",
       "      <td>Excellent quality!</td>\n",
       "    </tr>\n",
       "    <tr>\n",
       "      <th>4</th>\n",
       "      <td>1</td>\n",
       "      <td>BestProductA</td>\n",
       "      <td>Works perfectly!</td>\n",
       "    </tr>\n",
       "  </tbody>\n",
       "</table>\n",
       "</div>"
      ],
      "text/plain": [
       "   ProductId   ProductName                    Review\n",
       "0          1  BestProductA  This product is amazing!\n",
       "1          1  BestProductA                I love it!\n",
       "2          1  BestProductA         Highly recommend!\n",
       "3          1  BestProductA        Excellent quality!\n",
       "4          1  BestProductA          Works perfectly!"
      ]
     },
     "execution_count": 6,
     "metadata": {},
     "output_type": "execute_result"
    }
   ],
   "source": [
    "import pandas as pd\n",
    "\n",
    "# Define the products and their reviews\n",
    "products = {\n",
    "    1: (\"BestProductA\", [\"This product is amazing!\", \"I love it!\", \"Highly recommend!\", \"Excellent quality!\", \n",
    "                         \"Works perfectly!\", \"Very satisfied!\", \"Exceeded my expectations!\", \"Top-notch product!\", \n",
    "                         \"Will buy again!\", \"Best purchase ever!\"]),\n",
    "    2: (\"GoodProductB\", [\"Good product.\", \"Quite satisfied.\", \"Meets my needs.\", \"Decent quality.\", \"Nothing special.\", \n",
    "                         \"Reliable.\", \"Does the job.\", \"Overall good.\", \"Works as expected.\", \"Satisfied.\"]),\n",
    "    3: (\"AverageProductC\", [\"It's okay.\", \"Average quality.\", \"Complete waste of money!\", \"Exceeded my expectations!\", \"It's fine.\", \n",
    "                            \"Nothing special.\", \"Does the job.\",\"Very disappointed!\", \"Just alright.\", \"Not impressed.\"]),\n",
    "    4: (\"BadProductD\", [\"Not great.\", \"Disappointed.\", \"Happy with the purchase.\", \"Works perfectly!\", \"Not worth the price.\", \n",
    "                        \"Subpar quality.\", \"Does the job.\", \"Expected more.\", \"Mediocre.\", \"Good product.\"]),\n",
    "    5: (\"WorstProductE\", [\"Terrible product!\", \"Hate it!\", \"Do not recommend.\", \"Awful quality!\", \n",
    "                          \"Doesn't work.\", \"Very disappointed!\", \"Complete waste of money!\", \"Worst product ever!\", \n",
    "                          \"Never buying again!\", \"Extremely unsatisfied!\"])\n",
    "}\n",
    "\n",
    "# Generate the DataFrame\n",
    "data = []\n",
    "\n",
    "for product_id, (product_name, reviews) in products.items():\n",
    "    for review in reviews:\n",
    "        data.append({\"ProductId\": product_id, \"ProductName\": product_name, \"Review\": review})\n",
    "\n",
    "df = pd.DataFrame(data)\n",
    "\n",
    "# Print the DataFrame\n",
    "df.head(5)\n"
   ]
  },
  {
   "cell_type": "code",
   "execution_count": 7,
   "id": "34eed94c-9e61-4c8a-a846-031c46c01bb9",
   "metadata": {},
   "outputs": [
    {
     "data": {
      "text/html": [
       "<div>\n",
       "<style scoped>\n",
       "    .dataframe tbody tr th:only-of-type {\n",
       "        vertical-align: middle;\n",
       "    }\n",
       "\n",
       "    .dataframe tbody tr th {\n",
       "        vertical-align: top;\n",
       "    }\n",
       "\n",
       "    .dataframe thead th {\n",
       "        text-align: right;\n",
       "    }\n",
       "</style>\n",
       "<table border=\"1\" class=\"dataframe\">\n",
       "  <thead>\n",
       "    <tr style=\"text-align: right;\">\n",
       "      <th></th>\n",
       "      <th>ProductId</th>\n",
       "      <th>ProductName</th>\n",
       "      <th>Review</th>\n",
       "      <th>id</th>\n",
       "    </tr>\n",
       "  </thead>\n",
       "  <tbody>\n",
       "    <tr>\n",
       "      <th>0</th>\n",
       "      <td>1</td>\n",
       "      <td>BestProductA</td>\n",
       "      <td>This product is amazing!</td>\n",
       "      <td>1</td>\n",
       "    </tr>\n",
       "    <tr>\n",
       "      <th>1</th>\n",
       "      <td>1</td>\n",
       "      <td>BestProductA</td>\n",
       "      <td>I love it!</td>\n",
       "      <td>2</td>\n",
       "    </tr>\n",
       "    <tr>\n",
       "      <th>2</th>\n",
       "      <td>1</td>\n",
       "      <td>BestProductA</td>\n",
       "      <td>Highly recommend!</td>\n",
       "      <td>3</td>\n",
       "    </tr>\n",
       "    <tr>\n",
       "      <th>3</th>\n",
       "      <td>1</td>\n",
       "      <td>BestProductA</td>\n",
       "      <td>Excellent quality!</td>\n",
       "      <td>4</td>\n",
       "    </tr>\n",
       "    <tr>\n",
       "      <th>4</th>\n",
       "      <td>1</td>\n",
       "      <td>BestProductA</td>\n",
       "      <td>Works perfectly!</td>\n",
       "      <td>5</td>\n",
       "    </tr>\n",
       "  </tbody>\n",
       "</table>\n",
       "</div>"
      ],
      "text/plain": [
       "   ProductId   ProductName                    Review  id\n",
       "0          1  BestProductA  This product is amazing!   1\n",
       "1          1  BestProductA                I love it!   2\n",
       "2          1  BestProductA         Highly recommend!   3\n",
       "3          1  BestProductA        Excellent quality!   4\n",
       "4          1  BestProductA          Works perfectly!   5"
      ]
     },
     "execution_count": 7,
     "metadata": {},
     "output_type": "execute_result"
    }
   ],
   "source": [
    "# Add id column as primary key\n",
    "df['id'] = [i for i in range(1,51)]\n",
    "df.head(5)"
   ]
  },
  {
   "cell_type": "markdown",
   "id": "8bda48d7-5d89-4555-a345-2efba867b692",
   "metadata": {},
   "source": [
    "## Generate vectors"
   ]
  },
  {
   "cell_type": "code",
   "execution_count": 8,
   "id": "23549778-2902-4928-8705-21362c9df46c",
   "metadata": {},
   "outputs": [
    {
     "data": {
      "text/html": [
       "<div>\n",
       "<style scoped>\n",
       "    .dataframe tbody tr th:only-of-type {\n",
       "        vertical-align: middle;\n",
       "    }\n",
       "\n",
       "    .dataframe tbody tr th {\n",
       "        vertical-align: top;\n",
       "    }\n",
       "\n",
       "    .dataframe thead th {\n",
       "        text-align: right;\n",
       "    }\n",
       "</style>\n",
       "<table border=\"1\" class=\"dataframe\">\n",
       "  <thead>\n",
       "    <tr style=\"text-align: right;\">\n",
       "      <th></th>\n",
       "      <th>id</th>\n",
       "      <th>ProductId</th>\n",
       "      <th>ProductName</th>\n",
       "      <th>Review</th>\n",
       "      <th>Embeddings</th>\n",
       "    </tr>\n",
       "  </thead>\n",
       "  <tbody>\n",
       "    <tr>\n",
       "      <th>0</th>\n",
       "      <td>1</td>\n",
       "      <td>1</td>\n",
       "      <td>BestProductA</td>\n",
       "      <td>This product is amazing!</td>\n",
       "      <td>[-0.07711850851774216, 0.011897865682840347, 0...</td>\n",
       "    </tr>\n",
       "    <tr>\n",
       "      <th>1</th>\n",
       "      <td>2</td>\n",
       "      <td>1</td>\n",
       "      <td>BestProductA</td>\n",
       "      <td>I love it!</td>\n",
       "      <td>[-0.02365611121058464, 0.016240587458014488, 0...</td>\n",
       "    </tr>\n",
       "    <tr>\n",
       "      <th>2</th>\n",
       "      <td>3</td>\n",
       "      <td>1</td>\n",
       "      <td>BestProductA</td>\n",
       "      <td>Highly recommend!</td>\n",
       "      <td>[-0.058093734085559845, -0.014794943854212761,...</td>\n",
       "    </tr>\n",
       "    <tr>\n",
       "      <th>3</th>\n",
       "      <td>4</td>\n",
       "      <td>1</td>\n",
       "      <td>BestProductA</td>\n",
       "      <td>Excellent quality!</td>\n",
       "      <td>[-0.0684385746717453, 0.060429755598306656, -0...</td>\n",
       "    </tr>\n",
       "    <tr>\n",
       "      <th>4</th>\n",
       "      <td>5</td>\n",
       "      <td>1</td>\n",
       "      <td>BestProductA</td>\n",
       "      <td>Works perfectly!</td>\n",
       "      <td>[-0.04870240017771721, -0.008712533861398697, ...</td>\n",
       "    </tr>\n",
       "  </tbody>\n",
       "</table>\n",
       "</div>"
      ],
      "text/plain": [
       "   id  ProductId   ProductName                    Review  \\\n",
       "0   1          1  BestProductA  This product is amazing!   \n",
       "1   2          1  BestProductA                I love it!   \n",
       "2   3          1  BestProductA         Highly recommend!   \n",
       "3   4          1  BestProductA        Excellent quality!   \n",
       "4   5          1  BestProductA          Works perfectly!   \n",
       "\n",
       "                                          Embeddings  \n",
       "0  [-0.07711850851774216, 0.011897865682840347, 0...  \n",
       "1  [-0.02365611121058464, 0.016240587458014488, 0...  \n",
       "2  [-0.058093734085559845, -0.014794943854212761,...  \n",
       "3  [-0.0684385746717453, 0.060429755598306656, -0...  \n",
       "4  [-0.04870240017771721, -0.008712533861398697, ...  "
      ]
     },
     "execution_count": 8,
     "metadata": {},
     "output_type": "execute_result"
    }
   ],
   "source": [
    "# Generate embeddings for each review and add to a new column\n",
    "df['Embeddings'] = df['Review'].apply(lambda x: model.encode(x).tolist())\n",
    "df = df[[\"id\",\"ProductId\",\"ProductName\",\"Review\",\"Embeddings\"]]\n",
    "df.head(5)"
   ]
  },
  {
   "cell_type": "markdown",
   "id": "b930ed8c-3c6b-4b84-96e6-e92370620639",
   "metadata": {},
   "source": [
    "## Connect to Milvus"
   ]
  },
  {
   "cell_type": "code",
   "execution_count": 9,
   "id": "ebf910ed-654d-46be-8e76-64725b60c2b6",
   "metadata": {},
   "outputs": [],
   "source": [
    "fmt = \"\\n=== {:30} ===\\n\"\n",
    "num_entities, dim = 50, 384  # Adjusted for more entities and higher dimension\n",
    "BATCH_SIZE = 5\n",
    "collection_name=\"Product_Reviews_Collection\""
   ]
  },
  {
   "cell_type": "code",
   "execution_count": 10,
   "id": "296848a0-bde1-437c-b046-1297e7a80f5d",
   "metadata": {},
   "outputs": [],
   "source": [
    "from pymilvus import MilvusClient, DataType, CollectionSchema, FieldSchema,utility"
   ]
  },
  {
   "cell_type": "code",
   "execution_count": null,
   "id": "e26ad86c-edf4-451a-bc98-42a1cf153b4d",
   "metadata": {},
   "outputs": [
    {
     "name": "stdout",
     "output_type": "stream",
     "text": [
      "Connected\n"
     ]
    }
   ],
   "source": [
    "from pymilvus import MilvusClient, DataType\n",
    "\n",
    "SERVER_ADDR = \"https://<username>:<password>@<host>:port\"\n",
    "client = MilvusClient(\n",
    "    uri=SERVER_ADDR,\n",
    "    secure=True\n",
    ")\n",
    "print(\"Connected\")"
   ]
  },
  {
   "cell_type": "code",
   "execution_count": 12,
   "id": "098958a8-d472-44f9-846a-b6ec6d959e90",
   "metadata": {},
   "outputs": [
    {
     "name": "stdout",
     "output_type": "stream",
     "text": [
      "Collection Exists. Dropping collection.\n"
     ]
    }
   ],
   "source": [
    "print(\"Collection Exists. Dropping collection.\")\n",
    "client.drop_collection(collection_name)"
   ]
  },
  {
   "cell_type": "markdown",
   "id": "c3149428-f47b-4bab-b0ef-2ccafebb6e81",
   "metadata": {},
   "source": [
    "## Create schema"
   ]
  },
  {
   "cell_type": "code",
   "execution_count": 13,
   "id": "b416d67a-0f47-47b4-a719-21c0c96d08d5",
   "metadata": {},
   "outputs": [
    {
     "data": {
      "text/plain": [
       "({'auto_id': False, 'description': '', 'fields': [{'name': 'id', 'description': '', 'type': <DataType.INT64: 5>, 'is_primary': True, 'auto_id': False}, {'name': 'product_id', 'description': '', 'type': <DataType.INT64: 5>}, {'name': 'product_name', 'description': '', 'type': <DataType.VARCHAR: 21>, 'params': {'max_length': 15}}, {'name': 'reviews', 'description': '', 'type': <DataType.VARCHAR: 21>, 'params': {'max_length': 100}}, {'name': 'embeddings', 'description': '', 'type': <DataType.FLOAT_VECTOR: 101>, 'params': {'dim': 384}}], 'enable_dynamic_field': True},)"
      ]
     },
     "execution_count": 13,
     "metadata": {},
     "output_type": "execute_result"
    }
   ],
   "source": [
    "schema = MilvusClient.create_schema(\n",
    "    auto_id=False,\n",
    "    enable_dynamic_field=True,\n",
    ")\n",
    "\n",
    "# 3.2. Add fields to schema\n",
    "schema.add_field(field_name=\"id\", datatype=DataType.INT64, is_primary=True),\n",
    "schema.add_field(field_name=\"product_id\", datatype=DataType.INT64),\n",
    "schema.add_field(field_name=\"product_name\", datatype=DataType.VARCHAR, max_length=15),\n",
    "schema.add_field(field_name=\"reviews\", datatype=DataType.VARCHAR, max_length=100),\n",
    "schema.add_field(field_name=\"embeddings\", datatype=DataType.FLOAT_VECTOR, dim=dim),"
   ]
  },
  {
   "cell_type": "code",
   "execution_count": 14,
   "id": "b0cc4891-2219-410b-9780-42ccd103ede3",
   "metadata": {},
   "outputs": [],
   "source": [
    "index_params = client.prepare_index_params()\n",
    "\n",
    "index_params.add_index(\n",
    "    field_name=\"id\",\n",
    "    index_type=\"STL_SORT\"\n",
    ")\n",
    "\n",
    "index_params.add_index(\n",
    "    field_name=\"embeddings\", \n",
    "    index_type=\"IVF_FLAT\",\n",
    "    metric_type=\"COSINE\",\n",
    "    params={ \"nlist\": 128 }\n",
    ")\n"
   ]
  },
  {
   "cell_type": "markdown",
   "id": "6a35b83d-ebee-4ef1-9739-128ba5b3a6df",
   "metadata": {},
   "source": [
    "## Create collection"
   ]
  },
  {
   "cell_type": "code",
   "execution_count": 15,
   "id": "b0cb9d9f-1b9c-49e9-bce4-eb2e9310b802",
   "metadata": {},
   "outputs": [
    {
     "name": "stdout",
     "output_type": "stream",
     "text": [
      "{'state': <LoadState: Loaded>}\n"
     ]
    }
   ],
   "source": [
    "client.create_collection(\n",
    "    collection_name=\"Product_Reviews_Collection\",\n",
    "    schema=schema,\n",
    "    index_params=index_params\n",
    ")\n",
    "\n",
    "\n",
    "res = client.get_load_state(\n",
    "    collection_name=\"Product_Reviews_Collection\"\n",
    ")\n",
    "\n",
    "print(res)\n",
    "\n"
   ]
  },
  {
   "cell_type": "code",
   "execution_count": 16,
   "id": "7bde55bd-4940-44ee-ad50-6e2ff4753883",
   "metadata": {},
   "outputs": [],
   "source": [
    "data = {}\n",
    "data[\"id\"]= df['id'].tolist()\n",
    "data[\"product_id\"]= df['ProductId'].tolist()\n",
    "data[\"product_name\"]= df['ProductName'].tolist()\n",
    "data[\"reviews\"]= df['Review'].tolist()\n",
    "data[\"embeddings\"] = df['Embeddings'].tolist()\n",
    "\n",
    "df_new = pd.DataFrame(data)\n",
    "\n",
    "# Convert the DataFrame into the desired format\n",
    "data_list = []\n",
    "for index, row in df_new.iterrows():\n",
    "    data_list.append({\n",
    "        \"id\": row['id'],\n",
    "        \"product_id\": row['product_id'],\n",
    "        \"product_name\": row['product_name'],\n",
    "        \"reviews\": row['reviews'],\n",
    "        \"embeddings\": row['embeddings']\n",
    "    })\n",
    "\n"
   ]
  },
  {
   "cell_type": "markdown",
   "id": "c3273b48-d672-42c2-9bf0-558311d16ea5",
   "metadata": {},
   "source": [
    "## Insert Data"
   ]
  },
  {
   "cell_type": "code",
   "execution_count": 18,
   "id": "5fa3b252-7c67-4a35-b7f6-4054d26ab2f8",
   "metadata": {},
   "outputs": [
    {
     "name": "stdout",
     "output_type": "stream",
     "text": [
      "{'insert_count': 50, 'ids': [1, 2, 3, 4, 5, 6, 7, 8, 9, 10, 11, 12, 13, 14, 15, 16, 17, 18, 19, 20, 21, 22, 23, 24, 25, 26, 27, 28, 29, 30, 31, 32, 33, 34, 35, 36, 37, 38, 39, 40, 41, 42, 43, 44, 45, 46, 47, 48, 49, 50]}\n"
     ]
    }
   ],
   "source": [
    "res = client.insert(\n",
    "    collection_name=collection_name,\n",
    "    data=data_list\n",
    ")\n",
    "\n",
    "print(res)"
   ]
  },
  {
   "cell_type": "markdown",
   "id": "5cfd256f-9d92-4846-b1e3-302d689f576f",
   "metadata": {},
   "source": [
    "## Query "
   ]
  },
  {
   "cell_type": "markdown",
   "id": "7c9cc987-7b94-4e86-a189-5b6aa0654f3a",
   "metadata": {},
   "source": [
    "Tested with query texts:\n",
    "- wow. superb\n",
    "- worst experience in my life\n",
    "- lovely\n",
    "- terrible\n",
    "- yukk\n",
    "- falling in love with it\n",
    "- was ok"
   ]
  },
  {
   "cell_type": "markdown",
   "id": "c4b65ca6-b739-480f-8bf9-31075f3c1fe6",
   "metadata": {},
   "source": [
    "NOTE - the results may vary on the quality of embedding used, the length of text and the diversity of data."
   ]
  },
  {
   "cell_type": "code",
   "execution_count": 19,
   "id": "9e2ae965-1169-43ae-9a4a-95e5ca59f77c",
   "metadata": {},
   "outputs": [],
   "source": [
    "question_text = \"lovely\"\n",
    "question_vector = model.encode(question_text).tolist()"
   ]
  },
  {
   "cell_type": "markdown",
   "id": "e9877984-7743-4c52-815a-b5bbb2aee2c4",
   "metadata": {},
   "source": [
    "## Without Grouping search"
   ]
  },
  {
   "cell_type": "markdown",
   "id": "70a785cd-7d44-4fc2-bdcc-0c3455f69556",
   "metadata": {},
   "source": [
    "We have used COSINE similarity as the metrics. Higher the distance value more similar the datapoints."
   ]
  },
  {
   "cell_type": "code",
   "execution_count": 20,
   "id": "0d27471a-fc93-4f7c-a790-fec1278f4d89",
   "metadata": {},
   "outputs": [
    {
     "name": "stdout",
     "output_type": "stream",
     "text": [
      "\n",
      "\n",
      "\n",
      "Results:\n",
      "{'id': 12, 'distance': 0.4272212088108063, 'entity': {'reviews': 'Quite satisfied.', 'product_name': 'GoodProductB'}}\n",
      "{'id': 6, 'distance': 0.37505069375038147, 'entity': {'reviews': 'Very satisfied!', 'product_name': 'BestProductA'}}\n",
      "{'id': 18, 'distance': 0.3703482449054718, 'entity': {'reviews': 'Overall good.', 'product_name': 'GoodProductB'}}\n",
      "{'id': 2, 'distance': 0.3400030732154846, 'entity': {'reviews': 'I love it!', 'product_name': 'BestProductA'}}\n",
      "{'id': 4, 'distance': 0.3392608165740967, 'entity': {'reviews': 'Excellent quality!', 'product_name': 'BestProductA'}}\n",
      "{'id': 30, 'distance': 0.33884724974632263, 'entity': {'reviews': 'Not impressed.', 'product_name': 'AverageProductC'}}\n",
      "{'id': 40, 'distance': 0.33581191301345825, 'entity': {'reviews': 'Good product.', 'product_name': 'BadProductD'}}\n",
      "{'id': 11, 'distance': 0.33581191301345825, 'entity': {'reviews': 'Good product.', 'product_name': 'GoodProductB'}}\n",
      "{'id': 33, 'distance': 0.33286672830581665, 'entity': {'reviews': 'Happy with the purchase.', 'product_name': 'BadProductD'}}\n",
      "{'id': 20, 'distance': 0.32822883129119873, 'entity': {'reviews': 'Satisfied.', 'product_name': 'GoodProductB'}}\n",
      "\n",
      "\n"
     ]
    }
   ],
   "source": [
    "# Load data into collection\n",
    "client.load_collection(collection_name) # Collection name\n",
    "\n",
    "# Search without `group_by_field`\n",
    "res = client.search(\n",
    "    ann=\"embeddings\",\n",
    "    collection_name=collection_name, # Collection name\n",
    "    data=[question_vector], # Replace with your query vector\n",
    "    search_params={\n",
    "    \"metric_type\": \"COSINE\",\n",
    "    \"params\": {},\n",
    "    }, # Search parameters\n",
    "    limit=10, # Max. number of search results to return\n",
    "    #group_by_field=\"product_id\", # Group results by document ID\n",
    "    output_fields=[\"reviews\",\"product_name\"]\n",
    ")\n",
    "\n",
    "# Retrieve the values in the `doc_id` column\n",
    "product_ids = [result['entity'] for result in res[0]]\n",
    "\n",
    "print(\"\\n\")\n",
    "for group in res:\n",
    "    print(\"\\nResults:\")\n",
    "    for hit in group:\n",
    "        product_name = hit.get(\"entity\", {}).get(\"product_name\", \"Unknown Product\")\n",
    "        review = hit.get(\"entity\", {}).get(\"review\", \"No review available\")\n",
    "        distance = hit.get(\"distance\", \"N/A\")\n",
    "        print(hit)\n",
    "    print(\"\\n\")"
   ]
  },
  {
   "cell_type": "markdown",
   "id": "7b3d8498-c56e-4d7e-9c7d-cdc3d11dde24",
   "metadata": {},
   "source": [
    "We can see there us repetation/redundancy in the products. 'GoodProductB' occurs 4 times out of top 10 results, making that the most relevant product to the query text."
   ]
  },
  {
   "cell_type": "markdown",
   "id": "4b4ac642-c6cc-41e1-921c-b3b091992a59",
   "metadata": {},
   "source": [
    "## With grouping search"
   ]
  },
  {
   "cell_type": "code",
   "execution_count": 21,
   "id": "6bd5005c-daf4-40b2-8ebf-e9250fce51e0",
   "metadata": {},
   "outputs": [
    {
     "name": "stdout",
     "output_type": "stream",
     "text": [
      "\n",
      "Group:\n",
      "{'id': 12, 'distance': 0.4272212088108063, 'entity': {'reviews': 'Quite satisfied.', 'product_id': 2, 'product_name': 'GoodProductB'}}\n",
      "{'id': 6, 'distance': 0.37505069375038147, 'entity': {'reviews': 'Very satisfied!', 'product_id': 1, 'product_name': 'BestProductA'}}\n",
      "{'id': 30, 'distance': 0.33884724974632263, 'entity': {'reviews': 'Not impressed.', 'product_id': 3, 'product_name': 'AverageProductC'}}\n",
      "{'id': 40, 'distance': 0.33581191301345825, 'entity': {'reviews': 'Good product.', 'product_id': 4, 'product_name': 'BadProductD'}}\n",
      "{'id': 44, 'distance': 0.27378007769584656, 'entity': {'reviews': 'Awful quality!', 'product_id': 5, 'product_name': 'WorstProductE'}}\n",
      "\n",
      "\n"
     ]
    }
   ],
   "source": [
    "# Load data into collection\n",
    "client.load_collection(collection_name) # Collection name\n",
    "\n",
    "# Search without `group_by_field`\n",
    "res = client.search(\n",
    "    collection_name=collection_name, # Collection name\n",
    "    data=[question_vector], # Replace with your query vector\n",
    "    search_params={\n",
    "    \"metric_type\": \"COSINE\",\n",
    "    \"params\": {\"nprobe\": 10},\n",
    "    }, # Search parameters\n",
    "    limit=10, # Max. number of search results to return\n",
    "    group_by_field=\"product_id\", # Group results by document ID\n",
    "    output_fields=[\"product_name\",\"reviews\",\"product_id\"]\n",
    ")\n",
    "\n",
    "# Retrieve the values in the `doc_id` column\n",
    "product_ids = [result['entity']['product_name'] for result in res[0]]\n",
    "\n",
    "for group in res:\n",
    "    print(\"\\nGroup:\")\n",
    "    for hit in group:\n",
    "        product_name = hit.get(\"entity\", {}).get(\"product_name\", \"Unknown Product\")\n",
    "        review = hit.get(\"entity\", {}).get(\"review\", \"No review available\")\n",
    "        distance = hit.get(\"distance\", \"N/A\")\n",
    "        print(hit)\n",
    "print(\"\\n\")"
   ]
  },
  {
   "cell_type": "markdown",
   "id": "8d9f5c94-bf0b-49fd-a546-832565e2246c",
   "metadata": {},
   "source": [
    "As expected, 'GoodProductB' is on top of the result list making it most relevant and there are no repetation in search results."
   ]
  },
  {
   "cell_type": "markdown",
   "id": "d8061a2a-8ba9-459a-95f2-e0b1547b00ee",
   "metadata": {},
   "source": [
    "Here similarity search is happening on a different field (the vector field) while the search results are grouped by productId field and returning product names as output that are relevant to the search query."
   ]
  }
 ],
 "metadata": {
  "kernelspec": {
   "display_name": "Python 3",
   "language": "python",
   "name": "python3"
  },
  "language_info": {
   "codemirror_mode": {
    "name": "ipython",
    "version": 3
   },
   "file_extension": ".py",
   "mimetype": "text/x-python",
   "name": "python",
   "nbconvert_exporter": "python",
   "pygments_lexer": "ipython3",
   "version": "3.11.9"
  }
 },
 "nbformat": 4,
 "nbformat_minor": 5
}
