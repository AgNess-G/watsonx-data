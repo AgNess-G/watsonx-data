{
 "cells": [
  {
   "cell_type": "markdown",
   "id": "045d963f-ee7e-4a81-abdb-8b77135f6d42",
   "metadata": {},
   "source": [
    "# Full-Text Search Implementation with Milvus\n",
    "# Introduction\n",
    "\n",
    "This notebook demonstrates how to implement full-text search using Milvus, a powerful vector database.\n",
    "\n",
    "**Full text search** simplifies the process of text-based searching by eliminating the need for manual embedding generation. This feature operates through the following workflow:\n",
    "\n",
    "**Text input**: You insert raw text documents or provide query text without needing to manually embed them.\n",
    "\n",
    "**Text analysis**: Milvus uses an analyzer to tokenize the input text into individual, searchable terms.\n",
    "\n",
    "**Function processing**: The built-in function receives tokenized terms and converts them into sparse vector representations.\n",
    "\n",
    "**Collection store**: Milvus stores these sparse embeddings in a collection for efficient retrieval.\n",
    "\n",
    "**BM25 scoring**: During a search, Milvus applies the BM25 algorithm to calculate scores for the stored documents and ranks matched results based on their relevance to the query text.\n",
    "\n",
    "Key components we'll cover:\n",
    "1. Setting up Milvus connection and schema\n",
    "2. Creating and inserting sample documents\n",
    "3. Implementing search functionality\n",
    "4. Demonstrating search with example queries\n",
    "\n"
   ]
  },
  {
   "cell_type": "markdown",
   "id": "ab84a261-76e2-42c2-baba-c7f879f8adec",
   "metadata": {},
   "source": [
    "# Section 1: Import Dependencies\n",
    "\n",
    "First, we'll import all necessary libraries:\n",
    "- pymilvus: For interacting with the Milvus database\n",
    "- sentence_transformers: For text embeddings (though we'll focus on BM25 in this example)\n",
    "- logging: For proper error tracking\n",
    "- pandas: For organizing and displaying results\n"
   ]
  },
  {
   "cell_type": "code",
   "execution_count": 1,
   "id": "ee94ed1c-690e-4b48-9210-cdf0a31bfd1e",
   "metadata": {},
   "outputs": [],
   "source": [
    "from pymilvus import MilvusClient, DataType, Function, FunctionType\n",
    "from sentence_transformers import SentenceTransformer\n",
    "import logging\n",
    "import pandas as pd"
   ]
  },
  {
   "cell_type": "code",
   "execution_count": 2,
   "id": "91b312b9-b0ed-40ff-b540-d901c6369fef",
   "metadata": {},
   "outputs": [],
   "source": [
    "# Set up logging configuration\n",
    "logging.basicConfig(level=logging.INFO)\n",
    "logger = logging.getLogger(__name__)\n"
   ]
  },
  {
   "cell_type": "markdown",
   "id": "5b57b198-03b4-47a6-8d75-4de08541dcfb",
   "metadata": {},
   "source": [
    "# Section 2: Initialize Connections\n",
    "\n",
    "Here we initialize our connection to Milvus and set up the embedding model.\n",
    "Note: Replace the connection parameters with your actual Milvus server details.\n"
   ]
  },
  {
   "cell_type": "code",
   "execution_count": 3,
   "id": "b3f69714-9ab8-423b-8f8b-5e1125fea6c7",
   "metadata": {},
   "outputs": [],
   "source": [
    "# Initialize Milvus client\n",
    "client = MilvusClient(\n",
    "    uri = \"http://<host>:<port>\",  # Construct URI from host and port\n",
    "    user = \"<user>\",\n",
    "    password = \"<password>\",\n",
    "    secure=True,\n",
    "    server_pem_path='<path_of_cert>',\n",
    "    server_name='<servername>',\n",
    ")"
   ]
  },
  {
   "cell_type": "markdown",
   "id": "65c428d6-5882-481e-8c0d-dc6aa66f1a49",
   "metadata": {},
   "source": [
    "# Section 3: Sample Data\n",
    "\n",
    "For demonstration purposes, we'll create a set of sample documents related to\n",
    "machine learning and NLP. In a real application, you would replace these with\n",
    "your actual documents.\n"
   ]
  },
  {
   "cell_type": "code",
   "execution_count": 4,
   "id": "f0d501f2-1ee2-4acf-8efe-411155378264",
   "metadata": {},
   "outputs": [],
   "source": [
    "\n",
    "sample_documents = [\n",
    "    \"Document 1: Introduction to Natural Language Processing and its applications\",\n",
    "    \"Document 2: Machine Learning algorithms for text classification\",\n",
    "    \"Document 3: Deep Learning approaches in NLP\",\n",
    "    \"Document 4: Understanding word embeddings and their importance\",\n",
    "    \"Document 5: Text preprocessing techniques in NLP\",\n",
    "    \"Document 6: Vector databases and their role in modern search systems\",\n",
    "    \"Document 7: Semantic search implementations using deep learning\",\n",
    "    \"Document 8: BM25 algorithm explained in detail\",\n",
    "    \"Document 9: Comparing different text similarity metrics\",\n",
    "    \"Document 10: Best practices for implementing full-text search\"\n",
    "]\n"
   ]
  },
  {
   "cell_type": "markdown",
   "id": "aef07b01-0f69-4bf2-9ddc-889791e7fbad",
   "metadata": {},
   "source": [
    "# Section 4: Schema Definition\n",
    "\n",
    "To enable full text search, create a collection with a specific schema. This schema must include three necessary fields:\n",
    "\n",
    "The primary field that uniquely identifies each entity in a collection.\n",
    "- id: A unique identifier for each document\n",
    "\n",
    "A VARCHAR field that stores raw text documents, with the enable_analyzer attribute set to True. This allows Milvus to tokenize text into specific terms for function processing.\n",
    "- text: The actual document content\n",
    "\n",
    "A SPARSE_FLOAT_VECTOR field reserved to store sparse embeddings that Milvus will automatically generate for the VARCHAR field.\n",
    "- sparse: The BM25 vector representation of the text\n"
   ]
  },
  {
   "cell_type": "code",
   "execution_count": 5,
   "id": "a46bac49-7b9e-447f-bde9-09ee03b562e9",
   "metadata": {},
   "outputs": [],
   "source": [
    "def create_schema(collection_name):\n",
    "    schema = client.create_schema()\n",
    "    schema.add_field(field_name=\"id\", datatype=DataType.INT64, is_primary=True, auto_id=True)\n",
    "    schema.add_field(field_name=\"text\", datatype=DataType.VARCHAR, max_length=1000, enable_analyzer=True)\n",
    "    schema.add_field(field_name=\"sparse\", datatype=DataType.SPARSE_FLOAT_VECTOR)\n",
    "    \n",
    "    # Add BM25 function for text search that will convert your text into sparse vector representations and then add it to the schema:\n",
    "    bm25_function = Function(\n",
    "        name=\"text_bm25_emb\",\n",
    "        input_field_names=[\"text\"],\n",
    "        output_field_names=[\"sparse\"],\n",
    "        function_type=FunctionType.BM25,\n",
    "    )\n",
    "    schema.add_function(bm25_function)\n",
    "    return schema"
   ]
  },
  {
   "cell_type": "markdown",
   "id": "32f88214-de8b-40e5-a686-5c40481e4808",
   "metadata": {},
   "source": [
    "# Section 5: Index Configuration\n",
    "\n",
    "The index parameters define how Milvus will index our data for efficient search.\n",
    "Here we set up a sparse inverted index optimized for BM25 search.\n"
   ]
  },
  {
   "cell_type": "code",
   "execution_count": 6,
   "id": "fb1cf691-b57a-461b-a170-a984b09c3171",
   "metadata": {},
   "outputs": [],
   "source": [
    "\n",
    "def create_index_params():\n",
    "    index_params = client.prepare_index_params()\n",
    "    index_params.add_index(\n",
    "        field_name=\"sparse\",\n",
    "        index_type=\"SPARSE_INVERTED_INDEX\", \n",
    "        metric_type=\"BM25\"\n",
    "    )\n",
    "    return index_params\n"
   ]
  },
  {
   "cell_type": "markdown",
   "id": "01116660-85c0-4fa7-b7ff-7e07201f6fbe",
   "metadata": {},
   "source": [
    "# Section 6: Collection Setup\n",
    "\n",
    "This section handles the creation of the collection and data insertion.\n",
    "It includes error handling and checks for existing collections.\n"
   ]
  },
  {
   "cell_type": "code",
   "execution_count": 7,
   "id": "385de457-e077-4470-9eb8-c82cacee94af",
   "metadata": {},
   "outputs": [],
   "source": [
    "def setup_collection(collection_name, documents):\n",
    "   \n",
    "    try:\n",
    "        # Check if collection exists and drop it\n",
    "        if collection_name in client.list_collections():\n",
    "            print(f\"Dropping existing collection: {collection_name}\")\n",
    "            client.drop_collection(collection_name)\n",
    "        \n",
    "        # Create new collection\n",
    "        schema = create_schema(collection_name)\n",
    "        index_params = create_index_params()\n",
    "        \n",
    "        client.create_collection(\n",
    "            collection_name=collection_name,\n",
    "            schema=schema,\n",
    "            index_params=index_params\n",
    "        )\n",
    "        \n",
    "        # Prepare and insert data\n",
    "        documents_to_insert = [{'text': doc} for doc in documents]\n",
    "        client.insert(collection_name, documents_to_insert)\n",
    "        \n",
    "    except Exception as e:\n",
    "        print(f\"Error setting up collection: {str(e)}\")\n",
    "        raise\n",
    "\n"
   ]
  },
  {
   "cell_type": "code",
   "execution_count": 8,
   "id": "fb6ca0f4-2155-4a50-8772-3c8904bef0f1",
   "metadata": {},
   "outputs": [],
   "source": [
    "def perform_search(collection_name, query_text, top_k=3):\n",
    "    try:\n",
    "        search_params = {\n",
    "            \"params\": {\n",
    "                \"drop_ratio_search\": 0.2,\n",
    "                \"nprobe\": 10\n",
    "            }\n",
    "        }\n",
    "        \n",
    "        results = client.search(\n",
    "            collection_name=collection_name,\n",
    "            data=[query_text],\n",
    "            anns_field=\"sparse\",\n",
    "            limit=top_k,\n",
    "            output_fields=[\"text\"],\n",
    "            search_params=search_params,\n",
    "        )\n",
    "        \n",
    "        # Process and deduplicate results\n",
    "        if results and len(results) > 0:\n",
    "            seen_texts = set()\n",
    "            deduplicated_results = []\n",
    "            \n",
    "            for hit in results[0]:\n",
    "                text = hit.get(\"entity\", {}).get(\"text\", \"\")\n",
    "                if text not in seen_texts:\n",
    "                    seen_texts.add(text)\n",
    "                    deduplicated_results.append({\n",
    "                        'text': text,\n",
    "                        'distance': hit.get('distance', 0.0)\n",
    "                    })\n",
    "            \n",
    "            return pd.DataFrame(deduplicated_results)\n",
    "        return pd.DataFrame(columns=['text', 'distance'])\n",
    "    \n",
    "    except Exception as e:\n",
    "        print(f\"Search error: {str(e)}\")\n",
    "        raise\n"
   ]
  },
  {
   "cell_type": "markdown",
   "id": "eb5da0b5-f93b-4821-a9d7-418586a848b2",
   "metadata": {},
   "source": [
    "## Now let's demonstrate the search functionality with example queries.\n",
    "We'll create a collection, insert our sample documents, and run various searches."
   ]
  },
  {
   "cell_type": "code",
   "execution_count": 10,
   "id": "4770255a-21e6-4b04-a6a7-5a583541e46d",
   "metadata": {},
   "outputs": [
    {
     "name": "stdout",
     "output_type": "stream",
     "text": [
      "Dropping existing collection: demo_search\n",
      "\n",
      "Performing Example Searches\n",
      "==================================================\n",
      "\n",
      "Query: What is natural language processing ?\n",
      "--------------------------------------------------\n",
      "                                                                        text  distance\n",
      "Document 1: Introduction to Natural Language Processing and its applications  5.484756\n",
      "\n",
      "Query: What are search algorithms?\n",
      "--------------------------------------------------\n",
      "                                                           text  distance\n",
      "Document 2: Machine Learning algorithms for text classification  2.012511\n",
      "Document 7: Semantic search implementations using deep learning  1.156673\n",
      "  Document 10: Best practices for implementing full-text search  1.101183\n",
      "\n",
      "Query: Tell me about deep learning.\n",
      "--------------------------------------------------\n",
      "                                                           text  distance\n",
      "                    Document 3: Deep Learning approaches in NLP  2.794006\n",
      "Document 7: Semantic search implementations using deep learning  2.653210\n",
      "Document 2: Machine Learning algorithms for text classification  1.156673\n",
      "\n",
      "Query: What is text preprocessing? \n",
      "--------------------------------------------------\n",
      "                                                           text  distance\n",
      "               Document 5: Text preprocessing techniques in NLP  3.070042\n",
      "        Document 9: Comparing different text similarity metrics  0.950736\n",
      "Document 2: Machine Learning algorithms for text classification  0.902826\n"
     ]
    }
   ],
   "source": [
    "# Create and populate collection\n",
    "collection_name = \"demo_search\"\n",
    "setup_collection(collection_name, sample_documents)\n",
    "\n",
    "# Example queries to demonstrate different search scenarios\n",
    "print(\"\\nPerforming Example Searches\")\n",
    "print(\"=\" * 50)\n",
    "\n",
    "queries = [\n",
    "    \"What is natural language processing ?\",\n",
    "    \"What are search algorithms?\",\n",
    "    \"Tell me about deep learning.\",\n",
    "    \"What is text preprocessing? \"\n",
    "]\n",
    "\n",
    "# Display results for each query\n",
    "for query in queries:\n",
    "    print(f\"\\nQuery: {query}\")\n",
    "    print(\"-\" * 50)\n",
    "    \n",
    "    results_df = perform_search(collection_name, query, top_k=3)\n",
    "    \n",
    "    if not results_df.empty:\n",
    "        print(results_df.to_string(index=False))\n",
    "    else:\n",
    "        print(\"No results found.\")"
   ]
  },
  {
   "cell_type": "markdown",
   "id": "e8ea66be-001f-4925-bdcb-b90dea5b3a65",
   "metadata": {},
   "source": [
    "## Conclusion\n",
    "Full-text search is efficient for keyword-based retrieval and simplifies the search process by automating data preprocessing. Unlike vector-based approaches, it allows you to directly pass raw text without manually tokenizing or generating embeddings. This makes it a fast, scalable, and easy-to-use solution for applications requiring structured text search, phrase matching, and relevance ranking."
   ]
  },
  {
   "cell_type": "code",
   "execution_count": null,
   "id": "ed01c003-39f8-4860-9dd3-e0a15451ba4e",
   "metadata": {},
   "outputs": [],
   "source": []
  }
 ],
 "metadata": {
  "kernelspec": {
   "display_name": "Python 3 (ipykernel)",
   "language": "python",
   "name": "python3"
  },
  "language_info": {
   "codemirror_mode": {
    "name": "ipython",
    "version": 3
   },
   "file_extension": ".py",
   "mimetype": "text/x-python",
   "name": "python",
   "nbconvert_exporter": "python",
   "pygments_lexer": "ipython3",
   "version": "3.9.21"
  }
 },
 "nbformat": 4,
 "nbformat_minor": 5
}
