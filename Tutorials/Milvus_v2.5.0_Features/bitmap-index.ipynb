{
 "cells": [
  {
   "cell_type": "markdown",
   "metadata": {},
   "source": [
    "# MILVUS Demo - BitMap Index"
   ]
  },
  {
   "cell_type": "markdown",
   "metadata": {},
   "source": [
    "## BitMap Indexing for scalar filtering with Milvus in watsonx.data\n",
    "### Overview\n",
    "This notebook demonsrates how to implement and use BitMap Inexing for querying in Milvus. For the scenario we have created a dataset of Companies(Id, Name, Category, Public, Description). \n",
    "\n",
    "Some familiarity with Python programming, search algorithms, and basic machine learning concepts is recommended. The code runs with Python 3.9 or later.\n",
    "\n",
    "### Learning goal\n",
    "This notebook demonstrates similarity search support in watsonx.data using hybrid approach using dense embeddings and sparse embeddings, introducing commands for:\n",
    "- Connecting to Milvus\n",
    "- Creating collections\n",
    "- Creating indexes\n",
    "- Generate Embeddings\n",
    "- Ingesting data\n",
    "- Data retrieval\n",
    "\n",
    "### About Milvus \n",
    "\n",
    "Milvus is an open-source vector database designed specifically for scalable similarity search and AI applications. It's a powerful platform that enables efficient storage, indexing, and retrieval of vector embeddings, which are crucial in modern machine learning and artificial intelligence tasks.[ To know more, visit Milvus Documentation](https://www.ibm.com/docs/en/watsonx/watsonxdata/2.1.x?topic=components-milvus)\n",
    "\n",
    "### Milvus: Three Fundamental Steps\n",
    "\n",
    "#### 1. Data Preparation\n",
    "Collect and convert your data into high-dimensional vector embeddings. These vectors are typically generated using machine learning models like neural networks, which transform text, images, audio, or other data types into dense numerical representations that capture semantic meaning and relationships.\n",
    "\n",
    "#### 2. Vector Insertion\n",
    "Load the dense vector embeddings and sparse vector embeddings into Milvus collections or partitions within a database. Milvus creates indexes to optimize subsequent search operations, supporting various indexing algorithms like IVF-FLAT, HNSW, etc., based on the definition.\n",
    "\n",
    "#### 3. Similarity Search\n",
    "Perform vector similarity searches by providing a query vector and a filter. Milvus will rapidly return the most similar vectors from the collection or partitions based on the defined metrics like cosine similarity, Euclidean distance, or inner product and the filter.\n",
    "\n",
    "### Why BitMap Index\n",
    "BitMap Index creates an index on a scalar field and this can be used to filter out outputs for query thus reducing retrieval time. For more details on BitMap Indexing, please find [link](https://milvus.io/docs/bitmap.md). \n",
    "\n",
    "It can be used along side a query or on its own for filtering the data.\n",
    "\n",
    "### Usecase\n",
    "\n",
    "The Dataset contains details like name, whether its public, description of what the company does and the category it falls into of 30 companies. We will try to extract Tech companies that are Public and are working with AI. We will also try filtering out Tech companies that are public from the dataset.\n",
    "\n",
    "### Key Workflow\n",
    "\n",
    "1. **Definition** (once)\n",
    "2. **Ingestion** (once)\n",
    "3. **Retrieve relevant passage(s)** (for every user query)\n",
    "\n",
    "## Contents\n",
    "\n",
    "- Environment Setup\n",
    "- Install packages\n",
    "- Document data loading\n",
    "- Create connection\n",
    "- Ingest data\n",
    "- Retrieve relevant data\n",
    "\n",
    "## Environment Setup\n",
    "\n",
    "Before using the sample code in this notebook, complete the following setup tasks:\n",
    "\n",
    "- Create a Watsonx.data instance (a free plan is offered)\n",
    "  - Information about creating a watsonx.data instance can be found [here](https://www.ibm.com/docs/en/watsonx/watsonxdata/2.0.x)\n"
   ]
  },
  {
   "cell_type": "markdown",
   "metadata": {},
   "source": [
    "## Install required packages"
   ]
  },
  {
   "cell_type": "code",
   "execution_count": 1,
   "metadata": {},
   "outputs": [
    {
     "name": "stdout",
     "output_type": "stream",
     "text": [
      "Requirement already satisfied: pandas in /usr/local/lib64/python3.9/site-packages (2.2.3)\n",
      "Requirement already satisfied: numpy>=1.22.4 in /usr/local/lib64/python3.9/site-packages (from pandas) (1.26.4)\n",
      "Requirement already satisfied: python-dateutil>=2.8.2 in /usr/local/lib/python3.9/site-packages (from pandas) (2.9.0.post0)\n",
      "Requirement already satisfied: tzdata>=2022.7 in /usr/local/lib/python3.9/site-packages (from pandas) (2024.2)\n",
      "Requirement already satisfied: pytz>=2020.1 in /usr/local/lib/python3.9/site-packages (from pandas) (2024.2)\n",
      "Requirement already satisfied: six>=1.5 in /usr/lib/python3.9/site-packages (from python-dateutil>=2.8.2->pandas) (1.15.0)\n",
      "\u001b[33mWARNING: Running pip as the 'root' user can result in broken permissions and conflicting behaviour with the system package manager. It is recommended to use a virtual environment instead: https://pip.pypa.io/warnings/venv\u001b[0m\n",
      "\u001b[33mWARNING: You are using pip version 21.3.1; however, version 25.0 is available.\n",
      "You should consider upgrading via the '/usr/bin/python -m pip install --upgrade pip' command.\u001b[0m\n",
      "Note: you may need to restart the kernel to use updated packages.\n"
     ]
    }
   ],
   "source": [
    "%pip install pandas"
   ]
  },
  {
   "cell_type": "markdown",
   "metadata": {},
   "source": [
    "### Install Pymilvus SDK"
   ]
  },
  {
   "cell_type": "code",
   "execution_count": 2,
   "metadata": {},
   "outputs": [
    {
     "name": "stdout",
     "output_type": "stream",
     "text": [
      "Name: pymilvus\n",
      "Version: 2.5.4\n",
      "Summary: Python Sdk for Milvus\n",
      "Home-page: \n",
      "Author: \n",
      "Author-email: Milvus Team <milvus-team@zilliz.com>\n",
      "License: \n",
      "Location: /usr/local/lib/python3.9/site-packages\n",
      "Requires: grpcio, milvus-lite, pandas, protobuf, python-dotenv, setuptools, ujson\n",
      "Required-by: \n",
      "Note: you may need to restart the kernel to use updated packages.\n"
     ]
    }
   ],
   "source": [
    "# %pip install pymilvus\n",
    "# Restart Kernal\n",
    "%pip show pymilvus"
   ]
  },
  {
   "cell_type": "markdown",
   "metadata": {},
   "source": [
    "## Data Preparation"
   ]
  },
  {
   "cell_type": "code",
   "execution_count": 3,
   "metadata": {},
   "outputs": [
    {
     "name": "stdout",
     "output_type": "stream",
     "text": [
      "    id name       category  public  \\\n",
      "1    1  ABC           Tech    True   \n",
      "2    2  DEF           News   False   \n",
      "3    3  GHI           Tech   False   \n",
      "4    4  JKL        Finance    True   \n",
      "5    5  MNO        Finance   False   \n",
      "6    6  PQR     Healthcare    True   \n",
      "7    7  STU      Education   False   \n",
      "8    8  VWX           Tech    True   \n",
      "9    9  YZA  Entertainment   False   \n",
      "10  10  BCD         Retail    True   \n",
      "\n",
      "                                          description  \n",
      "1             AI research and deployment organization  \n",
      "2                Global news and information services  \n",
      "3   Leading provider of search and cloud technologies  \n",
      "4           Financial services and investment banking  \n",
      "5                   Simplified stock trading platform  \n",
      "6   Global pharmaceutical and biotechnology corpor...  \n",
      "7       Free online courses and educational resources  \n",
      "8        Electric vehicles and clean energy solutions  \n",
      "9               Subscription-based streaming platform  \n",
      "10               E-commerce and cloud computing giant  \n"
     ]
    }
   ],
   "source": [
    "import pandas as pd\n",
    "\n",
    "# Define the data as a dictionary\n",
    "data = {\n",
    "    1: (1, \"ABC\", \"Tech\", True, \"AI research and deployment organization\"),\n",
    "    2: (2, \"DEF\", \"News\", False, \"Global news and information services\"),\n",
    "    3: (3, \"GHI\", \"Tech\", False, \"Leading provider of search and cloud technologies\"),\n",
    "    4: (4, \"JKL\", \"Finance\", True, \"Financial services and investment banking\"),\n",
    "    5: (5, \"MNO\", \"Finance\", False, \"Simplified stock trading platform\"),\n",
    "    6: (6, \"PQR\", \"Healthcare\", True, \"Global pharmaceutical and biotechnology corporation\"),\n",
    "    7: (7, \"STU\", \"Education\", False, \"Free online courses and educational resources\"),\n",
    "    8: (8, \"VWX\", \"Tech\", True, \"Electric vehicles and clean energy solutions\"),\n",
    "    9: (9, \"YZA\", \"Entertainment\", False, \"Subscription-based streaming platform\"),\n",
    "    10: (10, \"BCD\", \"Retail\", True, \"E-commerce and cloud computing giant\"),\n",
    "    11: (11, \"EFG\", \"Tech\", True, \"Software development and cloud services\"),\n",
    "    12: (12, \"HIJ\", \"News\", True, \"British broadcaster providing global news\"),\n",
    "    13: (13, \"KLM\", \"Tech\", True, \"Consumer electronics and software development\"),\n",
    "    14: (14, \"NOP\", \"Finance\", True, \"Investment banking and financial services\"),\n",
    "    15: (15, \"QRS\", \"Aerospace\", True, \"Private space exploration company\"),\n",
    "    16: (16, \"TUV\", \"News\", False, \"Cable news network offering global coverage\"),\n",
    "    17: (17, \"WXY\", \"Education\", True, \"Online courses from top universities\"),\n",
    "    18: (18, \"ZAB\", \"Entertainment\", True, \"Media and entertainment conglomerate\"),\n",
    "    19: (19, \"CDE\", \"Retail\", True, \"Sports apparel and equipment brand\"),\n",
    "    20: (20, \"FGH\", \"Tech\", False, \"Video conferencing and online communication tools\"),\n",
    "    21: (21, \"IJK\", \"Automotive\", True, \"Automobile manufacturing company\"),\n",
    "    22: (22, \"LMN\", \"Hospitality\", False, \"Short-term rentals and vacation homes platform\"),\n",
    "    23: (23, \"OPQ\", \"Tech\", True, \"Social media and virtual reality technologies\"),\n",
    "    24: (24, \"RST\", \"News\", True, \"Daily newspaper with global reach\"),\n",
    "    25: (25, \"UVW\", \"Retail\", True, \"E-commerce and online retail platform\"),\n",
    "    26: (26, \"XYZ\", \"Healthcare\", True, \"Healthcare products and pharmaceuticals\"),\n",
    "    27: (27, \"ABC1\", \"Education\", False, \"Ivy League university offering various programs\"),\n",
    "    28: (28, \"DEF1\", \"Entertainment\", True, \"Electronics and entertainment solutions\"),\n",
    "    29: (29, \"GHI1\", \"Tech\", True, \"Professional networking platform\"),\n",
    "    30: (30, \"JKL1\", \"Transportation\", False, \"Ride-hailing and delivery services\"),\n",
    "}\n",
    "\n",
    "# Convert the dictionary into a DataFrame\n",
    "df = pd.DataFrame.from_dict(\n",
    "    data,\n",
    "    orient=\"index\",\n",
    "    columns=[\"id\", \"name\", \"category\", \"public\", \"description\"],\n",
    ")\n",
    "\n",
    "# Print the DataFrame\n",
    "print(df.head(10))"
   ]
  },
  {
   "cell_type": "markdown",
   "metadata": {},
   "source": [
    "## Connect to Milvus"
   ]
  },
  {
   "cell_type": "code",
   "execution_count": 4,
   "metadata": {},
   "outputs": [],
   "source": [
    "from pymilvus import connections, utility\n",
    "\n",
    "# Replace Placeholder Values <> with respective provisioned Milvus Values .\n",
    "\"\"\"# On Prem\n",
    "connections.connect(\n",
    "            alias='default',\n",
    "            host=\"<>\",\n",
    "            port=443,\n",
    "            secure=True,\n",
    "            server_pem_path=\"\",\n",
    "            server_name=\"<>\",\n",
    "            user=\"<>\",\n",
    "            password=\"<>\")\n",
    "# SaaS\n",
    "connections.connect(\n",
    "            alias='default',\n",
    "            host=\"<>\",\n",
    "            port=\"<>\",\n",
    "            secure=True,\n",
    "            user=\"<>\",\n",
    "            password=\"<>\")\"\"\""
   ]
  },
  {
   "cell_type": "code",
   "execution_count": 5,
   "metadata": {},
   "outputs": [],
   "source": [
    "COLLECTION_NAME = \"Milvus_test_bitmap\"\n",
    "DIMENSION = 384"
   ]
  },
  {
   "cell_type": "code",
   "execution_count": 6,
   "metadata": {},
   "outputs": [],
   "source": [
    "if utility.has_collection(collection_name=COLLECTION_NAME):\n",
    "    utility.drop_collection(collection_name=COLLECTION_NAME)"
   ]
  },
  {
   "cell_type": "code",
   "execution_count": 7,
   "metadata": {},
   "outputs": [
    {
     "data": {
      "text/plain": [
       "False"
      ]
     },
     "execution_count": 7,
     "metadata": {},
     "output_type": "execute_result"
    }
   ],
   "source": [
    "utility.has_collection(collection_name=COLLECTION_NAME)"
   ]
  },
  {
   "cell_type": "markdown",
   "metadata": {},
   "source": [
    "## Create Milvus Schema\n",
    "[more about schema](https://www.ibm.com/docs/en/watsonx/watsonxdata/2.1.x?topic=milvus-connecting-service#taskconctmilvus__postreq__1)"
   ]
  },
  {
   "cell_type": "code",
   "execution_count": 8,
   "metadata": {},
   "outputs": [],
   "source": [
    "from pymilvus import DataType, FieldSchema, CollectionSchema, Collection\n",
    "\n",
    "# Create schema\n",
    "# Define the collection schema\n",
    "fields = [\n",
    "    FieldSchema(name=\"id\", dtype=DataType.INT64, is_primary=True),\n",
    "    FieldSchema(name=\"name\", dtype=DataType.VARCHAR, max_length=20),  # Scalar field\n",
    "    FieldSchema(name=\"category\", dtype=DataType.VARCHAR, max_length=20),  # Scalar field\n",
    "    FieldSchema(name=\"public\", dtype=DataType.BOOL),  # Scalar field\n",
    "    FieldSchema(name=\"description\", dtype=DataType.VARCHAR, max_length=500),  # Scalar field\n",
    "    FieldSchema(name=\"description_embedding\", dtype=DataType.FLOAT_VECTOR, max_length=500, dim=DIMENSION),  # Vector field\n",
    "]\n",
    "\n",
    "schema = CollectionSchema(fields=fields)\n",
    "collection = Collection(name=COLLECTION_NAME, schema=schema)"
   ]
  },
  {
   "cell_type": "markdown",
   "metadata": {},
   "source": [
    "## Create Bitmap Index\n",
    "[more on indexes](https://www.ibm.com/docs/en/watsonx/watsonxdata/2.1.x?topic=milvus-connecting-service#taskconctmilvus__postreq__1)"
   ]
  },
  {
   "cell_type": "code",
   "execution_count": 9,
   "metadata": {},
   "outputs": [
    {
     "data": {
      "text/plain": [
       "Status(code=0, message=)"
      ]
     },
     "execution_count": 9,
     "metadata": {},
     "output_type": "execute_result"
    }
   ],
   "source": [
    "# Create index parameters\n",
    "index_params= {\n",
    "    \"index_type\": \"BITMAP\", # Type of index to be created\n",
    "}\n",
    "collection.create_index(field_name=\"category\", index_params=index_params)\n",
    "\n",
    "index_params={\n",
    "    \"index_type\": \"IVF_SQ8\",\n",
    "    \"metric_type\": \"L2\",\n",
    "    \"params\": {\"nlist\": 128}\n",
    "}\n",
    "collection.create_index(field_name=\"description_embedding\", index_params=index_params)"
   ]
  },
  {
   "cell_type": "markdown",
   "metadata": {},
   "source": [
    "## Generate Embedding for description field"
   ]
  },
  {
   "cell_type": "code",
   "execution_count": 10,
   "metadata": {},
   "outputs": [
    {
     "name": "stderr",
     "output_type": "stream",
     "text": [
      "/usr/local/lib/python3.9/site-packages/tqdm/auto.py:21: TqdmWarning: IProgress not found. Please update jupyter and ipywidgets. See https://ipywidgets.readthedocs.io/en/stable/user_install.html\n",
      "  from .autonotebook import tqdm as notebook_tqdm\n"
     ]
    }
   ],
   "source": [
    "from sentence_transformers import SentenceTransformer\n",
    "\n",
    "model = SentenceTransformer('all-MiniLM-L6-v2')"
   ]
  },
  {
   "cell_type": "code",
   "execution_count": 11,
   "metadata": {},
   "outputs": [
    {
     "data": {
      "text/html": [
       "<div>\n",
       "<style scoped>\n",
       "    .dataframe tbody tr th:only-of-type {\n",
       "        vertical-align: middle;\n",
       "    }\n",
       "\n",
       "    .dataframe tbody tr th {\n",
       "        vertical-align: top;\n",
       "    }\n",
       "\n",
       "    .dataframe thead th {\n",
       "        text-align: right;\n",
       "    }\n",
       "</style>\n",
       "<table border=\"1\" class=\"dataframe\">\n",
       "  <thead>\n",
       "    <tr style=\"text-align: right;\">\n",
       "      <th></th>\n",
       "      <th>id</th>\n",
       "      <th>name</th>\n",
       "      <th>category</th>\n",
       "      <th>public</th>\n",
       "      <th>description</th>\n",
       "      <th>description_embedding</th>\n",
       "    </tr>\n",
       "  </thead>\n",
       "  <tbody>\n",
       "    <tr>\n",
       "      <th>1</th>\n",
       "      <td>1</td>\n",
       "      <td>ABC</td>\n",
       "      <td>Tech</td>\n",
       "      <td>True</td>\n",
       "      <td>AI research and deployment organization</td>\n",
       "      <td>[-0.0011728338431566954, -0.06667085736989975,...</td>\n",
       "    </tr>\n",
       "    <tr>\n",
       "      <th>2</th>\n",
       "      <td>2</td>\n",
       "      <td>DEF</td>\n",
       "      <td>News</td>\n",
       "      <td>False</td>\n",
       "      <td>Global news and information services</td>\n",
       "      <td>[-0.036851268261671066, -0.04037269577383995, ...</td>\n",
       "    </tr>\n",
       "    <tr>\n",
       "      <th>3</th>\n",
       "      <td>3</td>\n",
       "      <td>GHI</td>\n",
       "      <td>Tech</td>\n",
       "      <td>False</td>\n",
       "      <td>Leading provider of search and cloud technologies</td>\n",
       "      <td>[-0.015076201409101486, -0.0003874574322253465...</td>\n",
       "    </tr>\n",
       "    <tr>\n",
       "      <th>4</th>\n",
       "      <td>4</td>\n",
       "      <td>JKL</td>\n",
       "      <td>Finance</td>\n",
       "      <td>True</td>\n",
       "      <td>Financial services and investment banking</td>\n",
       "      <td>[0.05151272192597389, -0.08495684713125229, -0...</td>\n",
       "    </tr>\n",
       "    <tr>\n",
       "      <th>5</th>\n",
       "      <td>5</td>\n",
       "      <td>MNO</td>\n",
       "      <td>Finance</td>\n",
       "      <td>False</td>\n",
       "      <td>Simplified stock trading platform</td>\n",
       "      <td>[-0.02130766399204731, 0.0012240050127729774, ...</td>\n",
       "    </tr>\n",
       "    <tr>\n",
       "      <th>6</th>\n",
       "      <td>6</td>\n",
       "      <td>PQR</td>\n",
       "      <td>Healthcare</td>\n",
       "      <td>True</td>\n",
       "      <td>Global pharmaceutical and biotechnology corpor...</td>\n",
       "      <td>[-0.031855326145887375, -0.04670903459191322, ...</td>\n",
       "    </tr>\n",
       "    <tr>\n",
       "      <th>7</th>\n",
       "      <td>7</td>\n",
       "      <td>STU</td>\n",
       "      <td>Education</td>\n",
       "      <td>False</td>\n",
       "      <td>Free online courses and educational resources</td>\n",
       "      <td>[0.013865390792489052, -0.037877537310123444, ...</td>\n",
       "    </tr>\n",
       "    <tr>\n",
       "      <th>8</th>\n",
       "      <td>8</td>\n",
       "      <td>VWX</td>\n",
       "      <td>Tech</td>\n",
       "      <td>True</td>\n",
       "      <td>Electric vehicles and clean energy solutions</td>\n",
       "      <td>[-0.04044750705361366, 0.10058614611625671, 0....</td>\n",
       "    </tr>\n",
       "    <tr>\n",
       "      <th>9</th>\n",
       "      <td>9</td>\n",
       "      <td>YZA</td>\n",
       "      <td>Entertainment</td>\n",
       "      <td>False</td>\n",
       "      <td>Subscription-based streaming platform</td>\n",
       "      <td>[-0.03334436193108559, -0.0880628451704979, -0...</td>\n",
       "    </tr>\n",
       "    <tr>\n",
       "      <th>10</th>\n",
       "      <td>10</td>\n",
       "      <td>BCD</td>\n",
       "      <td>Retail</td>\n",
       "      <td>True</td>\n",
       "      <td>E-commerce and cloud computing giant</td>\n",
       "      <td>[-0.0035822049248963594, 0.016643140465021133,...</td>\n",
       "    </tr>\n",
       "    <tr>\n",
       "      <th>11</th>\n",
       "      <td>11</td>\n",
       "      <td>EFG</td>\n",
       "      <td>Tech</td>\n",
       "      <td>True</td>\n",
       "      <td>Software development and cloud services</td>\n",
       "      <td>[-0.025964301079511642, -0.03680089861154556, ...</td>\n",
       "    </tr>\n",
       "    <tr>\n",
       "      <th>12</th>\n",
       "      <td>12</td>\n",
       "      <td>HIJ</td>\n",
       "      <td>News</td>\n",
       "      <td>True</td>\n",
       "      <td>British broadcaster providing global news</td>\n",
       "      <td>[0.02547604590654373, -0.06603124737739563, -0...</td>\n",
       "    </tr>\n",
       "    <tr>\n",
       "      <th>13</th>\n",
       "      <td>13</td>\n",
       "      <td>KLM</td>\n",
       "      <td>Tech</td>\n",
       "      <td>True</td>\n",
       "      <td>Consumer electronics and software development</td>\n",
       "      <td>[-0.04385441169142723, 0.008652999997138977, -...</td>\n",
       "    </tr>\n",
       "    <tr>\n",
       "      <th>14</th>\n",
       "      <td>14</td>\n",
       "      <td>NOP</td>\n",
       "      <td>Finance</td>\n",
       "      <td>True</td>\n",
       "      <td>Investment banking and financial services</td>\n",
       "      <td>[0.06688171625137329, -0.08209356665611267, -0...</td>\n",
       "    </tr>\n",
       "    <tr>\n",
       "      <th>15</th>\n",
       "      <td>15</td>\n",
       "      <td>QRS</td>\n",
       "      <td>Aerospace</td>\n",
       "      <td>True</td>\n",
       "      <td>Private space exploration company</td>\n",
       "      <td>[0.0018775973003357649, -0.04221414774656296, ...</td>\n",
       "    </tr>\n",
       "    <tr>\n",
       "      <th>16</th>\n",
       "      <td>16</td>\n",
       "      <td>TUV</td>\n",
       "      <td>News</td>\n",
       "      <td>False</td>\n",
       "      <td>Cable news network offering global coverage</td>\n",
       "      <td>[-0.016381600871682167, -0.056282803416252136,...</td>\n",
       "    </tr>\n",
       "    <tr>\n",
       "      <th>17</th>\n",
       "      <td>17</td>\n",
       "      <td>WXY</td>\n",
       "      <td>Education</td>\n",
       "      <td>True</td>\n",
       "      <td>Online courses from top universities</td>\n",
       "      <td>[0.0023485522251576185, -0.14194539189338684, ...</td>\n",
       "    </tr>\n",
       "    <tr>\n",
       "      <th>18</th>\n",
       "      <td>18</td>\n",
       "      <td>ZAB</td>\n",
       "      <td>Entertainment</td>\n",
       "      <td>True</td>\n",
       "      <td>Media and entertainment conglomerate</td>\n",
       "      <td>[0.06211104243993759, -0.11465820670127869, -0...</td>\n",
       "    </tr>\n",
       "    <tr>\n",
       "      <th>19</th>\n",
       "      <td>19</td>\n",
       "      <td>CDE</td>\n",
       "      <td>Retail</td>\n",
       "      <td>True</td>\n",
       "      <td>Sports apparel and equipment brand</td>\n",
       "      <td>[-0.04672182723879814, 0.051883257925510406, -...</td>\n",
       "    </tr>\n",
       "    <tr>\n",
       "      <th>20</th>\n",
       "      <td>20</td>\n",
       "      <td>FGH</td>\n",
       "      <td>Tech</td>\n",
       "      <td>False</td>\n",
       "      <td>Video conferencing and online communication tools</td>\n",
       "      <td>[0.00860366690903902, -0.10522350668907166, -0...</td>\n",
       "    </tr>\n",
       "    <tr>\n",
       "      <th>21</th>\n",
       "      <td>21</td>\n",
       "      <td>IJK</td>\n",
       "      <td>Automotive</td>\n",
       "      <td>True</td>\n",
       "      <td>Automobile manufacturing company</td>\n",
       "      <td>[-0.07880520075559616, 0.011507309041917324, -...</td>\n",
       "    </tr>\n",
       "    <tr>\n",
       "      <th>22</th>\n",
       "      <td>22</td>\n",
       "      <td>LMN</td>\n",
       "      <td>Hospitality</td>\n",
       "      <td>False</td>\n",
       "      <td>Short-term rentals and vacation homes platform</td>\n",
       "      <td>[0.08704981952905655, -0.005797115620225668, 0...</td>\n",
       "    </tr>\n",
       "    <tr>\n",
       "      <th>23</th>\n",
       "      <td>23</td>\n",
       "      <td>OPQ</td>\n",
       "      <td>Tech</td>\n",
       "      <td>True</td>\n",
       "      <td>Social media and virtual reality technologies</td>\n",
       "      <td>[0.029929256066679955, -0.013849192298948765, ...</td>\n",
       "    </tr>\n",
       "    <tr>\n",
       "      <th>24</th>\n",
       "      <td>24</td>\n",
       "      <td>RST</td>\n",
       "      <td>News</td>\n",
       "      <td>True</td>\n",
       "      <td>Daily newspaper with global reach</td>\n",
       "      <td>[0.01745731569826603, 0.01598241552710533, -0....</td>\n",
       "    </tr>\n",
       "    <tr>\n",
       "      <th>25</th>\n",
       "      <td>25</td>\n",
       "      <td>UVW</td>\n",
       "      <td>Retail</td>\n",
       "      <td>True</td>\n",
       "      <td>E-commerce and online retail platform</td>\n",
       "      <td>[0.027151817455887794, 0.003919849172234535, -...</td>\n",
       "    </tr>\n",
       "    <tr>\n",
       "      <th>26</th>\n",
       "      <td>26</td>\n",
       "      <td>XYZ</td>\n",
       "      <td>Healthcare</td>\n",
       "      <td>True</td>\n",
       "      <td>Healthcare products and pharmaceuticals</td>\n",
       "      <td>[-0.00445531914010644, 0.003102359361946583, -...</td>\n",
       "    </tr>\n",
       "    <tr>\n",
       "      <th>27</th>\n",
       "      <td>27</td>\n",
       "      <td>ABC1</td>\n",
       "      <td>Education</td>\n",
       "      <td>False</td>\n",
       "      <td>Ivy League university offering various programs</td>\n",
       "      <td>[-0.0027969423681497574, -0.10422539710998535,...</td>\n",
       "    </tr>\n",
       "    <tr>\n",
       "      <th>28</th>\n",
       "      <td>28</td>\n",
       "      <td>DEF1</td>\n",
       "      <td>Entertainment</td>\n",
       "      <td>True</td>\n",
       "      <td>Electronics and entertainment solutions</td>\n",
       "      <td>[0.017228396609425545, -0.003695274004712701, ...</td>\n",
       "    </tr>\n",
       "    <tr>\n",
       "      <th>29</th>\n",
       "      <td>29</td>\n",
       "      <td>GHI1</td>\n",
       "      <td>Tech</td>\n",
       "      <td>True</td>\n",
       "      <td>Professional networking platform</td>\n",
       "      <td>[-0.012143423780798912, -0.029629092663526535,...</td>\n",
       "    </tr>\n",
       "    <tr>\n",
       "      <th>30</th>\n",
       "      <td>30</td>\n",
       "      <td>JKL1</td>\n",
       "      <td>Transportation</td>\n",
       "      <td>False</td>\n",
       "      <td>Ride-hailing and delivery services</td>\n",
       "      <td>[-0.10055841505527496, 0.04321472346782684, 0....</td>\n",
       "    </tr>\n",
       "  </tbody>\n",
       "</table>\n",
       "</div>"
      ],
      "text/plain": [
       "    id  name        category  public  \\\n",
       "1    1   ABC            Tech    True   \n",
       "2    2   DEF            News   False   \n",
       "3    3   GHI            Tech   False   \n",
       "4    4   JKL         Finance    True   \n",
       "5    5   MNO         Finance   False   \n",
       "6    6   PQR      Healthcare    True   \n",
       "7    7   STU       Education   False   \n",
       "8    8   VWX            Tech    True   \n",
       "9    9   YZA   Entertainment   False   \n",
       "10  10   BCD          Retail    True   \n",
       "11  11   EFG            Tech    True   \n",
       "12  12   HIJ            News    True   \n",
       "13  13   KLM            Tech    True   \n",
       "14  14   NOP         Finance    True   \n",
       "15  15   QRS       Aerospace    True   \n",
       "16  16   TUV            News   False   \n",
       "17  17   WXY       Education    True   \n",
       "18  18   ZAB   Entertainment    True   \n",
       "19  19   CDE          Retail    True   \n",
       "20  20   FGH            Tech   False   \n",
       "21  21   IJK      Automotive    True   \n",
       "22  22   LMN     Hospitality   False   \n",
       "23  23   OPQ            Tech    True   \n",
       "24  24   RST            News    True   \n",
       "25  25   UVW          Retail    True   \n",
       "26  26   XYZ      Healthcare    True   \n",
       "27  27  ABC1       Education   False   \n",
       "28  28  DEF1   Entertainment    True   \n",
       "29  29  GHI1            Tech    True   \n",
       "30  30  JKL1  Transportation   False   \n",
       "\n",
       "                                          description  \\\n",
       "1             AI research and deployment organization   \n",
       "2                Global news and information services   \n",
       "3   Leading provider of search and cloud technologies   \n",
       "4           Financial services and investment banking   \n",
       "5                   Simplified stock trading platform   \n",
       "6   Global pharmaceutical and biotechnology corpor...   \n",
       "7       Free online courses and educational resources   \n",
       "8        Electric vehicles and clean energy solutions   \n",
       "9               Subscription-based streaming platform   \n",
       "10               E-commerce and cloud computing giant   \n",
       "11            Software development and cloud services   \n",
       "12          British broadcaster providing global news   \n",
       "13      Consumer electronics and software development   \n",
       "14          Investment banking and financial services   \n",
       "15                  Private space exploration company   \n",
       "16        Cable news network offering global coverage   \n",
       "17               Online courses from top universities   \n",
       "18               Media and entertainment conglomerate   \n",
       "19                 Sports apparel and equipment brand   \n",
       "20  Video conferencing and online communication tools   \n",
       "21                   Automobile manufacturing company   \n",
       "22     Short-term rentals and vacation homes platform   \n",
       "23      Social media and virtual reality technologies   \n",
       "24                  Daily newspaper with global reach   \n",
       "25              E-commerce and online retail platform   \n",
       "26            Healthcare products and pharmaceuticals   \n",
       "27    Ivy League university offering various programs   \n",
       "28            Electronics and entertainment solutions   \n",
       "29                   Professional networking platform   \n",
       "30                 Ride-hailing and delivery services   \n",
       "\n",
       "                                description_embedding  \n",
       "1   [-0.0011728338431566954, -0.06667085736989975,...  \n",
       "2   [-0.036851268261671066, -0.04037269577383995, ...  \n",
       "3   [-0.015076201409101486, -0.0003874574322253465...  \n",
       "4   [0.05151272192597389, -0.08495684713125229, -0...  \n",
       "5   [-0.02130766399204731, 0.0012240050127729774, ...  \n",
       "6   [-0.031855326145887375, -0.04670903459191322, ...  \n",
       "7   [0.013865390792489052, -0.037877537310123444, ...  \n",
       "8   [-0.04044750705361366, 0.10058614611625671, 0....  \n",
       "9   [-0.03334436193108559, -0.0880628451704979, -0...  \n",
       "10  [-0.0035822049248963594, 0.016643140465021133,...  \n",
       "11  [-0.025964301079511642, -0.03680089861154556, ...  \n",
       "12  [0.02547604590654373, -0.06603124737739563, -0...  \n",
       "13  [-0.04385441169142723, 0.008652999997138977, -...  \n",
       "14  [0.06688171625137329, -0.08209356665611267, -0...  \n",
       "15  [0.0018775973003357649, -0.04221414774656296, ...  \n",
       "16  [-0.016381600871682167, -0.056282803416252136,...  \n",
       "17  [0.0023485522251576185, -0.14194539189338684, ...  \n",
       "18  [0.06211104243993759, -0.11465820670127869, -0...  \n",
       "19  [-0.04672182723879814, 0.051883257925510406, -...  \n",
       "20  [0.00860366690903902, -0.10522350668907166, -0...  \n",
       "21  [-0.07880520075559616, 0.011507309041917324, -...  \n",
       "22  [0.08704981952905655, -0.005797115620225668, 0...  \n",
       "23  [0.029929256066679955, -0.013849192298948765, ...  \n",
       "24  [0.01745731569826603, 0.01598241552710533, -0....  \n",
       "25  [0.027151817455887794, 0.003919849172234535, -...  \n",
       "26  [-0.00445531914010644, 0.003102359361946583, -...  \n",
       "27  [-0.0027969423681497574, -0.10422539710998535,...  \n",
       "28  [0.017228396609425545, -0.003695274004712701, ...  \n",
       "29  [-0.012143423780798912, -0.029629092663526535,...  \n",
       "30  [-0.10055841505527496, 0.04321472346782684, 0....  "
      ]
     },
     "execution_count": 11,
     "metadata": {},
     "output_type": "execute_result"
    }
   ],
   "source": [
    "df['description_embedding'] = df['description'].apply(lambda x: model.encode(x).tolist())\n",
    "\n",
    "# Show the DataFrame with embeddings\n",
    "df"
   ]
  },
  {
   "cell_type": "markdown",
   "metadata": {},
   "source": [
    "## Ingestion"
   ]
  },
  {
   "cell_type": "code",
   "execution_count": 12,
   "metadata": {},
   "outputs": [
    {
     "name": "stdout",
     "output_type": "stream",
     "text": [
      "Total number of entities in the collection: 30\n"
     ]
    }
   ],
   "source": [
    "data_to_insert = [\n",
    "    {\n",
    "        \"id\": int(row[\"id\"]),\n",
    "        \"name\": str(row[\"name\"]),\n",
    "        \"category\": str(row[\"category\"]),\n",
    "        \"public\": bool(row[\"public\"]),\n",
    "        \"description\": str(row[\"description\"]),\n",
    "        \"description_embedding\": row[\"description_embedding\"],\n",
    "    }\n",
    "    for _, row in df.iterrows()\n",
    "]\n",
    "\n",
    "# Insert data into the Milvus collection\n",
    "collection.insert(data_to_insert)\n",
    "\n",
    "collection.flush()\n",
    "\n",
    "# Check the number of entities in the collection\n",
    "num_entities = collection.num_entities\n",
    "print(f'Total number of entities in the collection: {num_entities}')"
   ]
  },
  {
   "cell_type": "markdown",
   "metadata": {},
   "source": [
    "## Query\n",
    "We will be using BitMap Index for two different usecases:\n",
    "1. Querying and Filtering \n",
    "2. Filtering"
   ]
  },
  {
   "cell_type": "markdown",
   "metadata": {},
   "source": [
    "### Query and filter"
   ]
  },
  {
   "cell_type": "code",
   "execution_count": 13,
   "metadata": {},
   "outputs": [
    {
     "name": "stdout",
     "output_type": "stream",
     "text": [
      "Embeddings: [-0.08169576525688171, -0.05700130760669708, -0.008233768865466118, -0.00738370930776, 0.006671771872788668, -0.040133073925971985, 0.09387392550706863, 0.011836863122880459, 0.0327550433576107, -0.015086967498064041, -0.007696609944105148, -0.008191272616386414, 0.01079613622277975, -0.02455325610935688, -0.051503557711839676, 0.034926339983940125, -0.007094291970133781, -0.033282890915870667, -0.06825562566518784, -0.1306525021791458, -0.05625976622104645, -0.02847185917198658, -0.011119755916297436, -0.026763031259179115, -0.00579789187759161, 0.08918706327676773, 0.013626961968839169, -0.030455872416496277, 0.006723112892359495, -0.08422578126192093, -0.010452569462358952, -0.006856689229607582, 0.10541794449090958, -0.009761515073478222, -0.0034349907655268908, 0.055846184492111206, -0.08756192028522491, -0.027241693809628487, 0.074781134724617, -0.005701984744518995, -0.03196034952998161, -0.04344426468014717, 0.006464636884629726, -0.07108573615550995, 0.08631764352321625, 0.07273269444704056, -0.020808644592761993, 0.011099989525973797, 0.05045635998249054, 0.06923720985651016, -0.10897708684206009, -0.06212082505226135, 0.028950048610568047, -0.0020744812209159136, -0.04129151627421379, 0.027169659733772278, -0.014022109098732471, -0.01503839436918497, -0.019456248730421066, -0.06286994367837906, 0.1104641929268837, -0.055218156427145004, 0.05680718645453453, 0.05082692950963974, 0.11086642742156982, 0.03338554501533508, -0.03539057448506355, 0.041693322360515594, -0.06561779230833054, -0.09604069590568542, 0.08458586782217026, 0.0012738329824060202, -0.01889624632894993, 0.07636494189500809, -0.0026471770834177732, 0.010139579884707928, 0.0496085099875927, 0.01099623553454876, 0.12808339297771454, -0.05230946093797684, -0.014503811486065388, -0.007817466743290424, -0.004843887407332659, 0.09663135558366776, -0.06294955313205719, 0.034119658172130585, 0.04441254213452339, 0.02234000340104103, 0.0660543441772461, 0.03272850438952446, -0.02606607787311077, -0.05250158533453941, 0.016061050817370415, -0.0009272698662243783, 0.004417743068188429, 0.04756953567266464, -0.024366429075598717, -0.05226500332355499, -0.05218372121453285, 0.13122808933258057, -0.028822192922234535, 0.01603979989886284, -0.04279224947094917, -0.04754406213760376, -0.03202300891280174, 0.011478728614747524, 0.041688669472932816, -0.011265923269093037, 0.09863215684890747, 0.029681475833058357, -0.060715921223163605, 0.011967694386839867, -0.02690301649272442, -0.04420360177755356, 0.026049166917800903, -0.021747849881649017, -0.0062872422859072685, 0.12952063977718353, 0.0412868894636631, 0.006269702687859535, 0.0019296130631119013, 0.05314454436302185, -0.013847758062183857, 0.08293230086565018, 0.013255486264824867, -0.016849851235747337, -0.061618104577064514, -3.4647185385128286e-33, -0.05957332253456116, 0.0023724280763417482, 0.042346663773059845, 0.03656454011797905, 0.033156584948301315, -0.045412465929985046, -0.002678429242223501, 0.051557425409555435, -0.05936982110142708, 0.006788874045014381, -0.12810754776000977, -0.021846706047654152, -0.022111305966973305, 0.009214237332344055, 0.07959982007741928, -0.04096178337931633, 0.022048726677894592, -0.006318296771496534, -0.012367918156087399, -0.025415001437067986, 0.008333787322044373, -0.02216050960123539, -0.018137607723474503, 0.03799647465348244, 0.016481366008520126, -0.0025258874520659447, 0.011867644265294075, -0.022467419505119324, 0.0720890462398529, 0.01919691078364849, 0.019935617223381996, 0.06845280528068542, -0.07109005004167557, -0.022086605429649353, -0.024813814088702202, 0.03604261949658394, -0.06910256296396255, -0.06081894412636757, 0.006143891718238592, 0.13640263676643372, -0.02774972654879093, 0.04856470972299576, 0.006334285251796246, -0.007738888263702393, -0.03792121633887291, 0.00037514817086048424, -0.009868046268820763, -0.03247267007827759, 0.05587300285696983, -0.0018977097934111953, -0.09734460711479187, 0.03852522000670433, -0.0015172911807894707, -0.07110957056283951, 0.08489926904439926, -0.010399820283055305, -0.04188094660639763, 0.011136778630316257, 0.009518268518149853, -0.006252653431147337, -0.009106814861297607, 0.09996994584798813, -0.046569813042879105, 0.09843765199184418, -0.04746636003255844, 0.07862452417612076, 0.06822767108678818, -0.0003671112935990095, 0.09758429229259491, 0.03772736340761185, 0.01037649530917406, -0.04504023864865303, 0.0568174347281456, 0.00528407609090209, -0.10578648000955582, 0.027849355712532997, -0.04883817583322525, -0.057090744376182556, -0.04282735288143158, -0.01510646753013134, -0.07596974819898605, -0.004926676861941814, 0.02712312713265419, 0.00042603674228303134, 0.051235973834991455, -0.02360391616821289, 0.0037073055282235146, -0.021465353667736053, 0.00026090050232596695, 0.047625597566366196, -0.10731437802314758, 0.02633916772902012, -0.027323903515934944, 0.0926179513335228, -0.07596129924058914, 2.3799694128381446e-33, -0.07026911526918411, -0.05531568080186844, -0.05173853784799576, -0.00674233166500926, 0.016132483258843422, -0.0060985274612903595, -0.015344333834946156, 0.009191428311169147, 0.02609167993068695, 0.1355675309896469, -0.010431894101202488, -0.03709282726049423, 0.024078404530882835, 0.03595465049147606, -0.010012378916144371, 0.008237063884735107, 0.044130440801382065, -0.05409182608127594, -0.022144058719277382, 0.002622836036607623, -0.014959115535020828, 0.015624266117811203, -0.05113229528069496, -0.03239727392792702, 0.025429824367165565, 0.080898217856884, -0.04987189546227455, 0.026607565581798553, -0.011520927771925926, 0.023231105878949165, -0.006237594410777092, -0.05454326421022415, -0.08408039808273315, 0.09879087656736374, 0.012419167906045914, 0.05285327881574631, -0.019316416233778, -0.04010544717311859, -0.02492271549999714, -0.024986498057842255, 0.04203912243247032, -0.03594335913658142, -0.07126108556985855, 0.06070788577198982, -0.05328114703297615, -0.06191089749336243, -0.03315627574920654, 0.019456321373581886, 0.0259847454726696, -0.05241311341524124, -0.05996605381369591, -0.010381203144788742, -0.009838433936238289, -0.08018284291028976, -0.10227012634277344, 0.03792107477784157, 0.01105112861841917, 0.021032022312283516, -0.042430777102708817, 0.050699926912784576, -0.032431140542030334, -0.03747812658548355, 0.04079873114824295, 0.036324385553598404, -0.07006611675024033, 0.050230130553245544, 0.045805368572473526, 0.04435247927904129, 0.0061663612723350525, -0.09051839262247086, 0.09059927612543106, 0.019228361546993256, -0.040476083755493164, 0.07579618692398071, -0.05725853145122528, -0.010629262775182724, -0.042013589292764664, -0.029197463765740395, -0.027209879830479622, -0.06894160062074661, 0.03181753680109978, -0.07579538971185684, 0.025725364685058594, 0.10509706288576126, -0.037691324949264526, 0.07178244739770889, 0.023492664098739624, -0.031418874859809875, -0.049302686005830765, 0.0419752337038517, -0.023359376937150955, 0.005419566296041012, -0.03380114585161209, 0.054146893322467804, -0.08807787299156189, -1.2104215407759966e-08, -0.02701474167406559, -0.031502582132816315, 0.12414050102233887, 0.0038464097306132317, 0.06576203554868698, -0.04089970141649246, -0.020800137892365456, -0.0018678653286769986, -0.030567465350031853, -0.0024632327258586884, -0.028194226324558258, -0.02738768793642521, 0.003976217471063137, 0.07815558463335037, 0.035933710634708405, 0.006519200745970011, -0.04434177279472351, 0.05946718156337738, -0.004535484593361616, -0.01890084706246853, 0.09732602536678314, 0.025369858369231224, 0.03051053360104561, -0.024001862853765488, 0.0021936839912086725, -0.05030953139066696, 0.027052070945501328, -0.0028723576106131077, -0.05602898821234703, 0.08540595322847366, -0.008527573198080063, 0.11104706674814224, 0.05296843871474266, -0.01655551977455616, 0.040318869054317474, -0.014124789275228977, 0.05239049345254898, -0.018770994618535042, -0.057571735233068466, -0.022925157099962234, -0.04941471666097641, 0.118039570748806, 0.016431152820587158, -0.034284576773643494, 0.1067003458738327, -0.009224793873727322, -0.04545805603265762, -0.09812508523464203, 0.06987041234970093, -0.0623876117169857, 0.00354005373083055, 0.01998666115105152, 0.040448106825351715, 0.118197001516819, 0.05753761902451515, -0.04862294718623161, 0.008010032586753368, -0.08769134432077408, -0.06131212040781975, 0.06890322268009186, 0.05652742460370064, -0.011375609785318375, 0.0819215252995491, -0.0350547730922699]\n"
     ]
    }
   ],
   "source": [
    "filter_expression = \"category == 'Tech' and public == True\"\n",
    "question_text = \"AI company\"\n",
    "question_vector = model.encode(question_text).tolist()\n",
    "\n",
    "print(\"Embeddings:\", question_vector)"
   ]
  },
  {
   "cell_type": "code",
   "execution_count": 14,
   "metadata": {},
   "outputs": [
    {
     "name": "stdout",
     "output_type": "stream",
     "text": [
      "\n",
      "Query results:\n",
      "id: 1, distance: 0.7781509160995483, entity: {'name': 'ABC', 'category': 'Tech', 'public': True, 'description': 'AI research and deployment organization', 'id': 1}\n",
      "id: 29, distance: 1.3731958866119385, entity: {'name': 'GHI1', 'category': 'Tech', 'public': True, 'description': 'Professional networking platform', 'id': 29}\n",
      "id: 11, distance: 1.3806469440460205, entity: {'name': 'EFG', 'category': 'Tech', 'public': True, 'description': 'Software development and cloud services', 'id': 11}\n",
      "id: 13, distance: 1.4113643169403076, entity: {'name': 'KLM', 'category': 'Tech', 'public': True, 'description': 'Consumer electronics and software development', 'id': 13}\n",
      "id: 23, distance: 1.5913578271865845, entity: {'name': 'OPQ', 'category': 'Tech', 'public': True, 'description': 'Social media and virtual reality technologies', 'id': 23}\n",
      "id: 8, distance: 1.6900019645690918, entity: {'name': 'VWX', 'category': 'Tech', 'public': True, 'description': 'Electric vehicles and clean energy solutions', 'id': 8}\n"
     ]
    }
   ],
   "source": [
    "collection.load()\n",
    "\n",
    "res = collection.search(\n",
    "    anns_field=\"description_embedding\",\n",
    "    data=[question_vector], # Replace with your query vector\n",
    "    param={\n",
    "    \"metric_type\": \"L2\",\n",
    "    \"params\": {},\n",
    "    },\n",
    "    output_fields=[\"id\",\"name\", \"category\", \"public\",\"description\"],\n",
    "    expr=filter_expression,\n",
    "    limit=10,\n",
    ")\n",
    "\n",
    "print(\"\\nQuery results:\")\n",
    "for hits in res:\n",
    "    for hit in hits:\n",
    "        print(hit)"
   ]
  },
  {
   "cell_type": "markdown",
   "metadata": {},
   "source": [
    "### Filtering"
   ]
  },
  {
   "cell_type": "code",
   "execution_count": 15,
   "metadata": {},
   "outputs": [
    {
     "name": "stdout",
     "output_type": "stream",
     "text": [
      "\n",
      "Query results:\n",
      "{'description': 'AI research and deployment organization', 'id': 1, 'name': 'ABC', 'category': 'Tech', 'public': True}\n",
      "{'description': 'Electric vehicles and clean energy solutions', 'id': 8, 'name': 'VWX', 'category': 'Tech', 'public': True}\n",
      "{'description': 'Software development and cloud services', 'id': 11, 'name': 'EFG', 'category': 'Tech', 'public': True}\n",
      "{'description': 'Consumer electronics and software development', 'id': 13, 'name': 'KLM', 'category': 'Tech', 'public': True}\n",
      "{'description': 'Social media and virtual reality technologies', 'id': 23, 'name': 'OPQ', 'category': 'Tech', 'public': True}\n",
      "{'description': 'Professional networking platform', 'id': 29, 'name': 'GHI1', 'category': 'Tech', 'public': True}\n"
     ]
    }
   ],
   "source": [
    "collection.load()\n",
    "\n",
    "query_results = collection.query(\n",
    "    expr=filter_expression,\n",
    "    output_fields=[\"id\",\"name\", \"category\", \"public\",\"description\"],\n",
    ")\n",
    "\n",
    "print(\"\\nQuery results:\")\n",
    "for result in query_results:\n",
    "    print(result)\n"
   ]
  },
  {
   "cell_type": "markdown",
   "metadata": {},
   "source": [
    "## Dropping the collection"
   ]
  },
  {
   "cell_type": "code",
   "execution_count": 16,
   "metadata": {},
   "outputs": [],
   "source": [
    "collection.drop()"
   ]
  },
  {
   "cell_type": "markdown",
   "metadata": {},
   "source": [
    "## Conclusion\n",
    "The above notebook illustrates the two different ways to use a BitMap Index for filtering, Querying and filtering and Filtering.\n",
    "\n",
    "### Benefits of using BitMap Index\n",
    "1. Fast pre-filtering before expensive similarity searches, reduces number of distance calculations required for find best similar results.\n",
    "2. Memory Efficiency - bitmap indices can be more space-efficient than traditional B-tree indices.\n",
    "3. Parallel Processing - Bitmap operations can be easily parallelized and takes advantage of modern CPU SIMD instructions, making them very performant for large-scale filtering operations."
   ]
  }
 ],
 "metadata": {
  "kernelspec": {
   "display_name": "Python 3",
   "language": "python",
   "name": "python3"
  },
  "language_info": {
   "codemirror_mode": {
    "name": "ipython",
    "version": 3
   },
   "file_extension": ".py",
   "mimetype": "text/x-python",
   "name": "python",
   "nbconvert_exporter": "python",
   "pygments_lexer": "ipython3",
   "version": "3.9.20"
  }
 },
 "nbformat": 4,
 "nbformat_minor": 2
}
