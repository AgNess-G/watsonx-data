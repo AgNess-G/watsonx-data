{
 "cells": [
  {
   "cell_type": "markdown",
   "metadata": {},
   "source": [
    "# MILVUS Demo - Filter Templating\n",
    "\n",
    "# Filter Templating during Search with Milvus in watsonx.data\n",
    "\n",
    "## Disclaimers\n",
    "- Use only Projects and Spaces that are available in watsonx context.\n",
    "\n",
    "## Overview\n",
    "### Audience\n",
    "This notebook demonstrates how to implement Filter Templating.\n",
    "To reduces the time spent parsing complex expressions, especially those with large arrays or non-ASCII characters Filter Templating could be used.It improves query performance and simplifies handling dynamic values across search, query, and delete operations.\n",
    "The scenario presented in this notebook shows how to use Filter Templating during search.\n",
    "\n",
    "Some familiarity with Python programming, search algorithms, and basic machine learning concepts is recommended. The code runs with Python 3.10 or later.\n",
    "### Learning goal\n",
    "This notebook demonstrates Milvus Filter Templating support in watsonx.data, introducing commands for:\n",
    "- Connecting to Milvus\n",
    "- Creating collections\n",
    "- Creating indexes\n",
    "- Generate Embeddings\n",
    "- Ingesting data\n",
    "- Data retrieval\n",
    "\n",
    "\n",
    "### About Milvus \n",
    "\n",
    "Milvus is an open-source vector database designed specifically for scalable similarity search and AI applications. It's a powerful platform that enables efficient storage, indexing, and retrieval of vector embeddings, which are crucial in modern machine learning and artificial intelligence tasks.[ To know more, visit Milvus Documentation](https://www.ibm.com/docs/en/watsonx/watsonxdata/2.1.x?topic=components-milvus)\n",
    "\n",
    "### Milvus: Three Fundamental Steps\n",
    "\n",
    "#### 1. Data Preparation\n",
    "Collect and convert your data into high-dimensional vector embeddings. These vectors are typically generated using machine learning models like neural networks, which transform text, images, audio, or other data types into dense numerical representations that capture semantic meaning and relationships.\n",
    "\n",
    "#### 2. Vector Insertion\n",
    "Load the dense vector embeddings and sparse vector embeddings into Milvus collections or partitions within a database. Milvus creates indexes to optimize subsequent search operations, supporting various indexing algorithms like IVF-FLAT, HNSW, etc., based on the definition.\n",
    "\n",
    "#### 3. Similarity Search\n",
    "Perform vector similarity searches by providing a query vector and a reranking weight. Milvus will rapidly return the most similar vectors from the collection or partitions based on the defined metrics like cosine similarity, Euclidean distance, or inner product and the reranking weight.\n",
    "\n",
    "### What is Filter Templating?\n",
    "Filter templating in Milvus is a mechanism that allows you to define filter expressions with placeholders. These placeholders can be dynamically replaced with actual values during query execution, enabling flexible and efficient query building. It improves query performance and simplifies handling dynamic values across search, query, and delete operations.\n",
    "\n",
    "### Key Workflow\n",
    "\n",
    "1. **Definition** (once)\n",
    "2. **Ingestion** (once)\n",
    "3. **Retrieve relevant passage(s)** (for every user query)\n",
    "\n",
    "## Contents\n",
    "\n",
    "- Environment Setup\n",
    "- Install packages\n",
    "- Document data loading\n",
    "- Create connection\n",
    "- Ingest data\n",
    "- Retrieve relevant data\n",
    "\n",
    "## Environment Setup\n",
    "Before using the sample code in this notebook, complete the following setup tasks:\n",
    "\n",
    "- Create a Watsonx.data instance (a free plan is offered)\n",
    "  - Information about creating a watsonx.data instance can be found [here](https://www.ibm.com/docs/en/watsonx/watsonxdata/2.0.x)\n"
   ]
  },
  {
   "cell_type": "markdown",
   "metadata": {},
   "source": [
    "## Install required packages"
   ]
  },
  {
   "cell_type": "code",
   "execution_count": 46,
   "metadata": {},
   "outputs": [],
   "source": [
    "%%capture\n",
    "!pip install numpy"
   ]
  },
  {
   "cell_type": "code",
   "execution_count": 47,
   "metadata": {},
   "outputs": [],
   "source": [
    "%%capture\n",
    "!pip install torch"
   ]
  },
  {
   "cell_type": "code",
   "execution_count": 48,
   "metadata": {},
   "outputs": [],
   "source": [
    "%%capture\n",
    "!pip install sentence-transformers"
   ]
  },
  {
   "cell_type": "markdown",
   "metadata": {},
   "source": [
    "### Install Pymilvus SDK"
   ]
  },
  {
   "cell_type": "code",
   "execution_count": 49,
   "metadata": {},
   "outputs": [
    {
     "name": "stdout",
     "output_type": "stream",
     "text": [
      "Name: pymilvus\n",
      "Version: 2.5.3\n",
      "Summary: Python Sdk for Milvus\n",
      "Home-page: \n",
      "Author: \n",
      "Author-email: Milvus Team <milvus-team@zilliz.com>\n",
      "License: \n",
      "Location: /opt/homebrew/lib/python3.11/site-packages\n",
      "Requires: grpcio, milvus-lite, pandas, protobuf, python-dotenv, setuptools, ujson\n",
      "Required-by: \n",
      "Note: you may need to restart the kernel to use updated packages.\n"
     ]
    }
   ],
   "source": [
    "# !pip install pymilvus\n",
    "# Restart Kernal\n",
    "%pip show pymilvus"
   ]
  },
  {
   "cell_type": "markdown",
   "metadata": {},
   "source": [
    "### Post pymilvus installations"
   ]
  },
  {
   "cell_type": "code",
   "execution_count": 50,
   "metadata": {},
   "outputs": [],
   "source": [
    "import psutil\n",
    "import sys\n",
    "import numpy as np\n",
    "import time\n",
    "import pandas as pd\n",
    "from pymilvus import MilvusClient, DataType, CollectionSchema, FieldSchema,utility,connections,Collection"
   ]
  },
  {
   "cell_type": "code",
   "execution_count": 51,
   "metadata": {},
   "outputs": [],
   "source": [
    "%%capture\n",
    "%pip install \"pymilvus[model]\""
   ]
  },
  {
   "cell_type": "code",
   "execution_count": 52,
   "metadata": {},
   "outputs": [],
   "source": [
    "%%capture\n",
    "%pip install tensorflow"
   ]
  },
  {
   "cell_type": "code",
   "execution_count": 53,
   "metadata": {},
   "outputs": [],
   "source": [
    "%%capture\n",
    "%pip install --upgrade transformers"
   ]
  },
  {
   "cell_type": "markdown",
   "metadata": {},
   "source": [
    "## Preparing data"
   ]
  },
  {
   "cell_type": "code",
   "execution_count": 54,
   "metadata": {},
   "outputs": [],
   "source": [
    "%%capture\n",
    "%pip install bs4"
   ]
  },
  {
   "cell_type": "code",
   "execution_count": 55,
   "metadata": {},
   "outputs": [],
   "source": [
    "from bs4 import BeautifulSoup\n",
    "\n",
    "# Load the CSV file\n",
    "file_path = '/Users/home/milvusD/milvus/features_2.4.0/data/cleanFashion Dataset.csv'  # Replace with your CSV file path\n",
    "columns_to_extract = ['p_id', 'name', 'price', 'colour','avg_rating','description']  # Replace with your desired column names\n",
    "\n",
    "# Read the CSV file and extract selected columns\n",
    "df = pd.read_csv(file_path, usecols=columns_to_extract, keep_default_na=False).replace('', 0).head(50)\n"
   ]
  },
  {
   "cell_type": "code",
   "execution_count": 56,
   "metadata": {},
   "outputs": [],
   "source": [
    "\n",
    "def clean_html(html):\n",
    "    if not isinstance(html, str):  # Handle non-string values\n",
    "        html = str(html)\n",
    "    return BeautifulSoup(html, \"html.parser\").get_text()\n",
    "\n",
    "# Apply the function to the 'description' column\n",
    "df['cleaned_description'] = df['description'].apply(clean_html)\n",
    "\n",
    "# Drop the 'description' column\n",
    "df = df.drop(columns=['description'])\n",
    "\n",
    "# Save the extracted data to a new CSV (optional)\n",
    "output_file_path = 'extracted_columns.csv'\n",
    "df.to_csv(output_file_path, index=False)  \n"
   ]
  },
  {
   "cell_type": "code",
   "execution_count": 57,
   "metadata": {},
   "outputs": [
    {
     "data": {
      "text/html": [
       "<div>\n",
       "<style scoped>\n",
       "    .dataframe tbody tr th:only-of-type {\n",
       "        vertical-align: middle;\n",
       "    }\n",
       "\n",
       "    .dataframe tbody tr th {\n",
       "        vertical-align: top;\n",
       "    }\n",
       "\n",
       "    .dataframe thead th {\n",
       "        text-align: right;\n",
       "    }\n",
       "</style>\n",
       "<table border=\"1\" class=\"dataframe\">\n",
       "  <thead>\n",
       "    <tr style=\"text-align: right;\">\n",
       "      <th></th>\n",
       "      <th>p_id</th>\n",
       "      <th>name</th>\n",
       "      <th>price</th>\n",
       "      <th>colour</th>\n",
       "      <th>avg_rating</th>\n",
       "      <th>cleaned_description</th>\n",
       "    </tr>\n",
       "  </thead>\n",
       "  <tbody>\n",
       "    <tr>\n",
       "      <th>0</th>\n",
       "      <td>100001</td>\n",
       "      <td>Black Ethnic Motifs Printed Kurta with Palazzo...</td>\n",
       "      <td>5099</td>\n",
       "      <td>Black</td>\n",
       "      <td>4.418398939</td>\n",
       "      <td>Black printed Kurta with Palazzos with dupatta...</td>\n",
       "    </tr>\n",
       "    <tr>\n",
       "      <th>1</th>\n",
       "      <td>100002</td>\n",
       "      <td>Orange Solid Kurta with Palazzos &amp; Floral Prin...</td>\n",
       "      <td>5899</td>\n",
       "      <td>Orange</td>\n",
       "      <td>4.11933395</td>\n",
       "      <td>Orange solid Kurta with Palazzos with dupattaK...</td>\n",
       "    </tr>\n",
       "    <tr>\n",
       "      <th>2</th>\n",
       "      <td>100003</td>\n",
       "      <td>Navy Blue Ethnic Motifs Embroidered Thread Wor...</td>\n",
       "      <td>4899</td>\n",
       "      <td>Navy Blue</td>\n",
       "      <td>4.16152968</td>\n",
       "      <td>Navy blue embroidered Kurta with Trousers with...</td>\n",
       "    </tr>\n",
       "    <tr>\n",
       "      <th>3</th>\n",
       "      <td>100004</td>\n",
       "      <td>Red Floral Printed Kurta With Trouser &amp; Dupatta</td>\n",
       "      <td>3699</td>\n",
       "      <td>Red</td>\n",
       "      <td>4.088986142</td>\n",
       "      <td>Red printed kurta with trouser and dupattaKurt...</td>\n",
       "    </tr>\n",
       "    <tr>\n",
       "      <th>4</th>\n",
       "      <td>100005</td>\n",
       "      <td>Black &amp; Green Printed Straight Kurta</td>\n",
       "      <td>1350</td>\n",
       "      <td>Black</td>\n",
       "      <td>3.978377362</td>\n",
       "      <td>Black and green printed straight kurta, has a ...</td>\n",
       "    </tr>\n",
       "  </tbody>\n",
       "</table>\n",
       "</div>"
      ],
      "text/plain": [
       "     p_id                                               name  price  \\\n",
       "0  100001  Black Ethnic Motifs Printed Kurta with Palazzo...   5099   \n",
       "1  100002  Orange Solid Kurta with Palazzos & Floral Prin...   5899   \n",
       "2  100003  Navy Blue Ethnic Motifs Embroidered Thread Wor...   4899   \n",
       "3  100004    Red Floral Printed Kurta With Trouser & Dupatta   3699   \n",
       "4  100005               Black & Green Printed Straight Kurta   1350   \n",
       "\n",
       "      colour   avg_rating                                cleaned_description  \n",
       "0      Black  4.418398939  Black printed Kurta with Palazzos with dupatta...  \n",
       "1     Orange   4.11933395  Orange solid Kurta with Palazzos with dupattaK...  \n",
       "2  Navy Blue   4.16152968  Navy blue embroidered Kurta with Trousers with...  \n",
       "3        Red  4.088986142  Red printed kurta with trouser and dupattaKurt...  \n",
       "4      Black  3.978377362  Black and green printed straight kurta, has a ...  "
      ]
     },
     "execution_count": 57,
     "metadata": {},
     "output_type": "execute_result"
    }
   ],
   "source": [
    "df.head(5)"
   ]
  },
  {
   "cell_type": "markdown",
   "metadata": {},
   "source": [
    "#### Setting Up BM25 and SentenceTransformer for Text Analysis"
   ]
  },
  {
   "cell_type": "code",
   "execution_count": 58,
   "metadata": {},
   "outputs": [],
   "source": [
    "from pymilvus.model.sparse.bm25.tokenizers import build_default_analyzer\n",
    "from pymilvus.model.sparse import BM25EmbeddingFunction"
   ]
  },
  {
   "cell_type": "code",
   "execution_count": 59,
   "metadata": {},
   "outputs": [],
   "source": [
    "from sentence_transformers import SentenceTransformer\n",
    "\n",
    "model = SentenceTransformer('all-MiniLM-L6-v2')"
   ]
  },
  {
   "cell_type": "code",
   "execution_count": 60,
   "metadata": {},
   "outputs": [],
   "source": [
    "\n",
    "analyzer = build_default_analyzer(language=\"en\")\n",
    "\n",
    "bm25_ef = BM25EmbeddingFunction(analyzer)"
   ]
  },
  {
   "cell_type": "markdown",
   "metadata": {},
   "source": [
    "### Connect to Milvus"
   ]
  },
  {
   "cell_type": "code",
   "execution_count": 61,
   "metadata": {},
   "outputs": [],
   "source": [
    "from pymilvus import MilvusClient\n",
    "# Replace Placeholder Values <> with respective provisioned Milvus Values .\n",
    "\n",
    "uri = \"https://<host>:<port>\"  # Construct URI from host and port\n",
    "user = \"<>\"\n",
    "password = \"<>\"\n",
    "# Create an instance of the MilvusClient class with the new configuration\n",
    "\"\"\"\n",
    "#On Prem\n",
    "milvus_client = MilvusClient(uri=uri,\n",
    "                            user=user,\n",
    "                            password=password,\n",
    "                            secure=True,\n",
    "                            server_pem_path='<>',\n",
    "                            server_name='<>',)\n",
    "\n",
    "# SaaS\n",
    "milvus_client = MilvusClient(uri=uri, \n",
    "                             user=user, \n",
    "                             password=password,\n",
    "                             secure=True,\n",
    "                             server_name='<>',)\n",
    "\"\"\""
   ]
  },
  {
   "cell_type": "code",
   "execution_count": 62,
   "metadata": {},
   "outputs": [],
   "source": [
    "COLLECTION_NAME = \"Milvus_test_scalar_filter\"\n",
    "DIMENSION = 384\n",
    "BATCH_SIZE = 2\n",
    "TOPK = 1\n",
    "fmt = \"=== {:30} ===\"\n",
    "search_latency_fmt = \"search latency = {:.4f}s\""
   ]
  },
  {
   "cell_type": "code",
   "execution_count": 63,
   "metadata": {},
   "outputs": [],
   "source": [
    "if milvus_client.has_collection(collection_name=COLLECTION_NAME):\n",
    "    milvus_client.drop_collection(collection_name=COLLECTION_NAME)"
   ]
  },
  {
   "cell_type": "code",
   "execution_count": 64,
   "metadata": {},
   "outputs": [
    {
     "data": {
      "text/plain": [
       "False"
      ]
     },
     "execution_count": 64,
     "metadata": {},
     "output_type": "execute_result"
    }
   ],
   "source": [
    "milvus_client.has_collection(collection_name=COLLECTION_NAME)"
   ]
  },
  {
   "cell_type": "markdown",
   "metadata": {},
   "source": [
    "## Create Milvus schema \n",
    "[more about schema](https://www.ibm.com/docs/en/watsonx/watsonxdata/2.1.x?topic=milvus-connecting-service#taskconctmilvus__postreq__1)"
   ]
  },
  {
   "cell_type": "code",
   "execution_count": 65,
   "metadata": {},
   "outputs": [
    {
     "data": {
      "text/plain": [
       "{'auto_id': False, 'description': '', 'fields': [{'name': 'p_id', 'description': '', 'type': <DataType.INT64: 5>, 'is_primary': True, 'auto_id': False}, {'name': 'name', 'description': '', 'type': <DataType.VARCHAR: 21>, 'params': {'max_length': 65535}}, {'name': 'cleaned_description', 'description': '', 'type': <DataType.VARCHAR: 21>, 'params': {'max_length': 65535}}, {'name': 'price', 'description': '', 'type': <DataType.FLOAT: 10>}, {'name': 'avg_rating', 'description': '', 'type': <DataType.FLOAT: 10>, 'nullable': True}, {'name': 'colour', 'description': '', 'type': <DataType.VARCHAR: 21>, 'params': {'max_length': 25}}, {'name': 'name_embedding', 'description': '', 'type': <DataType.SPARSE_FLOAT_VECTOR: 104>}, {'name': 'description_embedding', 'description': '', 'type': <DataType.FLOAT_VECTOR: 101>, 'params': {'dim': 384}}], 'enable_dynamic_field': True}"
      ]
     },
     "execution_count": 65,
     "metadata": {},
     "output_type": "execute_result"
    }
   ],
   "source": [
    "# Create schema\n",
    "schema = milvus_client.create_schema(\n",
    "    auto_id=False,\n",
    "    enable_dynamic_field=True,\n",
    ")\n",
    "# [pid,name,cleaned_description,price,avg_rating,colour,name_embedding,description_embedding]\n",
    "# Add fields to schema\n",
    "schema.add_field(field_name=\"p_id\", datatype=DataType.INT64, is_primary=True),\n",
    "schema.add_field(field_name=\"name\", datatype=DataType.VARCHAR, max_length=65535),\n",
    "schema.add_field(field_name=\"cleaned_description\", datatype=DataType.VARCHAR, max_length=65535),\n",
    "schema.add_field(field_name=\"price\",datatype=DataType.FLOAT)\n",
    "schema.add_field(field_name=\"avg_rating\",datatype=DataType.FLOAT,nullable=True )\n",
    "schema.add_field(field_name=\"colour\",datatype=DataType.VARCHAR, max_length=25)\n",
    "schema.add_field(field_name=\"name_embedding\", datatype=DataType.SPARSE_FLOAT_VECTOR),\n",
    "schema.add_field(field_name=\"description_embedding\", datatype=DataType.FLOAT_VECTOR, dim=DIMENSION)"
   ]
  },
  {
   "cell_type": "markdown",
   "metadata": {},
   "source": [
    "## Create Index \n",
    "[more on indexes](https://www.ibm.com/docs/en/watsonx/watsonxdata/2.1.x?topic=milvus-connecting-service#taskconctmilvus__postreq__1)"
   ]
  },
  {
   "cell_type": "code",
   "execution_count": 66,
   "metadata": {},
   "outputs": [],
   "source": [
    "# Create index parameters\n",
    "index_params = milvus_client.prepare_index_params()\n",
    "\n",
    "# Add first index for text_embedding\n",
    "index_params.add_index(\n",
    "    field_name=\"name_embedding\",\n",
    "    index_type=\"SPARSE_INVERTED_INDEX\",\n",
    "    metric_type=\"IP\",\n",
    "    params={\"drop_ratio_build\": 0.2}\n",
    ")\n",
    "\n",
    "# Add second index for context_embedding\n",
    "index_params.add_index(\n",
    "    field_name=\"description_embedding\",\n",
    "    index_type=\"IVF_SQ8\",\n",
    "    metric_type=\"L2\",\n",
    "    params={\"nlist\": 128}\n",
    ")"
   ]
  },
  {
   "cell_type": "code",
   "execution_count": null,
   "metadata": {},
   "outputs": [],
   "source": []
  },
  {
   "cell_type": "markdown",
   "metadata": {},
   "source": [
    "## Create Collection and Load Data "
   ]
  },
  {
   "cell_type": "code",
   "execution_count": 67,
   "metadata": {},
   "outputs": [],
   "source": [
    "# Create index and load collection\n",
    "milvus_client.create_collection(\n",
    "    collection_name=COLLECTION_NAME,\n",
    "    schema=schema,\n",
    "    index_params=index_params\n",
    ")\n",
    "\n",
    "# Load the collection\n",
    "milvus_client.load_collection(collection_name=COLLECTION_NAME)"
   ]
  },
  {
   "cell_type": "markdown",
   "metadata": {},
   "source": [
    "## Generate Embeddings\n",
    "\n",
    "We are going to generate 2 type of embeddings. One using sentence transformer which is more context aware (sematic), while the second using BM25 - sparse vector embeddings based on TF-IDF focused on keyword search. Click to know more about [Dense](https://github.ibm.com/Aldrin-Dennis1/milvus-enhanced-documentation/blob/main/in-memmory-indexes-and-similarity-metrics.md) and [Sparse](https://github.ibm.com/Aldrin-Dennis1/milvus-enhanced-documentation/blob/main/in-memmory-indexes-and-similarity-metrics-sparse-embeddings.md) vector embeddings or refer [In-Memory Index](https://milvus.io/docs/index.md?tab=floating) "
   ]
  },
  {
   "cell_type": "markdown",
   "metadata": {},
   "source": [
    "### 1. Dense embeddings - Sentence Transformer Embeddings - semantic"
   ]
  },
  {
   "cell_type": "code",
   "execution_count": 68,
   "metadata": {},
   "outputs": [
    {
     "data": {
      "text/html": [
       "<div>\n",
       "<style scoped>\n",
       "    .dataframe tbody tr th:only-of-type {\n",
       "        vertical-align: middle;\n",
       "    }\n",
       "\n",
       "    .dataframe tbody tr th {\n",
       "        vertical-align: top;\n",
       "    }\n",
       "\n",
       "    .dataframe thead th {\n",
       "        text-align: right;\n",
       "    }\n",
       "</style>\n",
       "<table border=\"1\" class=\"dataframe\">\n",
       "  <thead>\n",
       "    <tr style=\"text-align: right;\">\n",
       "      <th></th>\n",
       "      <th>p_id</th>\n",
       "      <th>name</th>\n",
       "      <th>price</th>\n",
       "      <th>colour</th>\n",
       "      <th>avg_rating</th>\n",
       "      <th>cleaned_description</th>\n",
       "      <th>description_embedding</th>\n",
       "    </tr>\n",
       "  </thead>\n",
       "  <tbody>\n",
       "    <tr>\n",
       "      <th>0</th>\n",
       "      <td>100001</td>\n",
       "      <td>Black Ethnic Motifs Printed Kurta with Palazzo...</td>\n",
       "      <td>5099</td>\n",
       "      <td>Black</td>\n",
       "      <td>4.418398939</td>\n",
       "      <td>Black printed Kurta with Palazzos with dupatta...</td>\n",
       "      <td>[-0.022137021645903587, 0.08476054668426514, -...</td>\n",
       "    </tr>\n",
       "    <tr>\n",
       "      <th>1</th>\n",
       "      <td>100002</td>\n",
       "      <td>Orange Solid Kurta with Palazzos &amp; Floral Prin...</td>\n",
       "      <td>5899</td>\n",
       "      <td>Orange</td>\n",
       "      <td>4.11933395</td>\n",
       "      <td>Orange solid Kurta with Palazzos with dupattaK...</td>\n",
       "      <td>[-0.018848655745387077, 0.065238818526268, -0....</td>\n",
       "    </tr>\n",
       "    <tr>\n",
       "      <th>2</th>\n",
       "      <td>100003</td>\n",
       "      <td>Navy Blue Ethnic Motifs Embroidered Thread Wor...</td>\n",
       "      <td>4899</td>\n",
       "      <td>Navy Blue</td>\n",
       "      <td>4.16152968</td>\n",
       "      <td>Navy blue embroidered Kurta with Trousers with...</td>\n",
       "      <td>[-0.06157408282160759, 0.08424308151006699, 0....</td>\n",
       "    </tr>\n",
       "    <tr>\n",
       "      <th>3</th>\n",
       "      <td>100004</td>\n",
       "      <td>Red Floral Printed Kurta With Trouser &amp; Dupatta</td>\n",
       "      <td>3699</td>\n",
       "      <td>Red</td>\n",
       "      <td>4.088986142</td>\n",
       "      <td>Red printed kurta with trouser and dupattaKurt...</td>\n",
       "      <td>[-0.05737128108739853, 0.07336778193712234, -0...</td>\n",
       "    </tr>\n",
       "    <tr>\n",
       "      <th>4</th>\n",
       "      <td>100005</td>\n",
       "      <td>Black &amp; Green Printed Straight Kurta</td>\n",
       "      <td>1350</td>\n",
       "      <td>Black</td>\n",
       "      <td>3.978377362</td>\n",
       "      <td>Black and green printed straight kurta, has a ...</td>\n",
       "      <td>[-0.044882744550704956, 0.088098905980587, 0.0...</td>\n",
       "    </tr>\n",
       "  </tbody>\n",
       "</table>\n",
       "</div>"
      ],
      "text/plain": [
       "     p_id                                               name  price  \\\n",
       "0  100001  Black Ethnic Motifs Printed Kurta with Palazzo...   5099   \n",
       "1  100002  Orange Solid Kurta with Palazzos & Floral Prin...   5899   \n",
       "2  100003  Navy Blue Ethnic Motifs Embroidered Thread Wor...   4899   \n",
       "3  100004    Red Floral Printed Kurta With Trouser & Dupatta   3699   \n",
       "4  100005               Black & Green Printed Straight Kurta   1350   \n",
       "\n",
       "      colour   avg_rating                                cleaned_description  \\\n",
       "0      Black  4.418398939  Black printed Kurta with Palazzos with dupatta...   \n",
       "1     Orange   4.11933395  Orange solid Kurta with Palazzos with dupattaK...   \n",
       "2  Navy Blue   4.16152968  Navy blue embroidered Kurta with Trousers with...   \n",
       "3        Red  4.088986142  Red printed kurta with trouser and dupattaKurt...   \n",
       "4      Black  3.978377362  Black and green printed straight kurta, has a ...   \n",
       "\n",
       "                               description_embedding  \n",
       "0  [-0.022137021645903587, 0.08476054668426514, -...  \n",
       "1  [-0.018848655745387077, 0.065238818526268, -0....  \n",
       "2  [-0.06157408282160759, 0.08424308151006699, 0....  \n",
       "3  [-0.05737128108739853, 0.07336778193712234, -0...  \n",
       "4  [-0.044882744550704956, 0.088098905980587, 0.0...  "
      ]
     },
     "execution_count": 68,
     "metadata": {},
     "output_type": "execute_result"
    }
   ],
   "source": [
    "\n",
    "# Generate embeddings\n",
    "# print(type(df['description_embedding']))\n",
    "df['description_embedding'] = df['cleaned_description'].apply(lambda x: model.encode(x).tolist())\n",
    "\n",
    "# Show the DataFrame with embeddings\n",
    "df.head(5)\n"
   ]
  },
  {
   "cell_type": "markdown",
   "metadata": {},
   "source": [
    "### 2. Sparse Embeddings - BM25 Embeddings - keyword based"
   ]
  },
  {
   "cell_type": "code",
   "execution_count": 69,
   "metadata": {},
   "outputs": [],
   "source": [
    "corpus = df['name'].tolist()"
   ]
  },
  {
   "cell_type": "code",
   "execution_count": 70,
   "metadata": {},
   "outputs": [
    {
     "name": "stdout",
     "output_type": "stream",
     "text": [
      "tokens: [['black', 'ethnic', 'motif', 'print', 'kurta', 'palazzo', 'dupatta'], ['orang', 'solid', 'kurta', 'palazzo', 'floral', 'print', 'dupatta'], ['navi', 'blue', 'ethnic', 'motif', 'embroid', 'thread', 'work', 'kurta', 'trouser', 'dupatta'], ['red', 'floral', 'print', 'kurta', 'trouser', 'dupatta'], ['black', 'green', 'print', 'straight', 'kurta'], ['red', 'thread', 'work', 'georgett', 'anarkali', 'kurta'], ['navi', 'blue', 'pure', 'cotton', 'floral', 'print', 'kurta', 'palazzo', 'dupatta'], ['beig', 'floral', 'print', 'regular', 'got', 'ta', 'patti', 'kurta', 'palazzo', 'dupatta'], ['yellow', 'white', 'print', 'kurta', 'palazzo'], ['green', 'pink', 'print', 'pure', 'cotton', 'kurta', 'palazzo', 'dupatta'], ['floral', 'bliss', 'side', 'pocket', 'cotton', 'kurta', 'set'], ['mustard', 'yellow', 'floral', 'yoke', 'embroid', 'straight', 'kurta'], ['teal', 'ethnic', 'motif', 'yoke', 'design', 'kurta', 'trouser', 'dupatta'], ['navi', 'blue', 'floral', 'print', 'regular', 'pure', 'cotton', 'kurta', 'palazzo'], ['peach-colour', 'yoke', 'design', 'mirror-work', 'kurta', 'trouser', 'dupatta'], ['maroon', 'ethnic', 'motif', 'yoke', 'design', 'thread', 'work', 'kurta', 'trouser', 'dupatta'], ['yellow', 'peach-colour', 'floral', 'screen', 'print', 'got', 'ta', 'patti', 'straight', 'kurta'], ['floral', 'print', 'straight', 'cotton', 'kurta', 'keyhol', 'neck'], ['black', 'orang', 'bandhani', 'print', 'kurta'], ['navi', 'blue', 'floral', 'embroid', 'thread', 'work', 'kurta'], ['blue', 'embroid', 'panel', 'kurta', 'churidar', 'dupatta'], ['blue', 'orang', 'ethnic', 'motif', 'print', 'kurta', 'trouser', 'dupatta'], ['sea', 'green', 'floral', 'yoke', 'design', 'pleat', 'pure', 'cotton', 'top', 'skirt', 'dupatta'], ['blue', 'green', 'print', 'kurta', 'palazzo', 'dupatta'], ['pink', 'blue', 'ethnic', 'motif', 'embroid', 'kurta', 'trouser', 'dupatta'], ['teal', 'floral', 'panel', 'kurta', 'palazzo', 'dupatta'], ['red', 'orang', 'bandhani', 'print', 'anarkali', 'kurta'], ['maroon', 'print', 'kurta', 'palazzo', 'dupatta'], ['pink', 'off-whit', 'floral', 'screen', 'print', 'a-lin', 'pure', 'cotton', 'kurta', 'set', 'dupatta'], ['lime', 'green', 'embroid', 'layer', 'thread', 'work', 'top', 'sharara', 'dupatta'], ['floral', 'screen', 'print', 'cotton', 'kurta', 'set'], ['pink', 'floral', 'embroid', 'got', 'ta', 'patti', 'kurta', 'skirt', 'dupatta'], ['teal', 'blue', 'pink', 'yoke', 'design', 'regular', 'kurta', 'trouser', 'dupatta'], ['maroon', 'grey', 'ethnic', 'motif', 'print', 'a-lin', 'kurta'], ['green', 'mustard', 'yellow', 'print', 'straight', 'kurta'], ['maroon', 'gold', 'print', 'kurti', 'sharara', 'dupatta'], ['black', 'mustard', 'yellow', 'solid', 'kurta', 'trouser', 'dupatta'], ['teal', 'ethnic', 'motif', 'print', 'empir', 'thread', 'work', 'pure', 'cotton', 'kurta', 'trouser', 'dupatta'], ['red', 'floral', 'print', 'a-lin', 'kurta'], ['pink', 'ethnic', 'motif', 'kurta'], ['fluoresc', 'green', 'embroid', 'pure', 'cotton', 'salwar', 'suit'], ['pink', 'ethnic', 'motif', 'block', 'print', 'anarkali', 'kurta'], ['mustard', 'yellow', 'red', 'geometr', 'print', 'kurta'], ['teal', 'floral', 'embroid', 'sequin', 'kurta', 'trouser', 'dupatta'], ['red', 'bandhani', 'print', 'got', 'ta', 'patti', 'kurta'], ['pink', 'floral', 'embroid', 'layer', 'got', 'ta', 'patti', 'kurti', 'sharara', 'dupatta'], ['navi', 'blue', 'grey', 'ethnic', 'motif', 'print', 'mirror', 'work', 'kurta', 'palazzo'], ['lavend', 'floral', 'print', 'pure', 'cotton', 'kurta', 'set', 'dupatta'], ['beig', 'black', 'pure', 'cotton', 'print', 'kurta', 'salwar'], ['green', 'stripe', 'pure', 'cotton', 'kurta', 'trouser', 'dupatta']]\n"
     ]
    }
   ],
   "source": [
    "tokens = []\n",
    "for i in corpus:\n",
    "    tokens.append(analyzer(i))\n",
    "print(\"tokens:\", tokens)"
   ]
  },
  {
   "cell_type": "code",
   "execution_count": 71,
   "metadata": {},
   "outputs": [],
   "source": [
    "import os\n",
    "\n",
    "os.environ[\"TOKENIZERS_PARALLELISM\"] = \"false\"\n",
    "bm25_ef = BM25EmbeddingFunction(analyzer)\n",
    "\n",
    "bm25_ef.fit(corpus)"
   ]
  },
  {
   "cell_type": "code",
   "execution_count": 72,
   "metadata": {},
   "outputs": [],
   "source": [
    "# Create embeddings for the documents\n",
    "docs_embeddings = bm25_ef.encode_documents(corpus)\n",
    "\n",
    "# print(\"Embeddings:\", docs_embeddings)\n",
    "# Since the output embeddings are in a 2D csr_array format, we convert them to a list for easier manipulation.\n",
    "#print(\"Sparse dim:\", bm25_ef.dim, list(docs_embeddings)[0].shape)"
   ]
  },
  {
   "cell_type": "code",
   "execution_count": 73,
   "metadata": {},
   "outputs": [
    {
     "data": {
      "text/plain": [
       "(50, 70)"
      ]
     },
     "execution_count": 73,
     "metadata": {},
     "output_type": "execute_result"
    }
   ],
   "source": [
    "docs_embeddings.shape"
   ]
  },
  {
   "cell_type": "code",
   "execution_count": 74,
   "metadata": {},
   "outputs": [],
   "source": [
    "# Convert into a format the Milvus expects\n",
    "import numpy as np\n",
    "\n",
    "def csr_to_dict_list(csr_array):\n",
    "    result = []\n",
    "    indptr = csr_array.indptr\n",
    "    indices = csr_array.indices\n",
    "    data = csr_array.data\n",
    "\n",
    "    for i in range(csr_array.shape[0]):\n",
    "        start, end = indptr[i], indptr[i+1]\n",
    "        row_indices = indices[start:end]\n",
    "        row_data = data[start:end]\n",
    "        row_dict = dict(zip(row_indices, row_data))\n",
    "        result.append(row_dict)\n",
    "    \n",
    "    return result\n",
    "\n",
    "# Use the function\n",
    "converted_data = csr_to_dict_list(docs_embeddings)"
   ]
  },
  {
   "cell_type": "code",
   "execution_count": 75,
   "metadata": {},
   "outputs": [
    {
     "data": {
      "text/html": [
       "<div>\n",
       "<style scoped>\n",
       "    .dataframe tbody tr th:only-of-type {\n",
       "        vertical-align: middle;\n",
       "    }\n",
       "\n",
       "    .dataframe tbody tr th {\n",
       "        vertical-align: top;\n",
       "    }\n",
       "\n",
       "    .dataframe thead th {\n",
       "        text-align: right;\n",
       "    }\n",
       "</style>\n",
       "<table border=\"1\" class=\"dataframe\">\n",
       "  <thead>\n",
       "    <tr style=\"text-align: right;\">\n",
       "      <th></th>\n",
       "      <th>p_id</th>\n",
       "      <th>name</th>\n",
       "      <th>cleaned_description</th>\n",
       "      <th>price</th>\n",
       "      <th>avg_rating</th>\n",
       "      <th>colour</th>\n",
       "      <th>name_embedding</th>\n",
       "      <th>description_embedding</th>\n",
       "    </tr>\n",
       "  </thead>\n",
       "  <tbody>\n",
       "    <tr>\n",
       "      <th>0</th>\n",
       "      <td>100001</td>\n",
       "      <td>Black Ethnic Motifs Printed Kurta with Palazzo...</td>\n",
       "      <td>Black printed Kurta with Palazzos with dupatta...</td>\n",
       "      <td>5099</td>\n",
       "      <td>4.418398939</td>\n",
       "      <td>Black</td>\n",
       "      <td>{0: 1.0285399, 1: 1.0285399, 2: 1.0285399, 3: ...</td>\n",
       "      <td>[-0.022137021645903587, 0.08476054668426514, -...</td>\n",
       "    </tr>\n",
       "    <tr>\n",
       "      <th>1</th>\n",
       "      <td>100002</td>\n",
       "      <td>Orange Solid Kurta with Palazzos &amp; Floral Prin...</td>\n",
       "      <td>Orange solid Kurta with Palazzos with dupattaK...</td>\n",
       "      <td>5899</td>\n",
       "      <td>4.11933395</td>\n",
       "      <td>Orange</td>\n",
       "      <td>{3: 1.0285399, 4: 1.0285399, 5: 1.0285399, 6: ...</td>\n",
       "      <td>[-0.018848655745387077, 0.065238818526268, -0....</td>\n",
       "    </tr>\n",
       "    <tr>\n",
       "      <th>2</th>\n",
       "      <td>100003</td>\n",
       "      <td>Navy Blue Ethnic Motifs Embroidered Thread Wor...</td>\n",
       "      <td>Navy blue embroidered Kurta with Trousers with...</td>\n",
       "      <td>4899</td>\n",
       "      <td>4.16152968</td>\n",
       "      <td>Navy Blue</td>\n",
       "      <td>{1: 0.8671394, 2: 0.8671394, 4: 0.8671394, 6: ...</td>\n",
       "      <td>[-0.06157408282160759, 0.08424308151006699, 0....</td>\n",
       "    </tr>\n",
       "    <tr>\n",
       "      <th>3</th>\n",
       "      <td>100004</td>\n",
       "      <td>Red Floral Printed Kurta With Trouser &amp; Dupatta</td>\n",
       "      <td>Red printed kurta with trouser and dupattaKurt...</td>\n",
       "      <td>3699</td>\n",
       "      <td>4.088986142</td>\n",
       "      <td>Red</td>\n",
       "      <td>{3: 1.096575, 4: 1.096575, 6: 1.096575, 9: 1.0...</td>\n",
       "      <td>[-0.05737128108739853, 0.07336778193712234, -0...</td>\n",
       "    </tr>\n",
       "    <tr>\n",
       "      <th>4</th>\n",
       "      <td>100005</td>\n",
       "      <td>Black &amp; Green Printed Straight Kurta</td>\n",
       "      <td>Black and green printed straight kurta, has a ...</td>\n",
       "      <td>1350</td>\n",
       "      <td>3.978377362</td>\n",
       "      <td>Black</td>\n",
       "      <td>{0: 1.1742483, 3: 1.1742483, 4: 1.1742483, 17:...</td>\n",
       "      <td>[-0.044882744550704956, 0.088098905980587, 0.0...</td>\n",
       "    </tr>\n",
       "  </tbody>\n",
       "</table>\n",
       "</div>"
      ],
      "text/plain": [
       "     p_id                                               name  \\\n",
       "0  100001  Black Ethnic Motifs Printed Kurta with Palazzo...   \n",
       "1  100002  Orange Solid Kurta with Palazzos & Floral Prin...   \n",
       "2  100003  Navy Blue Ethnic Motifs Embroidered Thread Wor...   \n",
       "3  100004    Red Floral Printed Kurta With Trouser & Dupatta   \n",
       "4  100005               Black & Green Printed Straight Kurta   \n",
       "\n",
       "                                 cleaned_description  price   avg_rating  \\\n",
       "0  Black printed Kurta with Palazzos with dupatta...   5099  4.418398939   \n",
       "1  Orange solid Kurta with Palazzos with dupattaK...   5899   4.11933395   \n",
       "2  Navy blue embroidered Kurta with Trousers with...   4899   4.16152968   \n",
       "3  Red printed kurta with trouser and dupattaKurt...   3699  4.088986142   \n",
       "4  Black and green printed straight kurta, has a ...   1350  3.978377362   \n",
       "\n",
       "      colour                                     name_embedding  \\\n",
       "0      Black  {0: 1.0285399, 1: 1.0285399, 2: 1.0285399, 3: ...   \n",
       "1     Orange  {3: 1.0285399, 4: 1.0285399, 5: 1.0285399, 6: ...   \n",
       "2  Navy Blue  {1: 0.8671394, 2: 0.8671394, 4: 0.8671394, 6: ...   \n",
       "3        Red  {3: 1.096575, 4: 1.096575, 6: 1.096575, 9: 1.0...   \n",
       "4      Black  {0: 1.1742483, 3: 1.1742483, 4: 1.1742483, 17:...   \n",
       "\n",
       "                               description_embedding  \n",
       "0  [-0.022137021645903587, 0.08476054668426514, -...  \n",
       "1  [-0.018848655745387077, 0.065238818526268, -0....  \n",
       "2  [-0.06157408282160759, 0.08424308151006699, 0....  \n",
       "3  [-0.05737128108739853, 0.07336778193712234, -0...  \n",
       "4  [-0.044882744550704956, 0.088098905980587, 0.0...  "
      ]
     },
     "execution_count": 75,
     "metadata": {},
     "output_type": "execute_result"
    }
   ],
   "source": [
    "df['name_embedding'] = converted_data\n",
    "df = df[['p_id','name','cleaned_description','price','avg_rating','colour','name_embedding','description_embedding']]\n",
    "df.head(5)"
   ]
  },
  {
   "cell_type": "markdown",
   "metadata": {},
   "source": [
    "# Ingestion"
   ]
  },
  {
   "cell_type": "code",
   "execution_count": 76,
   "metadata": {},
   "outputs": [
    {
     "name": "stdout",
     "output_type": "stream",
     "text": [
      "Data inserted successfully: {'insert_count': 50, 'ids': [100001, 100002, 100003, 100004, 100005, 100006, 100007, 100008, 100009, 100010, 100011, 100012, 100013, 100014, 100015, 100016, 100017, 100018, 100019, 100020, 100021, 100022, 100023, 100024, 100025, 100026, 100027, 100028, 100029, 100030, 100031, 100032, 100033, 100034, 100035, 100036, 100037, 100038, 100039, 100040, 100041, 100042, 100043, 100044, 100045, 100046, 100047, 100048, 100049, 100050]}\n"
     ]
    }
   ],
   "source": [
    "# Prepare data for insertion as an array of dictionaries\n",
    "data_to_insert = [\n",
    "    {\n",
    "        \"p_id\": int(row[\"p_id\"]),\n",
    "        \"name\": str(row[\"name\"]),\n",
    "        \"cleaned_description\": str(row[\"cleaned_description\"]),\n",
    "        \"price\": float(row[\"price\"]),\n",
    "        \"avg_rating\": float(row[\"avg_rating\"]),\n",
    "        \"colour\": row[\"colour\"],\n",
    "        \"name_embedding\": row[\"name_embedding\"],\n",
    "        \"description_embedding\": row[\"description_embedding\"],\n",
    "    }\n",
    "    for _, row in df.iterrows()\n",
    "]\n",
    "\n",
    "# Insert data into the Milvus collection\n",
    "res = milvus_client.insert(\n",
    "    collection_name=COLLECTION_NAME,\n",
    "    data=data_to_insert\n",
    ")\n",
    "\n",
    "print(\"Data inserted successfully:\", res)"
   ]
  },
  {
   "cell_type": "markdown",
   "metadata": {},
   "source": [
    "## Searching with Filter Templating\n",
    "\n",
    "To use filter templating,define a filter expression with placeholders. During execution, substitute the placeholders with actual values dynamically. This approach avoids embedding large or complex expressions directly into the filter.\n",
    "\n",
    "more on it [Filter Templating](https://milvus.io/docs/filtering-templating.md#Filter-Templating)"
   ]
  },
  {
   "cell_type": "code",
   "execution_count": 77,
   "metadata": {},
   "outputs": [],
   "source": [
    "query1 = [\"show me cloths that are flowy and with flower designs\"]"
   ]
  },
  {
   "cell_type": "code",
   "execution_count": 78,
   "metadata": {},
   "outputs": [
    {
     "name": "stdout",
     "output_type": "stream",
     "text": [
      "Query text ST Embeddings: (1, 384)\n"
     ]
    }
   ],
   "source": [
    "#semantic search\n",
    "st_query_embeddings = model.encode(query1)\n",
    "print(\"Query text ST Embeddings:\", st_query_embeddings.shape)\n"
   ]
  },
  {
   "cell_type": "code",
   "execution_count": 80,
   "metadata": {},
   "outputs": [
    {
     "name": "stdout",
     "output_type": "stream",
     "text": [
      "\n",
      "name: Red Floral Print A-Line Kurta\n",
      "Price: 1699.0\n",
      "cleaned_description: Red Floral Print A-line kurta, has a round neck, short sleeves, flared hem, has gathers along the waistThe model (height 5'8\") is wearing a size S100% viscoseHand-wash\n",
      "\n",
      "name: Red Bandhani Printed Gotta Patti Kurta\n",
      "Price: 2999.0\n",
      "cleaned_description:   Colour: red   Bandhani printed   Round neck   Three-quarter,  regular sleeves   Straight shape with regular style   Gotta patti detail   Calf length with straight hem   Machine weave regular cotton  Cotton  Hand wash The model (height 5'8) is wearing a size S\n",
      "\n",
      "name: Black & Orange Bandhani Printed Kurta\n",
      "Price: 1699.0\n",
      "cleaned_description: Colour: black and orangeBandhani printedMandarin collarButton closureSleeveless, no sleevesA-line shape with regular styleCalf length with flared hemMachine weave regular viscose rayonThe model (height 5'8) is wearing a size SViscose rayon  Machine wash\n"
     ]
    }
   ],
   "source": [
    "#use Filter Templating\n",
    "query_vector = st_query_embeddings\n",
    "expr = \"price < {price} and avg_rating > {avg_rating} and colour in {colour}\"\n",
    "filter_params = {\"price\": 3000, \"avg_rating\": 3.5, \"colour\": [\"Black\", \"Red\"]}\n",
    "res = milvus_client.search(\n",
    "    collection_name=COLLECTION_NAME,\n",
    "    data=query_vector,\n",
    "    limit=3,\n",
    "    filter=expr, #scalar filter - to keep price lower than 3000 and rating a minimum 3.5 \n",
    "    output_fields=[\"name\", \"price\", \"cleaned_description\"],\n",
    "    anns_field= \"description_embedding\",\n",
    "    filter_params=filter_params\n",
    ")\n",
    "\n",
    "for hit in res[0]:\n",
    "    entity = hit['entity']\n",
    "    print(f\"\\nname: {entity['name']}\\nPrice: {entity['price']}\\ncleaned_description: {entity['cleaned_description']}\")"
   ]
  }
 ],
 "metadata": {
  "kernelspec": {
   "display_name": "Python 3",
   "language": "python",
   "name": "python3"
  },
  "language_info": {
   "codemirror_mode": {
    "name": "ipython",
    "version": 3
   },
   "file_extension": ".py",
   "mimetype": "text/x-python",
   "name": "python",
   "nbconvert_exporter": "python",
   "pygments_lexer": "ipython3",
   "version": "3.11.9"
  }
 },
 "nbformat": 4,
 "nbformat_minor": 2
}
