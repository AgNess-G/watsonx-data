{
 "cells": [
  {
   "cell_type": "code",
   "execution_count": null,
   "metadata": {},
   "outputs": [],
   "source": [
    "# Incase any changes are made to the milvus library, create a new build\n",
    "!poetry build"
   ]
  },
  {
   "cell_type": "code",
   "execution_count": null,
   "metadata": {},
   "outputs": [],
   "source": [
    "# Install the milvus library build pkg generated using poetry\n",
    "\n",
    "%pip install dist/milvus_library-1.0.0-py3-none-any.whl"
   ]
  },
  {
   "cell_type": "code",
   "execution_count": null,
   "metadata": {},
   "outputs": [],
   "source": [
    "# User input the values of crn, platform type, database name, service name\n",
    "import pkg_resources, configparser\n",
    "\n",
    "file_path = pkg_resources.resource_filename(\"milvus_library\", \"config.properties\")\n",
    "config=configparser.ConfigParser()\n",
    "config.read(file_path)\n",
    "\n",
    "platform = input(\"Platform type: \")\n",
    "database = input(\"Database name: \")\n",
    "service_name = input(\"Milvus service name: \")\n",
    "\n",
    "# Print the values:\n",
    "print(f\"service_name: {service_name}\")\n",
    "print(f\"platform: {platform}\")\n",
    "print(f\"database: {database}\")\n",
    "\n",
    "# Setting the config property values\n",
    "config.set(\"GENERAL\", \"platform\", platform)\n",
    "config.set(\"GENERAL\", \"database\", database)\n",
    "config.set(\"GENERAL\", \"service_name\", service_name)\n",
    "\n",
    "if platform == \"saas\":\n",
    "    # User inputs\n",
    "    crn = input(\"Wxd crn: \")\n",
    "    password = input(\"API key: \")\n",
    "    print(f\"crn: {crn}\")\n",
    "    print(f\"password: {password}\")\n",
    "    config.set(\"SAAS\", \"password\", password)\n",
    "    config.set(\"SAAS\", \"crn\", crn)\n",
    "\n",
    "if platform == \"cpd\":\n",
    "    cpd_url = input(\"cpd_url: \")\n",
    "    password = input(\"password: \")\n",
    "    instanceid = input(\"instanceid: \")\n",
    "\n",
    "    print(f\"cpd_url: {cpd_url}\")\n",
    "    print(f\"password: {password}\")\n",
    "    print(f\"instanceid: {instanceid}\")\n",
    "    config.set(\"CPD\", \"cpd_url\", cpd_url)\n",
    "    config.set(\"CPD\", \"password\", password)\n",
    "    config.set(\"CPD\", \"instanceid\", instanceid)\n",
    "\n",
    "# writing the config properties to the file\n",
    "with open(file_path, \"w\") as configfile:\n",
    "    config.write(configfile)"
   ]
  },
  {
   "cell_type": "code",
   "execution_count": null,
   "metadata": {},
   "outputs": [],
   "source": [
    "import milvus_library.getConfigProperties"
   ]
  },
  {
   "cell_type": "code",
   "execution_count": null,
   "metadata": {},
   "outputs": [],
   "source": [
    "# Import the milvusRunner and establish the connection\n",
    "import milvus_library.milvusRunner\n"
   ]
  },
  {
   "cell_type": "code",
   "execution_count": null,
   "metadata": {},
   "outputs": [],
   "source": [
    "# After milvus connection is established, users can create a new databases\n",
    "# Note: Database name MUST be unique\n",
    "from pymilvus import db\n",
    "\n",
    "# List the existing databases associated with current milvus service\n",
    "db.list_database()"
   ]
  },
  {
   "cell_type": "code",
   "execution_count": null,
   "metadata": {},
   "outputs": [],
   "source": [
    "from pymilvus import db\n",
    "# Create a new database in the milvus service\n",
    "db.create_database(\"demo_db1\")\n"
   ]
  },
  {
   "cell_type": "code",
   "execution_count": null,
   "metadata": {},
   "outputs": [],
   "source": [
    "from pymilvus import db\n",
    "# Delete a database\n",
    "db.drop_database(\"demo_db\")"
   ]
  }
 ],
 "metadata": {
  "kernelspec": {
   "display_name": "milvus_venv",
   "language": "python",
   "name": "python3"
  },
  "language_info": {
   "codemirror_mode": {
    "name": "ipython",
    "version": 3
   },
   "file_extension": ".py",
   "mimetype": "text/x-python",
   "name": "python",
   "nbconvert_exporter": "python",
   "pygments_lexer": "ipython3",
   "version": "3.9.6"
  }
 },
 "nbformat": 4,
 "nbformat_minor": 2
}
